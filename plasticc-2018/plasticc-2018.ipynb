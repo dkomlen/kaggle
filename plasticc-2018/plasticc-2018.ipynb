{
 "cells": [
  {
   "cell_type": "code",
   "execution_count": 178,
   "metadata": {},
   "outputs": [
    {
     "name": "stdout",
     "output_type": "stream",
     "text": [
      "Requirement already up-to-date: pip in /Users/dkomlen/anaconda3/lib/python3.7/site-packages (18.1)\n",
      "Requirement already satisfied: cesium in /Users/dkomlen/anaconda3/lib/python3.7/site-packages (0.9.9)\n",
      "Requirement already satisfied: scipy>=0.16.0 in /Users/dkomlen/anaconda3/lib/python3.7/site-packages (from cesium) (1.1.0)\n",
      "Requirement already satisfied: pandas>=0.17.0 in /Users/dkomlen/anaconda3/lib/python3.7/site-packages (from cesium) (0.23.4)\n",
      "Requirement already satisfied: toolz in /Users/dkomlen/anaconda3/lib/python3.7/site-packages (from cesium) (0.9.0)\n",
      "Requirement already satisfied: dask>=1.0.0 in /Users/dkomlen/anaconda3/lib/python3.7/site-packages (from cesium) (1.0.0)\n",
      "Requirement already satisfied: cloudpickle in /Users/dkomlen/anaconda3/lib/python3.7/site-packages (from cesium) (0.5.5)\n",
      "Requirement already satisfied: gatspy>=0.3.0 in /Users/dkomlen/anaconda3/lib/python3.7/site-packages (from cesium) (0.3)\n",
      "Requirement already satisfied: scikit-learn>=0.18.1 in /Users/dkomlen/anaconda3/lib/python3.7/site-packages (from cesium) (0.19.2)\n",
      "Requirement already satisfied: python-dateutil>=2.5.0 in /Users/dkomlen/anaconda3/lib/python3.7/site-packages (from pandas>=0.17.0->cesium) (2.7.3)\n",
      "Requirement already satisfied: pytz>=2011k in /Users/dkomlen/anaconda3/lib/python3.7/site-packages (from pandas>=0.17.0->cesium) (2018.5)\n",
      "Requirement already satisfied: numpy>=1.9.0 in /Users/dkomlen/anaconda3/lib/python3.7/site-packages (from pandas>=0.17.0->cesium) (1.15.1)\n",
      "Requirement already satisfied: six>=1.5 in /Users/dkomlen/anaconda3/lib/python3.7/site-packages (from python-dateutil>=2.5.0->pandas>=0.17.0->cesium) (1.11.0)\n"
     ]
    }
   ],
   "source": [
    "import sys\n",
    "import os\n",
    "import multiprocessing as mp\n",
    "from collections import OrderedDict\n",
    "\n",
    "import pandas as pd\n",
    "import numpy as np\n",
    "import seaborn as sb\n",
    "from tqdm import tqdm_notebook as tqdm\n",
    "import matplotlib.pyplot as plt\n",
    "\n",
    "!pip install --upgrade pip\n",
    "!pip install cesium\n",
    "\n",
    "from cesium.time_series import TimeSeries\n",
    "import cesium.featurize as featurize"
   ]
  },
  {
   "cell_type": "markdown",
   "metadata": {},
   "source": [
    "### Baseline"
   ]
  },
  {
   "cell_type": "code",
   "execution_count": 2,
   "metadata": {},
   "outputs": [],
   "source": [
    "sample = pd.read_csv('data/sample_submission.csv')"
   ]
  },
  {
   "cell_type": "code",
   "execution_count": 3,
   "metadata": {},
   "outputs": [],
   "source": [
    "baseline = pd.DataFrame(0.066, index=np.arange(len(sample)), columns=sample.columns)\n",
    "baseline['object_id'] = sample['object_id']"
   ]
  },
  {
   "cell_type": "code",
   "execution_count": 26,
   "metadata": {},
   "outputs": [],
   "source": [
    "baseline.to_csv('baseline_submission.csv.gz', compression='gzip', index=False)"
   ]
  },
  {
   "cell_type": "markdown",
   "metadata": {},
   "source": [
    "### Data exploration"
   ]
  },
  {
   "cell_type": "code",
   "execution_count": 98,
   "metadata": {},
   "outputs": [
    {
     "name": "stdout",
     "output_type": "stream",
     "text": [
      "-rw-r--r--  1 dkomlen  ANT\\Domain Users   330M Oct 28 12:15 data/baseline_submission.csv\r\n",
      "-rwxrwxrwx  1 dkomlen  ANT\\Domain Users   130M Sep 27 20:11 \u001b[31mdata/sample_submission.csv\u001b[m\u001b[m\r\n",
      "-rw-r--r--  1 dkomlen  ANT\\Domain Users   1.4G Oct 28 12:00 data/test_set.csv\r\n",
      "-rwxrwxrwx  1 dkomlen  ANT\\Domain Users    37M Sep 27 20:11 \u001b[31mdata/test_set_sample.csv\u001b[m\u001b[m\r\n",
      "-rwxrwxrwx  1 dkomlen  ANT\\Domain Users    57M Sep 27 20:11 \u001b[31mdata/training_set.csv\u001b[m\u001b[m\r\n",
      "-rw-r--r--  1 dkomlen  ANT\\Domain Users   689K Oct 28 11:53 data/training_set_metadata.csv\r\n"
     ]
    }
   ],
   "source": [
    "!ls -hal data/*.csv"
   ]
  },
  {
   "cell_type": "code",
   "execution_count": 14,
   "metadata": {},
   "outputs": [
    {
     "data": {
      "text/html": [
       "<div>\n",
       "<style scoped>\n",
       "    .dataframe tbody tr th:only-of-type {\n",
       "        vertical-align: middle;\n",
       "    }\n",
       "\n",
       "    .dataframe tbody tr th {\n",
       "        vertical-align: top;\n",
       "    }\n",
       "\n",
       "    .dataframe thead th {\n",
       "        text-align: right;\n",
       "    }\n",
       "</style>\n",
       "<table border=\"1\" class=\"dataframe\">\n",
       "  <thead>\n",
       "    <tr style=\"text-align: right;\">\n",
       "      <th></th>\n",
       "      <th>object_id</th>\n",
       "      <th>ra</th>\n",
       "      <th>decl</th>\n",
       "      <th>gal_l</th>\n",
       "      <th>gal_b</th>\n",
       "      <th>ddf</th>\n",
       "      <th>hostgal_specz</th>\n",
       "      <th>hostgal_photoz</th>\n",
       "      <th>hostgal_photoz_err</th>\n",
       "      <th>distmod</th>\n",
       "      <th>mwebv</th>\n",
       "      <th>target</th>\n",
       "    </tr>\n",
       "  </thead>\n",
       "  <tbody>\n",
       "    <tr>\n",
       "      <th>0</th>\n",
       "      <td>615</td>\n",
       "      <td>349.046051</td>\n",
       "      <td>-61.943836</td>\n",
       "      <td>320.796530</td>\n",
       "      <td>-51.753706</td>\n",
       "      <td>1</td>\n",
       "      <td>0.0000</td>\n",
       "      <td>0.0000</td>\n",
       "      <td>0.0000</td>\n",
       "      <td>NaN</td>\n",
       "      <td>0.017</td>\n",
       "      <td>92</td>\n",
       "    </tr>\n",
       "    <tr>\n",
       "      <th>1</th>\n",
       "      <td>713</td>\n",
       "      <td>53.085938</td>\n",
       "      <td>-27.784405</td>\n",
       "      <td>223.525509</td>\n",
       "      <td>-54.460748</td>\n",
       "      <td>1</td>\n",
       "      <td>1.8181</td>\n",
       "      <td>1.6267</td>\n",
       "      <td>0.2552</td>\n",
       "      <td>45.4063</td>\n",
       "      <td>0.007</td>\n",
       "      <td>88</td>\n",
       "    </tr>\n",
       "    <tr>\n",
       "      <th>2</th>\n",
       "      <td>730</td>\n",
       "      <td>33.574219</td>\n",
       "      <td>-6.579593</td>\n",
       "      <td>170.455585</td>\n",
       "      <td>-61.548219</td>\n",
       "      <td>1</td>\n",
       "      <td>0.2320</td>\n",
       "      <td>0.2262</td>\n",
       "      <td>0.0157</td>\n",
       "      <td>40.2561</td>\n",
       "      <td>0.021</td>\n",
       "      <td>42</td>\n",
       "    </tr>\n",
       "    <tr>\n",
       "      <th>3</th>\n",
       "      <td>745</td>\n",
       "      <td>0.189873</td>\n",
       "      <td>-45.586655</td>\n",
       "      <td>328.254458</td>\n",
       "      <td>-68.969298</td>\n",
       "      <td>1</td>\n",
       "      <td>0.3037</td>\n",
       "      <td>0.2813</td>\n",
       "      <td>1.1523</td>\n",
       "      <td>40.7951</td>\n",
       "      <td>0.007</td>\n",
       "      <td>90</td>\n",
       "    </tr>\n",
       "    <tr>\n",
       "      <th>4</th>\n",
       "      <td>1124</td>\n",
       "      <td>352.711273</td>\n",
       "      <td>-63.823658</td>\n",
       "      <td>316.922299</td>\n",
       "      <td>-51.059403</td>\n",
       "      <td>1</td>\n",
       "      <td>0.1934</td>\n",
       "      <td>0.2415</td>\n",
       "      <td>0.0176</td>\n",
       "      <td>40.4166</td>\n",
       "      <td>0.024</td>\n",
       "      <td>90</td>\n",
       "    </tr>\n",
       "  </tbody>\n",
       "</table>\n",
       "</div>"
      ],
      "text/plain": [
       "   object_id          ra       decl       gal_l      gal_b  ddf  \\\n",
       "0        615  349.046051 -61.943836  320.796530 -51.753706    1   \n",
       "1        713   53.085938 -27.784405  223.525509 -54.460748    1   \n",
       "2        730   33.574219  -6.579593  170.455585 -61.548219    1   \n",
       "3        745    0.189873 -45.586655  328.254458 -68.969298    1   \n",
       "4       1124  352.711273 -63.823658  316.922299 -51.059403    1   \n",
       "\n",
       "   hostgal_specz  hostgal_photoz  hostgal_photoz_err  distmod  mwebv  target  \n",
       "0         0.0000          0.0000              0.0000      NaN  0.017      92  \n",
       "1         1.8181          1.6267              0.2552  45.4063  0.007      88  \n",
       "2         0.2320          0.2262              0.0157  40.2561  0.021      42  \n",
       "3         0.3037          0.2813              1.1523  40.7951  0.007      90  \n",
       "4         0.1934          0.2415              0.0176  40.4166  0.024      90  "
      ]
     },
     "metadata": {},
     "output_type": "display_data"
    },
    {
     "data": {
      "text/html": [
       "<div>\n",
       "<style scoped>\n",
       "    .dataframe tbody tr th:only-of-type {\n",
       "        vertical-align: middle;\n",
       "    }\n",
       "\n",
       "    .dataframe tbody tr th {\n",
       "        vertical-align: top;\n",
       "    }\n",
       "\n",
       "    .dataframe thead th {\n",
       "        text-align: right;\n",
       "    }\n",
       "</style>\n",
       "<table border=\"1\" class=\"dataframe\">\n",
       "  <thead>\n",
       "    <tr style=\"text-align: right;\">\n",
       "      <th></th>\n",
       "      <th>object_id</th>\n",
       "      <th>mjd</th>\n",
       "      <th>passband</th>\n",
       "      <th>flux</th>\n",
       "      <th>flux_err</th>\n",
       "      <th>detected</th>\n",
       "    </tr>\n",
       "  </thead>\n",
       "  <tbody>\n",
       "    <tr>\n",
       "      <th>0</th>\n",
       "      <td>615</td>\n",
       "      <td>59750.4229</td>\n",
       "      <td>2</td>\n",
       "      <td>-544.810303</td>\n",
       "      <td>3.622952</td>\n",
       "      <td>1</td>\n",
       "    </tr>\n",
       "    <tr>\n",
       "      <th>1</th>\n",
       "      <td>615</td>\n",
       "      <td>59750.4306</td>\n",
       "      <td>1</td>\n",
       "      <td>-816.434326</td>\n",
       "      <td>5.553370</td>\n",
       "      <td>1</td>\n",
       "    </tr>\n",
       "    <tr>\n",
       "      <th>2</th>\n",
       "      <td>615</td>\n",
       "      <td>59750.4383</td>\n",
       "      <td>3</td>\n",
       "      <td>-471.385529</td>\n",
       "      <td>3.801213</td>\n",
       "      <td>1</td>\n",
       "    </tr>\n",
       "    <tr>\n",
       "      <th>3</th>\n",
       "      <td>615</td>\n",
       "      <td>59750.4450</td>\n",
       "      <td>4</td>\n",
       "      <td>-388.984985</td>\n",
       "      <td>11.395031</td>\n",
       "      <td>1</td>\n",
       "    </tr>\n",
       "    <tr>\n",
       "      <th>4</th>\n",
       "      <td>615</td>\n",
       "      <td>59752.4070</td>\n",
       "      <td>2</td>\n",
       "      <td>-681.858887</td>\n",
       "      <td>4.041204</td>\n",
       "      <td>1</td>\n",
       "    </tr>\n",
       "  </tbody>\n",
       "</table>\n",
       "</div>"
      ],
      "text/plain": [
       "   object_id         mjd  passband        flux   flux_err  detected\n",
       "0        615  59750.4229         2 -544.810303   3.622952         1\n",
       "1        615  59750.4306         1 -816.434326   5.553370         1\n",
       "2        615  59750.4383         3 -471.385529   3.801213         1\n",
       "3        615  59750.4450         4 -388.984985  11.395031         1\n",
       "4        615  59752.4070         2 -681.858887   4.041204         1"
      ]
     },
     "metadata": {},
     "output_type": "display_data"
    }
   ],
   "source": [
    "train_metadata = pd.read_csv('data/training_set_metadata.csv')\n",
    "train_observations = pd.read_csv('data/training_set.csv')\n",
    "\n",
    "display(train_metadata.head())\n",
    "display(train_observations.head())"
   ]
  },
  {
   "cell_type": "markdown",
   "metadata": {},
   "source": [
    "**Column Descriptions**\n",
    "\n",
    "Time:\n",
    "* mjd: the time in Modified Julian Date (MJD) of the observation. Can be read as days since November 17, 1858. Can be converted to Unix epoch time with the formula unix_time = (MJD−40587)×86400. Float64\n",
    "\n",
    "Observation data:\n",
    "* passband: The specific LSST passband integer, such that u, g, r, i, z, Y = 0, 1, 2, 3, 4, 5 in which it was viewed. Int8\n",
    "* flux: the measured flux (brightness) in the passband of observation as listed in the passband column. These values have already been corrected for dust extinction (mwebv), though heavily extincted objects will have larger uncertainties (flux_err) in spite of the correction. Float32\n",
    "* flux_err: the uncertainty on the measurement of the flux listed above. Float32\n",
    "* detected: If 1, the object's brightness is significantly different at the 3-sigma level relative to the reference template. Only objects with at least 2 detections are included in the dataset. Boolean\n",
    "* ddf: A flag to identify the object as coming from the DDF survey area (with value DDF = 1 for the DDF, DDF = 0 for the WFD survey). Note that while the DDF fields are contained within the full WFD survey area, the DDF fluxes have significantly smaller uncertainties. Boolean\n",
    "\n",
    "Object info:\n",
    "* object_id: unique object identifier. Int32\n",
    "* target: The class of the astronomical source. This is provided in the training data. Correctly determining the target (correctly assigning classification probabilities to the objects) is the ‘goal’ of the classification challenge for the test data. Note that there is one class in the test set that does not occur in the training set: class_99 serves as an \"other\" class for objects that don't belong in any of the 14 classes in the training set. Int8\n",
    "\n",
    "Object position:\n",
    "* ra: right ascension, sky coordinate: co-longitude in degrees. Float32\n",
    "* decl: declination, sky coordinate: co-latitude in degrees. Float32\n",
    "* gal_l: galactic longitude in degrees. Float32\n",
    "* gal_b: galactic latitude in degrees. Float32\n",
    "\n",
    "Red shift info, object distance:\n",
    "* hostgal_specz: the spectroscopic redshift of the source. This is an extremely accurate measure of redshift, available for the training set and a small fraction of the test set. Float32\n",
    "* hostgal_photoz: The photometric redshift of the host galaxy of the astronomical source. While this is meant to be a proxy for hostgal_specz, there can be large differences between the two and should be regarded as a far less accurate version of hostgal_specz. Float32\n",
    "* hostgal_photoz_err: The uncertainty on the hostgal_photoz based on LSST survey projections. Float32\n",
    "* distmod: The distance to the source calculated from hostgal_photoz and using general relativity. Float32\n",
    "* mwebv: MW E(B-V). this ‘extinction’ of light is a property of the Milky Way (MW) dust along the line of sight to the astronomical source, and is thus a function of the sky coordinates of the source ra, decl. This is used to determine a passband dependent dimming and redenning of light from astronomical sources as described in subsection 2.1, and based on the Schlafly et al. (2011) and Schlegel et al. (1998) dust models. Float32"
   ]
  },
  {
   "cell_type": "code",
   "execution_count": 15,
   "metadata": {
    "scrolled": false
   },
   "outputs": [
    {
     "data": {
      "text/plain": [
       "<matplotlib.axes._subplots.AxesSubplot at 0x1a24b6a550>"
      ]
     },
     "execution_count": 15,
     "metadata": {},
     "output_type": "execute_result"
    },
    {
     "data": {
      "image/png": "[encoded data removed]",
      "text/plain": [
       "<Figure size 432x288 with 1 Axes>"
      ]
     },
     "metadata": {
      "needs_background": "light"
     },
     "output_type": "display_data"
    }
   ],
   "source": [
    "train_metadata['target'].hist(bins=100)"
   ]
  },
  {
   "cell_type": "markdown",
   "metadata": {},
   "source": [
    "### Data preprocessing"
   ]
  },
  {
   "cell_type": "code",
   "execution_count": 28,
   "metadata": {},
   "outputs": [],
   "source": [
    "pb_map = OrderedDict([(0,'u'), (1,'g'), (2,'r'), (3,'i'), (4, 'z'), (5, 'y')])\n",
    "\n",
    "pb_cols = OrderedDict([(0,'blueviolet'), (1,'green'), (2,'red'),\\\n",
    "                      (3,'orange'), (4, 'black'), (5, 'brown')])\n",
    "\n",
    "pb_names = list(pb_map.values())"
   ]
  },
  {
   "cell_type": "code",
   "execution_count": 200,
   "metadata": {},
   "outputs": [],
   "source": [
    "def build_timeseries(metadata, observations):\n",
    "    timeseries = OrderedDict()\n",
    "    \n",
    "    for _, row in tqdm(metadata.iterrows(), desc='Building timeseries', total=len(metadata)):\n",
    "        obj_id = row['object_id']\n",
    "        obj_target = row.get('target', None)\n",
    "\n",
    "        obj_meta = {'z':row['hostgal_photoz'],\\\n",
    "                'zerr':row['hostgal_photoz_err'],\\\n",
    "                'mwebv':row['mwebv']}\n",
    "\n",
    "        obj_obs = observations[observations['object_id'] == obj_id]\n",
    "        pbind = [(obj_obs['passband'] == pb) for pb in pb_map]\n",
    "        \n",
    "        t = [obj_obs[obj_obs['passband'] == pb]['mjd'].values for pb in pb_map]\n",
    "        m = [obj_obs[obj_obs['passband'] == pb]['flux'].values for pb in pb_map]\n",
    "        e = [obj_obs[obj_obs['passband'] == pb]['flux_err'].values for pb in pb_map]\n",
    "\n",
    "        timeseries[obj_id] = TimeSeries(t=t, m=m, e=e,\\\n",
    "                            label=obj_target, name=obj_id, meta_features=obj_meta,\\\n",
    "                            channel_names=pb_names)\n",
    "\n",
    "    return timeseries"
   ]
  },
  {
   "cell_type": "code",
   "execution_count": 163,
   "metadata": {},
   "outputs": [],
   "source": [
    "def worker(obj_ts):\n",
    "    return featurize.featurize_single_ts(obj_ts,\\\n",
    "        features_to_use=[\"amplitude\",\n",
    "                   \"percent_beyond_1_std\",\n",
    "                   \"maximum\",\n",
    "                   \"max_slope\",\n",
    "                   \"median\",\n",
    "                   \"median_absolute_deviation\",\n",
    "                   \"percent_close_to_median\",\n",
    "                   \"minimum\",\n",
    "                   \"skew\",\n",
    "                   \"std\",\n",
    "                   \"weighted_average\"])\n",
    "\n",
    "def build_features(data_ts, file_prefix):\n",
    "    features_file = f'data/{file_prefix}_features.npz'\n",
    "    if os.path.exists(features_file):\n",
    "        print(f'Loading features snaphot from file: {features_file}')\n",
    "        features, _ = featurize.load_featureset(features_file)\n",
    "    else:\n",
    "        features_list = []\n",
    "        with tqdm(total=len(data_ts), desc=\"Computing features\") as pbar:\n",
    "            pool = mp.Pool()\n",
    "            for feat in pool.imap(worker, data_ts.values()):\n",
    "                features_list.append(feat)\n",
    "                pbar.update()\n",
    "            \n",
    "        features = featurize.assemble_featureset(features_list=features_list,\\\n",
    "                              time_series=data_ts.values())\n",
    "        featurize.save_featureset(fset=features, path=features_file)\n",
    "        \n",
    "    # Adjust dataframe to simple table\n",
    "    old_names = features.columns.values\n",
    "    new_names = ['{}_{}'.format(x, pb_map.get(y,'meta')) for x,y in old_names]\n",
    "    cols = [features[col].values for col in old_names]\n",
    "    return pd.DataFrame(np.transpose(cols), columns=new_names)"
   ]
  },
  {
   "cell_type": "code",
   "execution_count": 90,
   "metadata": {},
   "outputs": [
    {
     "data": {
      "application/vnd.jupyter.widget-view+json": {
       "model_id": "926d3a87839f40d28a1514fd65d64009",
       "version_major": 2,
       "version_minor": 0
      },
      "text/plain": [
       "HBox(children=(IntProgress(value=0, description='Building Timeseries', max=7848), HTML(value='')))"
      ]
     },
     "metadata": {},
     "output_type": "display_data"
    },
    {
     "name": "stdout",
     "output_type": "stream",
     "text": [
      "\n"
     ]
    }
   ],
   "source": [
    "train_ts = build_timeseries(train_metadata, train_observations)"
   ]
  },
  {
   "cell_type": "code",
   "execution_count": 164,
   "metadata": {},
   "outputs": [
    {
     "name": "stdout",
     "output_type": "stream",
     "text": [
      "Loading features snaphot from file: data/train_features.npz\n"
     ]
    }
   ],
   "source": [
    "train_features = build_features(train_ts, 'train')"
   ]
  },
  {
   "cell_type": "code",
   "execution_count": 161,
   "metadata": {},
   "outputs": [
    {
     "data": {
      "image/png": "[encoded data removed]",
      "text/plain": [
       "<Figure size 720x576 with 2 Axes>"
      ]
     },
     "metadata": {
      "needs_background": "light"
     },
     "output_type": "display_data"
    }
   ],
   "source": [
    "corr = train_features.corr()\n",
    "mask = np.zeros_like(corr, dtype=np.bool)\n",
    "mask[np.triu_indices_from(mask)] = True\n",
    "\n",
    "fig, ax = plt.subplots(figsize=(10, 8))\n",
    "\n",
    "corr_plot = sb.heatmap(corr, mask=mask, cmap='RdBu', center=0,\n",
    "                square=True, linewidths=.2, cbar_kws={\"shrink\": .5})"
   ]
  },
  {
   "cell_type": "markdown",
   "metadata": {},
   "source": [
    "### Model training"
   ]
  },
  {
   "cell_type": "code",
   "execution_count": 189,
   "metadata": {},
   "outputs": [],
   "source": [
    "from sklearn.model_selection import train_test_split\n",
    "\n",
    "train_X, test_X, train_y, test_y = train_test_split(\\\n",
    "    train_features, metadata['target'], test_size=0.33, random_state=42)\n"
   ]
  },
  {
   "cell_type": "code",
   "execution_count": 195,
   "metadata": {},
   "outputs": [
    {
     "data": {
      "application/vnd.jupyter.widget-view+json": {
       "model_id": "b310e75195fc4e5d939c72ad484fe81e",
       "version_major": 2,
       "version_minor": 0
      },
      "text/plain": [
       "HBox(children=(IntProgress(value=0, description='Training classifiers', max=5), HTML(value='')))"
      ]
     },
     "metadata": {},
     "output_type": "display_data"
    },
    {
     "name": "stdout",
     "output_type": "stream",
     "text": [
      "LogisticRegression confusion matrix:\n",
      "    0   1    2   3   4   5   6   7    8   9   10   11  12  13\n",
      "0   28   1    0   1   0   1   1   0    3   0   0   12   2   1\n",
      "1    9  57    0   4   0   0   0   0    2   0   0   85   1   0\n",
      "2    2   0  251   0   0   3   0   1    6   0   2    8  29   0\n",
      "3   22   8    0  65   0   5   4   0    7   0   0  273   3   0\n",
      "4    6   0    0   4   0   0   0   0    1   0   0   61   0   0\n",
      "5    0   0    0   0   0  13   0   0    0   0   0    1   0   0\n",
      "6   29   0    0  13   0   0   6   0    6   0   0   92   1   0\n",
      "7    3   1    0   0   0   0   1   0    4   0   0   21   0   0\n",
      "8   19   3    0   4   0   0   2   0  114   0   0  160  21   0\n",
      "9    7   0    0   1   0   0   0   0    1   0   0   53   0   0\n",
      "10  20   2    3   1   0   1   0   0    3   0  65   14  18   1\n",
      "11  38   1    0  10   0   2   1   0   17   0   0  710   3   0\n",
      "12   0   0    1   0   0   0   0   0    0   0   0    0  66   0\n",
      "13   3   0    0  16   0   1   1   0    0   0   1   36   0  10\n",
      "GaussianNB confusion matrix:\n",
      "    0   1    2   3   4   5   6   7   8    9   10  11  12  13\n",
      "0   10   3    0   8   0   5   4   0   0    8   6   1   0   5\n",
      "1    0  45    1   4  37   0   2   4   0   62   0   1   0   2\n",
      "2    0   3  106   0   1   1   0   0  78   19  87   0   7   0\n",
      "3    0  15    0  15  56   1  22   4   2  264   1   4   0   3\n",
      "4    0   2    0   1  12   0   1   0   0   56   0   0   0   0\n",
      "5    0   0    0   0   0  14   0   0   0    0   0   0   0   0\n",
      "6    0   0    0   4   4   0  19   4   0  116   0   0   0   0\n",
      "7    0   2    0   0   0   0   1   1   1   25   0   0   0   0\n",
      "8    0   9    6  10  14   2  12  23  42  193   4   8   0   0\n",
      "9    0   2    0   1   0   0   3   0   1   54   0   1   0   0\n",
      "10   2  10    1   0   1   0   0   0  29   12  70   0   3   0\n",
      "11   0  11    0  11  80   0  10   4   4  659   0   2   0   1\n",
      "12   0   0   13   0   0   2   0   0   0    0   0   0  52   0\n",
      "13   1   3    0   2   9   0  18   0   1   24   7   0   0   3\n",
      "DecisionTreeClassifier confusion matrix:\n",
      "    0    1    2    3   4   5    6   7    8   9    10   11  12  13\n",
      "0   50    0    0    0   0   0    0   0    0   0    0    0   0   0\n",
      "1    0  158    0    0   0   0    0   0    0   0    0    0   0   0\n",
      "2    0    0  302    0   0   0    0   0    0   0    0    0   0   0\n",
      "3    0    0    0  387   0   0    0   0    0   0    0    0   0   0\n",
      "4    0    0    0    0  72   0    0   0    0   0    0    0   0   0\n",
      "5    0    0    0    0   0  14    0   0    0   0    0    0   0   0\n",
      "6    0    0    0    0   0   0  147   0    0   0    0    0   0   0\n",
      "7    0    0    0    0   0   0    0  30    0   0    0    0   0   0\n",
      "8    0    0    0    0   0   0    0   0  323   0    0    0   0   0\n",
      "9    0    0    0    0   0   0    0   0    0  62    0    0   0   0\n",
      "10   0    0    0    0   0   0    0   0    0   0  128    0   0   0\n",
      "11   0    0    0    0   0   0    0   0    0   0    0  782   0   0\n",
      "12   0    0    0    0   0   0    0   0    0   0    0    0  67   0\n",
      "13   0    0    0    0   0   0    0   0    0   0    0    0   0  68\n",
      "GradientBoostingClassifier confusion matrix:\n",
      "    0    1    2    3   4   5   6   7    8   9    10   11  12  13\n",
      "0   50    0    0    0   0   0   0   0    0   0    0    0   0   0\n",
      "1    0  133    0    5   0   0   5   0    0   0    0   15   0   0\n",
      "2    0    0  302    0   0   0   0   0    0   0    0    0   0   0\n",
      "3    0    7    0  292   0   0   6   0    0   0    0   82   0   0\n",
      "4    0    1    0    9  35   0   1   0    0   0    0   26   0   0\n",
      "5    0    0    0    0   0  14   0   0    0   0    0    0   0   0\n",
      "6    0    1    0   23   0   0  98   0    0   0    0   25   0   0\n",
      "7    0    0    0    0   0   0   0  30    0   0    0    0   0   0\n",
      "8    0    0    0    0   0   0   0   0  323   0    0    0   0   0\n",
      "9    0    0    0    2   0   0   3   0    0  40    0   17   0   0\n",
      "10   0    0    0    0   0   0   0   0    0   0  128    0   0   0\n",
      "11   0    4    0   25   0   0   3   1    0   0    0  749   0   0\n",
      "12   0    0    0    0   0   0   0   0    0   0    0    0  67   0\n",
      "13   0    0    0    0   0   0   0   0    0   0    0    0   0  68\n",
      "RandomForestClassifier confusion matrix:\n",
      "    0    1    2    3   4   5    6   7    8   9    10   11  12  13\n",
      "0   50    0    0    0   0   0    0   0    0   0    0    0   0   0\n",
      "1    0  158    0    0   0   0    0   0    0   0    0    0   0   0\n",
      "2    0    0  302    0   0   0    0   0    0   0    0    0   0   0\n",
      "3    0    1    0  383   0   0    0   0    0   0    0    3   0   0\n",
      "4    0    1    0    1  69   0    0   0    0   0    0    1   0   0\n",
      "5    0    0    0    0   0  14    0   0    0   0    0    0   0   0\n",
      "6    0    0    0    0   0   0  146   0    0   0    0    1   0   0\n",
      "7    0    0    0    0   0   0    0  30    0   0    0    0   0   0\n",
      "8    0    0    0    0   0   0    0   0  323   0    0    0   0   0\n",
      "9    0    0    0    0   0   0    1   0    0  59    0    2   0   0\n",
      "10   0    0    0    0   0   0    0   0    0   0  128    0   0   0\n",
      "11   0    0    0    1   0   0    0   0    0   0    0  781   0   0\n",
      "12   0    0    0    0   0   0    0   0    0   0    0    0  67   0\n",
      "13   0    0    0    1   0   0    0   0    0   0    0    0   0  67\n",
      "\n"
     ]
    },
    {
     "data": {
      "text/html": [
       "<div>\n",
       "<style scoped>\n",
       "    .dataframe tbody tr th:only-of-type {\n",
       "        vertical-align: middle;\n",
       "    }\n",
       "\n",
       "    .dataframe tbody tr th {\n",
       "        vertical-align: top;\n",
       "    }\n",
       "\n",
       "    .dataframe thead th {\n",
       "        text-align: right;\n",
       "    }\n",
       "</style>\n",
       "<table border=\"1\" class=\"dataframe\">\n",
       "  <thead>\n",
       "    <tr style=\"text-align: right;\">\n",
       "      <th></th>\n",
       "      <th>clf</th>\n",
       "      <th>log_loss</th>\n",
       "    </tr>\n",
       "  </thead>\n",
       "  <tbody>\n",
       "    <tr>\n",
       "      <th>0</th>\n",
       "      <td>LogisticRegression</td>\n",
       "      <td>2.293985e+00</td>\n",
       "    </tr>\n",
       "    <tr>\n",
       "      <th>1</th>\n",
       "      <td>GaussianNB</td>\n",
       "      <td>1.641720e+01</td>\n",
       "    </tr>\n",
       "    <tr>\n",
       "      <th>2</th>\n",
       "      <td>DecisionTreeClassifier</td>\n",
       "      <td>2.886580e-15</td>\n",
       "    </tr>\n",
       "    <tr>\n",
       "      <th>3</th>\n",
       "      <td>GradientBoostingClassifier</td>\n",
       "      <td>3.687265e-01</td>\n",
       "    </tr>\n",
       "    <tr>\n",
       "      <th>4</th>\n",
       "      <td>RandomForestClassifier</td>\n",
       "      <td>2.128025e-01</td>\n",
       "    </tr>\n",
       "  </tbody>\n",
       "</table>\n",
       "</div>"
      ],
      "text/plain": [
       "                          clf      log_loss\n",
       "0          LogisticRegression  2.293985e+00\n",
       "1                  GaussianNB  1.641720e+01\n",
       "2      DecisionTreeClassifier  2.886580e-15\n",
       "3  GradientBoostingClassifier  3.687265e-01\n",
       "4      RandomForestClassifier  2.128025e-01"
      ]
     },
     "execution_count": 195,
     "metadata": {},
     "output_type": "execute_result"
    }
   ],
   "source": [
    "from sklearn.linear_model import LogisticRegression\n",
    "from sklearn.naive_bayes import GaussianNB\n",
    "from sklearn.metrics import log_loss, classification_report, confusion_matrix\n",
    "from sklearn import tree\n",
    "from sklearn.ensemble import GradientBoostingClassifier\n",
    "from sklearn.ensemble import RandomForestClassifier\n",
    "\n",
    "train_X = train_features\n",
    "train_y = train_metadata['target']\n",
    "\n",
    "def plasticc_log_loss(y_true, y_pred, relative_class_weights=None):\n",
    "        \"\"\"\n",
    "        Implementation of weighted log loss used for the Kaggle challenge\n",
    "        \"\"\"\n",
    "        predictions = y_pred.copy()\n",
    "\n",
    "        # sanitize predictions\n",
    "        epsilon = sys.float_info.epsilon # this is machine dependent but essentially prevents log(0)\n",
    "        predictions = np.clip(predictions, epsilon, 1.0 - epsilon)\n",
    "        predictions = predictions / np.sum(predictions, axis=1)[:, np.newaxis]\n",
    "\n",
    "        predictions = np.log(predictions)\n",
    "        # multiplying the arrays is equivalent to a truth mask as y_true only contains zeros and ones\n",
    "        class_logloss = []\n",
    "        for i in range(predictions.shape[1]):\n",
    "            # average column wise log loss with truth mask applied\n",
    "            result = np.average(predictions[:, i][y_true[:, i] == 1])\n",
    "            class_logloss.append(result)\n",
    "        return -1 * np.average(class_logloss, weights=relative_class_weights)\n",
    "\n",
    "def evaluate_model(clf):\n",
    "    predicted_proba_y = clf.predict_proba(test_X)\n",
    "    predicted_y = clf.predict(test_X)\n",
    "    clf_name = str(clf).split('(')[0]\n",
    "    print(clf_name + ' confusion matrix:')\n",
    "    print(pd.DataFrame(confusion_matrix(test_y, predicted_y)))\n",
    "    \n",
    "    true_proba_y = np.zeros((len(test_y), 14))\n",
    "    label_map = dict(zip(clf.classes_, np.arange(14)))\n",
    "    \n",
    "    for i, x in enumerate(test_y):\n",
    "        true_proba_y[i][label_map[x]] = 1\n",
    "    \n",
    "    return [{'clf': clf_name,\n",
    "            'log_loss': plasticc_log_loss(true_proba_y, predicted_proba_y, relative_class_weights=np.ones(14))}]\n",
    "\n",
    "results = []\n",
    "classifiers = [LogisticRegression(), \n",
    "                GaussianNB(), \n",
    "                tree.DecisionTreeClassifier(),\n",
    "                GradientBoostingClassifier(),\n",
    "                RandomForestClassifier(n_jobs=-1)]\n",
    "with tqdm(total=len(classifiers), desc=\"Training classifiers\") as pbar:\n",
    "    for clf in classifiers:\n",
    "        clf.fit(train_X, train_y)\n",
    "        results += evaluate_model(clf)\n",
    "        pbar.update()\n",
    "\n",
    "pd.DataFrame(results)"
   ]
  },
  {
   "cell_type": "code",
   "execution_count": null,
   "metadata": {},
   "outputs": [],
   "source": [
    "test_metadata = pd.read_csv('data/test_set_metadata.csv')\n",
    "test_observations = pd.read_csv('data/test_set.csv')\n",
    "\n",
    "test_ts = build_timeseries(test_metadata, test_observations)\n",
    "test_features = build_features(train_ts, 'test')\n",
    "\n",
    "clf = tree.DecisionTreeClassifier()\n",
    "test_predicted = clf.predict_proba(features)"
   ]
  },
  {
   "cell_type": "code",
   "execution_count": null,
   "metadata": {},
   "outputs": [],
   "source": []
  }
 ],
 "metadata": {
  "kernelspec": {
   "display_name": "Python 3",
   "language": "python",
   "name": "python3"
  },
  "language_info": {
   "codemirror_mode": {
    "name": "ipython",
    "version": 3
   },
   "file_extension": ".py",
   "mimetype": "text/x-python",
   "name": "python",
   "nbconvert_exporter": "python",
   "pygments_lexer": "ipython3",
   "version": "3.7.0"
  }
 },
 "nbformat": 4,
 "nbformat_minor": 2
}
