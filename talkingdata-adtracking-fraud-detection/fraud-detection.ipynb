{
 "cells": [
  {
   "cell_type": "markdown",
   "metadata": {},
   "source": [
    "### Notebook setup"
   ]
  },
  {
   "cell_type": "code",
   "execution_count": 28,
   "metadata": {},
   "outputs": [
    {
     "data": {
      "application/javascript": [
       "IPython.notebook.set_autosave_interval(30000)"
      ]
     },
     "metadata": {},
     "output_type": "display_data"
    },
    {
     "name": "stdout",
     "output_type": "stream",
     "text": [
      "Autosaving every 30 seconds\n"
     ]
    }
   ],
   "source": [
    "%matplotlib inline\n",
    "%autosave 30\n",
    "\n",
    "import pandas as pd\n",
    "import numpy as np\n",
    "import matplotlib.pyplot as plt\n",
    "import seaborn as sns\n",
    "\n",
    "import multiprocessing as mp\n",
    "from tqdm import tqdm_notebook as tqdm\n",
    "\n",
    "pd.set_option('display.max_rows', 10)"
   ]
  },
  {
   "cell_type": "markdown",
   "metadata": {},
   "source": [
    "### Datasets\n",
    "\n",
    "| Dataset             | Comment                                           | Size (clicks/size)  |\n",
    "|---------------------|---------------------------------------------------|---------------------|\n",
    "| train.csv           | the training set                                  | 57.537.506 / 2.5 GB |\n",
    "| train_sample.csv    | sample of training set                            | 100.000 / 3.9 MB |\n",
    "| test.csv            | the test set                                      | 18.790.469 / 824 MB |\n",
    "| test_supplement.csv | larger test set, subset used for Kaggle evaluation | 57.537.505 / 2.5GB  |\n",
    "\n",
    "\n",
    "Every click record has following associated fields:\n",
    "- click_time: timestamp of click (UTC)\n",
    "- ip: ip address of click\n",
    "- device: device type of user mobile phone\n",
    "- os: os version id of user mobile phone\n",
    "- channel: channel id of mobile ad publisher\n",
    "- app: app id for marketing\n",
    "\n",
    "Training data contains two additional fields:\n",
    "- is_attributed: was app downloaded, to be predicted\n",
    "- attributed_time: time of app download\n",
    "\n",
    "For the given click data, the goal is to output the probability that the user will download the app.\n"
   ]
  },
  {
   "cell_type": "markdown",
   "metadata": {},
   "source": [
    "Read train and test sets for local modeling and evaluation."
   ]
  },
  {
   "cell_type": "code",
   "execution_count": 2,
   "metadata": {},
   "outputs": [],
   "source": [
    "def read_dataset(path, nrows=None):\n",
    "    df = pd.read_csv(path, nrows=nrows)\n",
    "    df['click_time'] = pd.to_datetime(df['click_time'])\n",
    "    df = df.set_index('click_time')\n",
    "    df.sort_index(inplace=True)\n",
    "    \n",
    "    return df\n",
    "\n",
    "dataset_train = read_dataset('data/mnt/ssd/kaggle-talkingdata2/competition_files/train_sample.csv')\n",
    "dataset_test = read_dataset('data/mnt/ssd/kaggle-talkingdata2/competition_files/train.csv', nrows=1000000)\n",
    "dataset_test_all = read_dataset('data/test.csv')"
   ]
  },
  {
   "cell_type": "markdown",
   "metadata": {},
   "source": [
    "### Data exploration"
   ]
  },
  {
   "cell_type": "code",
   "execution_count": 3,
   "metadata": {
    "scrolled": true
   },
   "outputs": [
    {
     "data": {
      "text/html": [
       "<div>\n",
       "<style scoped>\n",
       "    .dataframe tbody tr th:only-of-type {\n",
       "        vertical-align: middle;\n",
       "    }\n",
       "\n",
       "    .dataframe tbody tr th {\n",
       "        vertical-align: top;\n",
       "    }\n",
       "\n",
       "    .dataframe thead th {\n",
       "        text-align: right;\n",
       "    }\n",
       "</style>\n",
       "<table border=\"1\" class=\"dataframe\">\n",
       "  <thead>\n",
       "    <tr style=\"text-align: right;\">\n",
       "      <th></th>\n",
       "      <th>ip</th>\n",
       "      <th>app</th>\n",
       "      <th>device</th>\n",
       "      <th>os</th>\n",
       "      <th>channel</th>\n",
       "      <th>is_attributed</th>\n",
       "    </tr>\n",
       "  </thead>\n",
       "  <tbody>\n",
       "    <tr>\n",
       "      <th>count</th>\n",
       "      <td>100000.000000</td>\n",
       "      <td>100000.00000</td>\n",
       "      <td>100000.000000</td>\n",
       "      <td>100000.000000</td>\n",
       "      <td>100000.000000</td>\n",
       "      <td>100000.000000</td>\n",
       "    </tr>\n",
       "    <tr>\n",
       "      <th>mean</th>\n",
       "      <td>91255.879670</td>\n",
       "      <td>12.04788</td>\n",
       "      <td>21.771250</td>\n",
       "      <td>22.818280</td>\n",
       "      <td>268.832460</td>\n",
       "      <td>0.002270</td>\n",
       "    </tr>\n",
       "    <tr>\n",
       "      <th>std</th>\n",
       "      <td>69835.553661</td>\n",
       "      <td>14.94150</td>\n",
       "      <td>259.667767</td>\n",
       "      <td>55.943136</td>\n",
       "      <td>129.724248</td>\n",
       "      <td>0.047591</td>\n",
       "    </tr>\n",
       "    <tr>\n",
       "      <th>min</th>\n",
       "      <td>9.000000</td>\n",
       "      <td>1.00000</td>\n",
       "      <td>0.000000</td>\n",
       "      <td>0.000000</td>\n",
       "      <td>3.000000</td>\n",
       "      <td>0.000000</td>\n",
       "    </tr>\n",
       "    <tr>\n",
       "      <th>25%</th>\n",
       "      <td>40552.000000</td>\n",
       "      <td>3.00000</td>\n",
       "      <td>1.000000</td>\n",
       "      <td>13.000000</td>\n",
       "      <td>145.000000</td>\n",
       "      <td>0.000000</td>\n",
       "    </tr>\n",
       "    <tr>\n",
       "      <th>50%</th>\n",
       "      <td>79827.000000</td>\n",
       "      <td>12.00000</td>\n",
       "      <td>1.000000</td>\n",
       "      <td>18.000000</td>\n",
       "      <td>258.000000</td>\n",
       "      <td>0.000000</td>\n",
       "    </tr>\n",
       "    <tr>\n",
       "      <th>75%</th>\n",
       "      <td>118252.000000</td>\n",
       "      <td>15.00000</td>\n",
       "      <td>1.000000</td>\n",
       "      <td>19.000000</td>\n",
       "      <td>379.000000</td>\n",
       "      <td>0.000000</td>\n",
       "    </tr>\n",
       "    <tr>\n",
       "      <th>max</th>\n",
       "      <td>364757.000000</td>\n",
       "      <td>551.00000</td>\n",
       "      <td>3867.000000</td>\n",
       "      <td>866.000000</td>\n",
       "      <td>498.000000</td>\n",
       "      <td>1.000000</td>\n",
       "    </tr>\n",
       "  </tbody>\n",
       "</table>\n",
       "</div>"
      ],
      "text/plain": [
       "                  ip           app         device             os  \\\n",
       "count  100000.000000  100000.00000  100000.000000  100000.000000   \n",
       "mean    91255.879670      12.04788      21.771250      22.818280   \n",
       "std     69835.553661      14.94150     259.667767      55.943136   \n",
       "min         9.000000       1.00000       0.000000       0.000000   \n",
       "25%     40552.000000       3.00000       1.000000      13.000000   \n",
       "50%     79827.000000      12.00000       1.000000      18.000000   \n",
       "75%    118252.000000      15.00000       1.000000      19.000000   \n",
       "max    364757.000000     551.00000    3867.000000     866.000000   \n",
       "\n",
       "             channel  is_attributed  \n",
       "count  100000.000000  100000.000000  \n",
       "mean      268.832460       0.002270  \n",
       "std       129.724248       0.047591  \n",
       "min         3.000000       0.000000  \n",
       "25%       145.000000       0.000000  \n",
       "50%       258.000000       0.000000  \n",
       "75%       379.000000       0.000000  \n",
       "max       498.000000       1.000000  "
      ]
     },
     "execution_count": 3,
     "metadata": {},
     "output_type": "execute_result"
    }
   ],
   "source": [
    "dataset_train.describe()"
   ]
  },
  {
   "cell_type": "code",
   "execution_count": 4,
   "metadata": {
    "scrolled": true
   },
   "outputs": [
    {
     "data": {
      "text/html": [
       "<div>\n",
       "<style scoped>\n",
       "    .dataframe tbody tr th:only-of-type {\n",
       "        vertical-align: middle;\n",
       "    }\n",
       "\n",
       "    .dataframe tbody tr th {\n",
       "        vertical-align: top;\n",
       "    }\n",
       "\n",
       "    .dataframe thead th {\n",
       "        text-align: right;\n",
       "    }\n",
       "</style>\n",
       "<table border=\"1\" class=\"dataframe\">\n",
       "  <thead>\n",
       "    <tr style=\"text-align: right;\">\n",
       "      <th></th>\n",
       "      <th>attribute</th>\n",
       "      <th>unique values</th>\n",
       "    </tr>\n",
       "  </thead>\n",
       "  <tbody>\n",
       "    <tr>\n",
       "      <th>0</th>\n",
       "      <td>ip</td>\n",
       "      <td>34857</td>\n",
       "    </tr>\n",
       "    <tr>\n",
       "      <th>1</th>\n",
       "      <td>app</td>\n",
       "      <td>161</td>\n",
       "    </tr>\n",
       "    <tr>\n",
       "      <th>2</th>\n",
       "      <td>device</td>\n",
       "      <td>100</td>\n",
       "    </tr>\n",
       "    <tr>\n",
       "      <th>3</th>\n",
       "      <td>os</td>\n",
       "      <td>130</td>\n",
       "    </tr>\n",
       "    <tr>\n",
       "      <th>4</th>\n",
       "      <td>channel</td>\n",
       "      <td>161</td>\n",
       "    </tr>\n",
       "    <tr>\n",
       "      <th>5</th>\n",
       "      <td>attributed_time</td>\n",
       "      <td>227</td>\n",
       "    </tr>\n",
       "    <tr>\n",
       "      <th>6</th>\n",
       "      <td>is_attributed</td>\n",
       "      <td>2</td>\n",
       "    </tr>\n",
       "  </tbody>\n",
       "</table>\n",
       "</div>"
      ],
      "text/plain": [
       "         attribute  unique values\n",
       "0               ip          34857\n",
       "1              app            161\n",
       "2           device            100\n",
       "3               os            130\n",
       "4          channel            161\n",
       "5  attributed_time            227\n",
       "6    is_attributed              2"
      ]
     },
     "execution_count": 4,
     "metadata": {},
     "output_type": "execute_result"
    }
   ],
   "source": [
    "ser = dataset_train.nunique()\n",
    "pd.DataFrame({'attribute':ser.index, 'unique values':ser.values})"
   ]
  },
  {
   "cell_type": "code",
   "execution_count": 29,
   "metadata": {},
   "outputs": [
    {
     "data": {
      "image/png": "[encoded data removed]",
      "text/plain": [
       "<Figure size 720x720 with 9 Axes>"
      ]
     },
     "metadata": {},
     "output_type": "display_data"
    }
   ],
   "source": [
    "dataset_train.hist(bins=20, figsize=(10,10));"
   ]
  },
  {
   "cell_type": "markdown",
   "metadata": {},
   "source": [
    "Distribution of `is_attributed` feature shows heavily unbalanced dataset towards no download cases."
   ]
  },
  {
   "cell_type": "code",
   "execution_count": 30,
   "metadata": {},
   "outputs": [
    {
     "data": {
      "text/html": [
       "<style  type=\"text/css\" >\n",
       "    #T_e017bfe4_11bc_11e9_b7c1_080027929626row0_col0 {\n",
       "            background-color:  #023858;\n",
       "        }    #T_e017bfe4_11bc_11e9_b7c1_080027929626row0_col1 {\n",
       "            background-color:  #faf2f8;\n",
       "        }    #T_e017bfe4_11bc_11e9_b7c1_080027929626row0_col2 {\n",
       "            background-color:  #faf3f9;\n",
       "        }    #T_e017bfe4_11bc_11e9_b7c1_080027929626row0_col3 {\n",
       "            background-color:  #faf3f9;\n",
       "        }    #T_e017bfe4_11bc_11e9_b7c1_080027929626row0_col4 {\n",
       "            background-color:  #f9f2f8;\n",
       "        }    #T_e017bfe4_11bc_11e9_b7c1_080027929626row0_col5 {\n",
       "            background-color:  #f4edf6;\n",
       "        }    #T_e017bfe4_11bc_11e9_b7c1_080027929626row0_col6 {\n",
       "            background-color:  #fdf5fa;\n",
       "        }    #T_e017bfe4_11bc_11e9_b7c1_080027929626row1_col0 {\n",
       "            background-color:  #fdf5fa;\n",
       "        }    #T_e017bfe4_11bc_11e9_b7c1_080027929626row1_col1 {\n",
       "            background-color:  #023858;\n",
       "        }    #T_e017bfe4_11bc_11e9_b7c1_080027929626row1_col2 {\n",
       "            background-color:  #c8cde4;\n",
       "        }    #T_e017bfe4_11bc_11e9_b7c1_080027929626row1_col3 {\n",
       "            background-color:  #c9cee4;\n",
       "        }    #T_e017bfe4_11bc_11e9_b7c1_080027929626row1_col4 {\n",
       "            background-color:  #fef6fb;\n",
       "        }    #T_e017bfe4_11bc_11e9_b7c1_080027929626row1_col5 {\n",
       "            background-color:  #f2ecf5;\n",
       "        }    #T_e017bfe4_11bc_11e9_b7c1_080027929626row1_col6 {\n",
       "            background-color:  #f8f1f8;\n",
       "        }    #T_e017bfe4_11bc_11e9_b7c1_080027929626row2_col0 {\n",
       "            background-color:  #fef6fb;\n",
       "        }    #T_e017bfe4_11bc_11e9_b7c1_080027929626row2_col1 {\n",
       "            background-color:  #cacee5;\n",
       "        }    #T_e017bfe4_11bc_11e9_b7c1_080027929626row2_col2 {\n",
       "            background-color:  #023858;\n",
       "        }    #T_e017bfe4_11bc_11e9_b7c1_080027929626row2_col3 {\n",
       "            background-color:  #034b76;\n",
       "        }    #T_e017bfe4_11bc_11e9_b7c1_080027929626row2_col4 {\n",
       "            background-color:  #fff7fb;\n",
       "        }    #T_e017bfe4_11bc_11e9_b7c1_080027929626row2_col5 {\n",
       "            background-color:  #fcf4fa;\n",
       "        }    #T_e017bfe4_11bc_11e9_b7c1_080027929626row2_col6 {\n",
       "            background-color:  #faf3f9;\n",
       "        }    #T_e017bfe4_11bc_11e9_b7c1_080027929626row3_col0 {\n",
       "            background-color:  #fef6fb;\n",
       "        }    #T_e017bfe4_11bc_11e9_b7c1_080027929626row3_col1 {\n",
       "            background-color:  #cacee5;\n",
       "        }    #T_e017bfe4_11bc_11e9_b7c1_080027929626row3_col2 {\n",
       "            background-color:  #034b76;\n",
       "        }    #T_e017bfe4_11bc_11e9_b7c1_080027929626row3_col3 {\n",
       "            background-color:  #023858;\n",
       "        }    #T_e017bfe4_11bc_11e9_b7c1_080027929626row3_col4 {\n",
       "            background-color:  #fff7fb;\n",
       "        }    #T_e017bfe4_11bc_11e9_b7c1_080027929626row3_col5 {\n",
       "            background-color:  #fbf3f9;\n",
       "        }    #T_e017bfe4_11bc_11e9_b7c1_080027929626row3_col6 {\n",
       "            background-color:  #faf2f8;\n",
       "        }    #T_e017bfe4_11bc_11e9_b7c1_080027929626row4_col0 {\n",
       "            background-color:  #fdf5fa;\n",
       "        }    #T_e017bfe4_11bc_11e9_b7c1_080027929626row4_col1 {\n",
       "            background-color:  #fff7fb;\n",
       "        }    #T_e017bfe4_11bc_11e9_b7c1_080027929626row4_col2 {\n",
       "            background-color:  #fff7fb;\n",
       "        }    #T_e017bfe4_11bc_11e9_b7c1_080027929626row4_col3 {\n",
       "            background-color:  #fff7fb;\n",
       "        }    #T_e017bfe4_11bc_11e9_b7c1_080027929626row4_col4 {\n",
       "            background-color:  #023858;\n",
       "        }    #T_e017bfe4_11bc_11e9_b7c1_080027929626row4_col5 {\n",
       "            background-color:  #fff7fb;\n",
       "        }    #T_e017bfe4_11bc_11e9_b7c1_080027929626row4_col6 {\n",
       "            background-color:  #fff7fb;\n",
       "        }    #T_e017bfe4_11bc_11e9_b7c1_080027929626row5_col0 {\n",
       "            background-color:  #f6eff7;\n",
       "        }    #T_e017bfe4_11bc_11e9_b7c1_080027929626row5_col1 {\n",
       "            background-color:  #f1ebf5;\n",
       "        }    #T_e017bfe4_11bc_11e9_b7c1_080027929626row5_col2 {\n",
       "            background-color:  #faf3f9;\n",
       "        }    #T_e017bfe4_11bc_11e9_b7c1_080027929626row5_col3 {\n",
       "            background-color:  #faf2f8;\n",
       "        }    #T_e017bfe4_11bc_11e9_b7c1_080027929626row5_col4 {\n",
       "            background-color:  #fef6fa;\n",
       "        }    #T_e017bfe4_11bc_11e9_b7c1_080027929626row5_col5 {\n",
       "            background-color:  #023858;\n",
       "        }    #T_e017bfe4_11bc_11e9_b7c1_080027929626row5_col6 {\n",
       "            background-color:  #fdf5fa;\n",
       "        }    #T_e017bfe4_11bc_11e9_b7c1_080027929626row6_col0 {\n",
       "            background-color:  #fff7fb;\n",
       "        }    #T_e017bfe4_11bc_11e9_b7c1_080027929626row6_col1 {\n",
       "            background-color:  #f7f0f7;\n",
       "        }    #T_e017bfe4_11bc_11e9_b7c1_080027929626row6_col2 {\n",
       "            background-color:  #f8f1f8;\n",
       "        }    #T_e017bfe4_11bc_11e9_b7c1_080027929626row6_col3 {\n",
       "            background-color:  #f8f1f8;\n",
       "        }    #T_e017bfe4_11bc_11e9_b7c1_080027929626row6_col4 {\n",
       "            background-color:  #fdf5fa;\n",
       "        }    #T_e017bfe4_11bc_11e9_b7c1_080027929626row6_col5 {\n",
       "            background-color:  #fcf4fa;\n",
       "        }    #T_e017bfe4_11bc_11e9_b7c1_080027929626row6_col6 {\n",
       "            background-color:  #023858;\n",
       "        }</style>  \n",
       "<table id=\"T_e017bfe4_11bc_11e9_b7c1_080027929626\" > \n",
       "<thead>    <tr> \n",
       "        <th class=\"blank level0\" ></th> \n",
       "        <th class=\"col_heading level0 col0\" >ip</th> \n",
       "        <th class=\"col_heading level0 col1\" >app</th> \n",
       "        <th class=\"col_heading level0 col2\" >device</th> \n",
       "        <th class=\"col_heading level0 col3\" >os</th> \n",
       "        <th class=\"col_heading level0 col4\" >channel</th> \n",
       "        <th class=\"col_heading level0 col5\" >is_attributed</th> \n",
       "        <th class=\"col_heading level0 col6\" >hour</th> \n",
       "    </tr></thead> \n",
       "<tbody>    <tr> \n",
       "        <th id=\"T_e017bfe4_11bc_11e9_b7c1_080027929626level0_row0\" class=\"row_heading level0 row0\" >ip</th> \n",
       "        <td id=\"T_e017bfe4_11bc_11e9_b7c1_080027929626row0_col0\" class=\"data row0 col0\" >1</td> \n",
       "        <td id=\"T_e017bfe4_11bc_11e9_b7c1_080027929626row0_col1\" class=\"data row0 col1\" >0.0103998</td> \n",
       "        <td id=\"T_e017bfe4_11bc_11e9_b7c1_080027929626row0_col2\" class=\"data row0 col2\" >-0.00149891</td> \n",
       "        <td id=\"T_e017bfe4_11bc_11e9_b7c1_080027929626row0_col3\" class=\"data row0 col3\" >-0.000469915</td> \n",
       "        <td id=\"T_e017bfe4_11bc_11e9_b7c1_080027929626row0_col4\" class=\"data row0 col4\" >0.00756287</td> \n",
       "        <td id=\"T_e017bfe4_11bc_11e9_b7c1_080027929626row0_col5\" class=\"data row0 col5\" >0.0549551</td> \n",
       "        <td id=\"T_e017bfe4_11bc_11e9_b7c1_080027929626row0_col6\" class=\"data row0 col6\" >-0.00795526</td> \n",
       "    </tr>    <tr> \n",
       "        <th id=\"T_e017bfe4_11bc_11e9_b7c1_080027929626level0_row1\" class=\"row_heading level0 row1\" >app</th> \n",
       "        <td id=\"T_e017bfe4_11bc_11e9_b7c1_080027929626row1_col0\" class=\"data row1 col0\" >0.0103998</td> \n",
       "        <td id=\"T_e017bfe4_11bc_11e9_b7c1_080027929626row1_col1\" class=\"data row1 col1\" >1</td> \n",
       "        <td id=\"T_e017bfe4_11bc_11e9_b7c1_080027929626row1_col2\" class=\"data row1 col2\" >0.248376</td> \n",
       "        <td id=\"T_e017bfe4_11bc_11e9_b7c1_080027929626row1_col3\" class=\"data row1 col3\" >0.24716</td> \n",
       "        <td id=\"T_e017bfe4_11bc_11e9_b7c1_080027929626row1_col4\" class=\"data row1 col4\" >-0.0282377</td> \n",
       "        <td id=\"T_e017bfe4_11bc_11e9_b7c1_080027929626row1_col5\" class=\"data row1 col5\" >0.064426</td> \n",
       "        <td id=\"T_e017bfe4_11bc_11e9_b7c1_080027929626row1_col6\" class=\"data row1 col6\" >0.0260793</td> \n",
       "    </tr>    <tr> \n",
       "        <th id=\"T_e017bfe4_11bc_11e9_b7c1_080027929626level0_row2\" class=\"row_heading level0 row2\" >device</th> \n",
       "        <td id=\"T_e017bfe4_11bc_11e9_b7c1_080027929626row2_col0\" class=\"data row2 col0\" >-0.00149891</td> \n",
       "        <td id=\"T_e017bfe4_11bc_11e9_b7c1_080027929626row2_col1\" class=\"data row2 col1\" >0.248376</td> \n",
       "        <td id=\"T_e017bfe4_11bc_11e9_b7c1_080027929626row2_col2\" class=\"data row2 col2\" >1</td> \n",
       "        <td id=\"T_e017bfe4_11bc_11e9_b7c1_080027929626row2_col3\" class=\"data row2 col3\" >0.924456</td> \n",
       "        <td id=\"T_e017bfe4_11bc_11e9_b7c1_080027929626row2_col4\" class=\"data row2 col4\" >-0.0353978</td> \n",
       "        <td id=\"T_e017bfe4_11bc_11e9_b7c1_080027929626row2_col5\" class=\"data row2 col5\" >-0.000695177</td> \n",
       "        <td id=\"T_e017bfe4_11bc_11e9_b7c1_080027929626row2_col6\" class=\"data row2 col6\" >0.0120347</td> \n",
       "    </tr>    <tr> \n",
       "        <th id=\"T_e017bfe4_11bc_11e9_b7c1_080027929626level0_row3\" class=\"row_heading level0 row3\" >os</th> \n",
       "        <td id=\"T_e017bfe4_11bc_11e9_b7c1_080027929626row3_col0\" class=\"data row3 col0\" >-0.000469915</td> \n",
       "        <td id=\"T_e017bfe4_11bc_11e9_b7c1_080027929626row3_col1\" class=\"data row3 col1\" >0.24716</td> \n",
       "        <td id=\"T_e017bfe4_11bc_11e9_b7c1_080027929626row3_col2\" class=\"data row3 col2\" >0.924456</td> \n",
       "        <td id=\"T_e017bfe4_11bc_11e9_b7c1_080027929626row3_col3\" class=\"data row3 col3\" >1</td> \n",
       "        <td id=\"T_e017bfe4_11bc_11e9_b7c1_080027929626row3_col4\" class=\"data row3 col4\" >-0.0331755</td> \n",
       "        <td id=\"T_e017bfe4_11bc_11e9_b7c1_080027929626row3_col5\" class=\"data row3 col5\" >0.00618346</td> \n",
       "        <td id=\"T_e017bfe4_11bc_11e9_b7c1_080027929626row3_col6\" class=\"data row3 col6\" >0.01466</td> \n",
       "    </tr>    <tr> \n",
       "        <th id=\"T_e017bfe4_11bc_11e9_b7c1_080027929626level0_row4\" class=\"row_heading level0 row4\" >channel</th> \n",
       "        <td id=\"T_e017bfe4_11bc_11e9_b7c1_080027929626row4_col0\" class=\"data row4 col0\" >0.00756287</td> \n",
       "        <td id=\"T_e017bfe4_11bc_11e9_b7c1_080027929626row4_col1\" class=\"data row4 col1\" >-0.0282377</td> \n",
       "        <td id=\"T_e017bfe4_11bc_11e9_b7c1_080027929626row4_col2\" class=\"data row4 col2\" >-0.0353978</td> \n",
       "        <td id=\"T_e017bfe4_11bc_11e9_b7c1_080027929626row4_col3\" class=\"data row4 col3\" >-0.0331755</td> \n",
       "        <td id=\"T_e017bfe4_11bc_11e9_b7c1_080027929626row4_col4\" class=\"data row4 col4\" >1</td> \n",
       "        <td id=\"T_e017bfe4_11bc_11e9_b7c1_080027929626row4_col5\" class=\"data row4 col5\" >-0.0233364</td> \n",
       "        <td id=\"T_e017bfe4_11bc_11e9_b7c1_080027929626row4_col6\" class=\"data row4 col6\" >-0.0213259</td> \n",
       "    </tr>    <tr> \n",
       "        <th id=\"T_e017bfe4_11bc_11e9_b7c1_080027929626level0_row5\" class=\"row_heading level0 row5\" >is_attributed</th> \n",
       "        <td id=\"T_e017bfe4_11bc_11e9_b7c1_080027929626row5_col0\" class=\"data row5 col0\" >0.0549551</td> \n",
       "        <td id=\"T_e017bfe4_11bc_11e9_b7c1_080027929626row5_col1\" class=\"data row5 col1\" >0.064426</td> \n",
       "        <td id=\"T_e017bfe4_11bc_11e9_b7c1_080027929626row5_col2\" class=\"data row5 col2\" >-0.000695177</td> \n",
       "        <td id=\"T_e017bfe4_11bc_11e9_b7c1_080027929626row5_col3\" class=\"data row5 col3\" >0.00618346</td> \n",
       "        <td id=\"T_e017bfe4_11bc_11e9_b7c1_080027929626row5_col4\" class=\"data row5 col4\" >-0.0233364</td> \n",
       "        <td id=\"T_e017bfe4_11bc_11e9_b7c1_080027929626row5_col5\" class=\"data row5 col5\" >1</td> \n",
       "        <td id=\"T_e017bfe4_11bc_11e9_b7c1_080027929626row5_col6\" class=\"data row5 col6\" >-0.00294388</td> \n",
       "    </tr>    <tr> \n",
       "        <th id=\"T_e017bfe4_11bc_11e9_b7c1_080027929626level0_row6\" class=\"row_heading level0 row6\" >hour</th> \n",
       "        <td id=\"T_e017bfe4_11bc_11e9_b7c1_080027929626row6_col0\" class=\"data row6 col0\" >-0.00795526</td> \n",
       "        <td id=\"T_e017bfe4_11bc_11e9_b7c1_080027929626row6_col1\" class=\"data row6 col1\" >0.0260793</td> \n",
       "        <td id=\"T_e017bfe4_11bc_11e9_b7c1_080027929626row6_col2\" class=\"data row6 col2\" >0.0120347</td> \n",
       "        <td id=\"T_e017bfe4_11bc_11e9_b7c1_080027929626row6_col3\" class=\"data row6 col3\" >0.01466</td> \n",
       "        <td id=\"T_e017bfe4_11bc_11e9_b7c1_080027929626row6_col4\" class=\"data row6 col4\" >-0.0213259</td> \n",
       "        <td id=\"T_e017bfe4_11bc_11e9_b7c1_080027929626row6_col5\" class=\"data row6 col5\" >-0.00294388</td> \n",
       "        <td id=\"T_e017bfe4_11bc_11e9_b7c1_080027929626row6_col6\" class=\"data row6 col6\" >1</td> \n",
       "    </tr></tbody> \n",
       "</table> "
      ],
      "text/plain": [
       "<pandas.io.formats.style.Styler at 0x7f5c8ca56940>"
      ]
     },
     "execution_count": 30,
     "metadata": {},
     "output_type": "execute_result"
    }
   ],
   "source": [
    "corr = dataset_train.corr()\n",
    "corr.style.background_gradient()"
   ]
  },
  {
   "cell_type": "code",
   "execution_count": 31,
   "metadata": {},
   "outputs": [
    {
     "data": {
      "image/png": "[encoded data removed]",
      "text/plain": [
       "<Figure size 720x720 with 9 Axes>"
      ]
     },
     "metadata": {},
     "output_type": "display_data"
    }
   ],
   "source": [
    "dataset_train[(dataset_train.is_attributed == 1)].hist(bins=20, figsize=(10,10));"
   ]
  },
  {
   "cell_type": "code",
   "execution_count": 8,
   "metadata": {},
   "outputs": [
    {
     "name": "stderr",
     "output_type": "stream",
     "text": [
      "/home/dkomlen/anaconda3/lib/python3.6/site-packages/ipykernel_launcher.py:2: FutureWarning: using a dict on a Series for aggregation\n",
      "is deprecated and will be removed in a future version\n",
      "  \n"
     ]
    },
    {
     "data": {
      "text/html": [
       "<div>\n",
       "<style scoped>\n",
       "    .dataframe tbody tr th:only-of-type {\n",
       "        vertical-align: middle;\n",
       "    }\n",
       "\n",
       "    .dataframe tbody tr th {\n",
       "        vertical-align: top;\n",
       "    }\n",
       "\n",
       "    .dataframe thead th {\n",
       "        text-align: right;\n",
       "    }\n",
       "</style>\n",
       "<table border=\"1\" class=\"dataframe\">\n",
       "  <thead>\n",
       "    <tr style=\"text-align: right;\">\n",
       "      <th></th>\n",
       "      <th>ip</th>\n",
       "      <th>is_attributed</th>\n",
       "    </tr>\n",
       "  </thead>\n",
       "  <tbody>\n",
       "    <tr>\n",
       "      <th>0</th>\n",
       "      <td>5348</td>\n",
       "      <td>3</td>\n",
       "    </tr>\n",
       "    <tr>\n",
       "      <th>1</th>\n",
       "      <td>5314</td>\n",
       "      <td>3</td>\n",
       "    </tr>\n",
       "    <tr>\n",
       "      <th>2</th>\n",
       "      <td>171892</td>\n",
       "      <td>1</td>\n",
       "    </tr>\n",
       "    <tr>\n",
       "      <th>3</th>\n",
       "      <td>346097</td>\n",
       "      <td>1</td>\n",
       "    </tr>\n",
       "    <tr>\n",
       "      <th>4</th>\n",
       "      <td>29016</td>\n",
       "      <td>1</td>\n",
       "    </tr>\n",
       "    <tr>\n",
       "      <th>5</th>\n",
       "      <td>344369</td>\n",
       "      <td>1</td>\n",
       "    </tr>\n",
       "    <tr>\n",
       "      <th>6</th>\n",
       "      <td>265917</td>\n",
       "      <td>1</td>\n",
       "    </tr>\n",
       "    <tr>\n",
       "      <th>7</th>\n",
       "      <td>35308</td>\n",
       "      <td>1</td>\n",
       "    </tr>\n",
       "    <tr>\n",
       "      <th>8</th>\n",
       "      <td>344551</td>\n",
       "      <td>1</td>\n",
       "    </tr>\n",
       "    <tr>\n",
       "      <th>9</th>\n",
       "      <td>40654</td>\n",
       "      <td>1</td>\n",
       "    </tr>\n",
       "  </tbody>\n",
       "</table>\n",
       "</div>"
      ],
      "text/plain": [
       "       ip  is_attributed\n",
       "0    5348              3\n",
       "1    5314              3\n",
       "2  171892              1\n",
       "3  346097              1\n",
       "4   29016              1\n",
       "5  344369              1\n",
       "6  265917              1\n",
       "7   35308              1\n",
       "8  344551              1\n",
       "9   40654              1"
      ]
     },
     "execution_count": 8,
     "metadata": {},
     "output_type": "execute_result"
    }
   ],
   "source": [
    "top_apps = dataset_train.groupby(['ip'])['is_attributed'].agg(\n",
    "    {\"is_attributed\": sum}).sort_values(\n",
    "    \"is_attributed\", ascending=False).head(10).reset_index()\n",
    "top_apps"
   ]
  },
  {
   "cell_type": "code",
   "execution_count": 9,
   "metadata": {},
   "outputs": [
    {
     "name": "stderr",
     "output_type": "stream",
     "text": [
      "/home/dkomlen/anaconda3/lib/python3.6/site-packages/ipykernel_launcher.py:2: FutureWarning: using a dict on a Series for aggregation\n",
      "is deprecated and will be removed in a future version\n",
      "  \n"
     ]
    },
    {
     "data": {
      "text/html": [
       "<div>\n",
       "<style scoped>\n",
       "    .dataframe tbody tr th:only-of-type {\n",
       "        vertical-align: middle;\n",
       "    }\n",
       "\n",
       "    .dataframe tbody tr th {\n",
       "        vertical-align: top;\n",
       "    }\n",
       "\n",
       "    .dataframe thead th {\n",
       "        text-align: right;\n",
       "    }\n",
       "</style>\n",
       "<table border=\"1\" class=\"dataframe\">\n",
       "  <thead>\n",
       "    <tr style=\"text-align: right;\">\n",
       "      <th></th>\n",
       "      <th>app</th>\n",
       "      <th>channel</th>\n",
       "      <th>is_attributed</th>\n",
       "    </tr>\n",
       "  </thead>\n",
       "  <tbody>\n",
       "    <tr>\n",
       "      <th>0</th>\n",
       "      <td>19</td>\n",
       "      <td>213</td>\n",
       "      <td>50</td>\n",
       "    </tr>\n",
       "    <tr>\n",
       "      <th>1</th>\n",
       "      <td>10</td>\n",
       "      <td>113</td>\n",
       "      <td>17</td>\n",
       "    </tr>\n",
       "    <tr>\n",
       "      <th>2</th>\n",
       "      <td>29</td>\n",
       "      <td>213</td>\n",
       "      <td>16</td>\n",
       "    </tr>\n",
       "    <tr>\n",
       "      <th>3</th>\n",
       "      <td>35</td>\n",
       "      <td>21</td>\n",
       "      <td>15</td>\n",
       "    </tr>\n",
       "    <tr>\n",
       "      <th>4</th>\n",
       "      <td>5</td>\n",
       "      <td>113</td>\n",
       "      <td>13</td>\n",
       "    </tr>\n",
       "    <tr>\n",
       "      <th>5</th>\n",
       "      <td>35</td>\n",
       "      <td>274</td>\n",
       "      <td>12</td>\n",
       "    </tr>\n",
       "    <tr>\n",
       "      <th>6</th>\n",
       "      <td>19</td>\n",
       "      <td>347</td>\n",
       "      <td>11</td>\n",
       "    </tr>\n",
       "    <tr>\n",
       "      <th>7</th>\n",
       "      <td>72</td>\n",
       "      <td>101</td>\n",
       "      <td>6</td>\n",
       "    </tr>\n",
       "    <tr>\n",
       "      <th>8</th>\n",
       "      <td>19</td>\n",
       "      <td>282</td>\n",
       "      <td>5</td>\n",
       "    </tr>\n",
       "    <tr>\n",
       "      <th>9</th>\n",
       "      <td>45</td>\n",
       "      <td>5</td>\n",
       "      <td>5</td>\n",
       "    </tr>\n",
       "  </tbody>\n",
       "</table>\n",
       "</div>"
      ],
      "text/plain": [
       "   app  channel  is_attributed\n",
       "0   19      213             50\n",
       "1   10      113             17\n",
       "2   29      213             16\n",
       "3   35       21             15\n",
       "4    5      113             13\n",
       "5   35      274             12\n",
       "6   19      347             11\n",
       "7   72      101              6\n",
       "8   19      282              5\n",
       "9   45        5              5"
      ]
     },
     "execution_count": 9,
     "metadata": {},
     "output_type": "execute_result"
    }
   ],
   "source": [
    "top_apps = dataset_train.groupby(['app','channel'])['is_attributed'].agg(\n",
    "    {\"is_attributed\": sum}).sort_values(\n",
    "    \"is_attributed\", ascending=False).head(10).reset_index()\n",
    "top_apps"
   ]
  },
  {
   "cell_type": "code",
   "execution_count": 32,
   "metadata": {},
   "outputs": [
    {
     "data": {
      "image/png": "[encoded data removed]",
      "text/plain": [
       "<Figure size 1440x360 with 1 Axes>"
      ]
     },
     "metadata": {},
     "output_type": "display_data"
    }
   ],
   "source": [
    "dataset_train.apply(lambda x: 1 if x['is_attributed'] == 1 else 0, axis=1).plot(figsize=(20, 5));"
   ]
  },
  {
   "cell_type": "code",
   "execution_count": 11,
   "metadata": {},
   "outputs": [
    {
     "data": {
      "image/png": "[encoded data removed]",
      "text/plain": [
       "<Figure size 1440x360 with 1 Axes>"
      ]
     },
     "metadata": {},
     "output_type": "display_data"
    }
   ],
   "source": [
    "dataset_train.apply(lambda x: 1 if x['app'] == 19 else 0, axis=1).plot(figsize=(20, 5));"
   ]
  },
  {
   "cell_type": "code",
   "execution_count": 12,
   "metadata": {},
   "outputs": [
    {
     "data": {
      "image/png": "[encoded data removed]",
      "text/plain": [
       "<Figure size 1440x360 with 1 Axes>"
      ]
     },
     "metadata": {},
     "output_type": "display_data"
    }
   ],
   "source": [
    "dataset_train.apply(lambda x: 1 if x['channel'] == 213 and x['app'] == 19 else 0, axis=1).plot(figsize=(20, 5));"
   ]
  },
  {
   "cell_type": "markdown",
   "metadata": {},
   "source": [
    "### Benchmark models\n",
    "\n",
    "For benchmark we will consider two models, one outputing constant value and second using random value from uniform distribution. Both will be evaluated on test set and the one with higher score will be used as baseline."
   ]
  },
  {
   "cell_type": "code",
   "execution_count": 13,
   "metadata": {},
   "outputs": [
    {
     "data": {
      "text/html": [
       "<div>\n",
       "<style scoped>\n",
       "    .dataframe tbody tr th:only-of-type {\n",
       "        vertical-align: middle;\n",
       "    }\n",
       "\n",
       "    .dataframe tbody tr th {\n",
       "        vertical-align: top;\n",
       "    }\n",
       "\n",
       "    .dataframe thead th {\n",
       "        text-align: right;\n",
       "    }\n",
       "</style>\n",
       "<table border=\"1\" class=\"dataframe\">\n",
       "  <thead>\n",
       "    <tr style=\"text-align: right;\">\n",
       "      <th></th>\n",
       "      <th>ip</th>\n",
       "      <th>app</th>\n",
       "      <th>device</th>\n",
       "      <th>os</th>\n",
       "      <th>channel</th>\n",
       "      <th>attributed_time</th>\n",
       "      <th>is_attributed</th>\n",
       "    </tr>\n",
       "    <tr>\n",
       "      <th>click_time</th>\n",
       "      <th></th>\n",
       "      <th></th>\n",
       "      <th></th>\n",
       "      <th></th>\n",
       "      <th></th>\n",
       "      <th></th>\n",
       "      <th></th>\n",
       "    </tr>\n",
       "  </thead>\n",
       "  <tbody>\n",
       "    <tr>\n",
       "      <th>2017-11-06 14:32:21</th>\n",
       "      <td>83230</td>\n",
       "      <td>3</td>\n",
       "      <td>1</td>\n",
       "      <td>13</td>\n",
       "      <td>379</td>\n",
       "      <td>NaN</td>\n",
       "      <td>0</td>\n",
       "    </tr>\n",
       "    <tr>\n",
       "      <th>2017-11-06 14:33:34</th>\n",
       "      <td>17357</td>\n",
       "      <td>3</td>\n",
       "      <td>1</td>\n",
       "      <td>19</td>\n",
       "      <td>379</td>\n",
       "      <td>NaN</td>\n",
       "      <td>0</td>\n",
       "    </tr>\n",
       "    <tr>\n",
       "      <th>2017-11-06 14:34:12</th>\n",
       "      <td>35810</td>\n",
       "      <td>3</td>\n",
       "      <td>1</td>\n",
       "      <td>13</td>\n",
       "      <td>379</td>\n",
       "      <td>NaN</td>\n",
       "      <td>0</td>\n",
       "    </tr>\n",
       "    <tr>\n",
       "      <th>2017-11-06 14:34:52</th>\n",
       "      <td>45745</td>\n",
       "      <td>14</td>\n",
       "      <td>1</td>\n",
       "      <td>13</td>\n",
       "      <td>478</td>\n",
       "      <td>NaN</td>\n",
       "      <td>0</td>\n",
       "    </tr>\n",
       "    <tr>\n",
       "      <th>2017-11-06 14:35:08</th>\n",
       "      <td>161007</td>\n",
       "      <td>3</td>\n",
       "      <td>1</td>\n",
       "      <td>13</td>\n",
       "      <td>379</td>\n",
       "      <td>NaN</td>\n",
       "      <td>0</td>\n",
       "    </tr>\n",
       "  </tbody>\n",
       "</table>\n",
       "</div>"
      ],
      "text/plain": [
       "                         ip  app  device  os  channel attributed_time  \\\n",
       "click_time                                                              \n",
       "2017-11-06 14:32:21   83230    3       1  13      379             NaN   \n",
       "2017-11-06 14:33:34   17357    3       1  19      379             NaN   \n",
       "2017-11-06 14:34:12   35810    3       1  13      379             NaN   \n",
       "2017-11-06 14:34:52   45745   14       1  13      478             NaN   \n",
       "2017-11-06 14:35:08  161007    3       1  13      379             NaN   \n",
       "\n",
       "                     is_attributed  \n",
       "click_time                          \n",
       "2017-11-06 14:32:21              0  \n",
       "2017-11-06 14:33:34              0  \n",
       "2017-11-06 14:34:12              0  \n",
       "2017-11-06 14:34:52              0  \n",
       "2017-11-06 14:35:08              0  "
      ]
     },
     "execution_count": 13,
     "metadata": {},
     "output_type": "execute_result"
    }
   ],
   "source": [
    "dataset_test.head()"
   ]
  },
  {
   "cell_type": "code",
   "execution_count": 14,
   "metadata": {
    "scrolled": true
   },
   "outputs": [
    {
     "data": {
      "text/html": [
       "<div>\n",
       "<style scoped>\n",
       "    .dataframe tbody tr th:only-of-type {\n",
       "        vertical-align: middle;\n",
       "    }\n",
       "\n",
       "    .dataframe tbody tr th {\n",
       "        vertical-align: top;\n",
       "    }\n",
       "\n",
       "    .dataframe thead th {\n",
       "        text-align: right;\n",
       "    }\n",
       "</style>\n",
       "<table border=\"1\" class=\"dataframe\">\n",
       "  <thead>\n",
       "    <tr style=\"text-align: right;\">\n",
       "      <th></th>\n",
       "      <th>click_id</th>\n",
       "      <th>is_attributed</th>\n",
       "    </tr>\n",
       "    <tr>\n",
       "      <th>click_time</th>\n",
       "      <th></th>\n",
       "      <th></th>\n",
       "    </tr>\n",
       "  </thead>\n",
       "  <tbody>\n",
       "    <tr>\n",
       "      <th>2017-11-10 04:00:00</th>\n",
       "      <td>0</td>\n",
       "      <td>0</td>\n",
       "    </tr>\n",
       "    <tr>\n",
       "      <th>2017-11-10 04:00:00</th>\n",
       "      <td>1</td>\n",
       "      <td>0</td>\n",
       "    </tr>\n",
       "    <tr>\n",
       "      <th>2017-11-10 04:00:00</th>\n",
       "      <td>2</td>\n",
       "      <td>0</td>\n",
       "    </tr>\n",
       "    <tr>\n",
       "      <th>2017-11-10 04:00:00</th>\n",
       "      <td>3</td>\n",
       "      <td>0</td>\n",
       "    </tr>\n",
       "    <tr>\n",
       "      <th>2017-11-10 04:00:00</th>\n",
       "      <td>4</td>\n",
       "      <td>0</td>\n",
       "    </tr>\n",
       "    <tr>\n",
       "      <th>...</th>\n",
       "      <td>...</td>\n",
       "      <td>...</td>\n",
       "    </tr>\n",
       "    <tr>\n",
       "      <th>2017-11-10 15:00:00</th>\n",
       "      <td>18790464</td>\n",
       "      <td>0</td>\n",
       "    </tr>\n",
       "    <tr>\n",
       "      <th>2017-11-10 15:00:00</th>\n",
       "      <td>18790465</td>\n",
       "      <td>0</td>\n",
       "    </tr>\n",
       "    <tr>\n",
       "      <th>2017-11-10 15:00:00</th>\n",
       "      <td>18790467</td>\n",
       "      <td>0</td>\n",
       "    </tr>\n",
       "    <tr>\n",
       "      <th>2017-11-10 15:00:00</th>\n",
       "      <td>18790466</td>\n",
       "      <td>0</td>\n",
       "    </tr>\n",
       "    <tr>\n",
       "      <th>2017-11-10 15:00:00</th>\n",
       "      <td>18790468</td>\n",
       "      <td>0</td>\n",
       "    </tr>\n",
       "  </tbody>\n",
       "</table>\n",
       "<p>18790469 rows × 2 columns</p>\n",
       "</div>"
      ],
      "text/plain": [
       "                     click_id  is_attributed\n",
       "click_time                                  \n",
       "2017-11-10 04:00:00         0              0\n",
       "2017-11-10 04:00:00         1              0\n",
       "2017-11-10 04:00:00         2              0\n",
       "2017-11-10 04:00:00         3              0\n",
       "2017-11-10 04:00:00         4              0\n",
       "...                       ...            ...\n",
       "2017-11-10 15:00:00  18790464              0\n",
       "2017-11-10 15:00:00  18790465              0\n",
       "2017-11-10 15:00:00  18790467              0\n",
       "2017-11-10 15:00:00  18790466              0\n",
       "2017-11-10 15:00:00  18790468              0\n",
       "\n",
       "[18790469 rows x 2 columns]"
      ]
     },
     "metadata": {},
     "output_type": "display_data"
    }
   ],
   "source": [
    "benchmark_const = dataset_test_all[['click_id']].copy()\n",
    "benchmark_const['is_attributed'] = 0\n",
    "display(benchmark_const)"
   ]
  },
  {
   "cell_type": "code",
   "execution_count": 15,
   "metadata": {},
   "outputs": [
    {
     "data": {
      "text/html": [
       "<div>\n",
       "<style scoped>\n",
       "    .dataframe tbody tr th:only-of-type {\n",
       "        vertical-align: middle;\n",
       "    }\n",
       "\n",
       "    .dataframe tbody tr th {\n",
       "        vertical-align: top;\n",
       "    }\n",
       "\n",
       "    .dataframe thead th {\n",
       "        text-align: right;\n",
       "    }\n",
       "</style>\n",
       "<table border=\"1\" class=\"dataframe\">\n",
       "  <thead>\n",
       "    <tr style=\"text-align: right;\">\n",
       "      <th></th>\n",
       "      <th>click_id</th>\n",
       "      <th>is_attributed</th>\n",
       "    </tr>\n",
       "    <tr>\n",
       "      <th>click_time</th>\n",
       "      <th></th>\n",
       "      <th></th>\n",
       "    </tr>\n",
       "  </thead>\n",
       "  <tbody>\n",
       "    <tr>\n",
       "      <th>2017-11-10 04:00:00</th>\n",
       "      <td>0</td>\n",
       "      <td>0.408996</td>\n",
       "    </tr>\n",
       "    <tr>\n",
       "      <th>2017-11-10 04:00:00</th>\n",
       "      <td>1</td>\n",
       "      <td>0.553010</td>\n",
       "    </tr>\n",
       "    <tr>\n",
       "      <th>2017-11-10 04:00:00</th>\n",
       "      <td>2</td>\n",
       "      <td>0.779606</td>\n",
       "    </tr>\n",
       "    <tr>\n",
       "      <th>2017-11-10 04:00:00</th>\n",
       "      <td>3</td>\n",
       "      <td>0.889644</td>\n",
       "    </tr>\n",
       "    <tr>\n",
       "      <th>2017-11-10 04:00:00</th>\n",
       "      <td>4</td>\n",
       "      <td>0.478634</td>\n",
       "    </tr>\n",
       "    <tr>\n",
       "      <th>...</th>\n",
       "      <td>...</td>\n",
       "      <td>...</td>\n",
       "    </tr>\n",
       "    <tr>\n",
       "      <th>2017-11-10 15:00:00</th>\n",
       "      <td>18790464</td>\n",
       "      <td>0.711390</td>\n",
       "    </tr>\n",
       "    <tr>\n",
       "      <th>2017-11-10 15:00:00</th>\n",
       "      <td>18790465</td>\n",
       "      <td>0.220956</td>\n",
       "    </tr>\n",
       "    <tr>\n",
       "      <th>2017-11-10 15:00:00</th>\n",
       "      <td>18790467</td>\n",
       "      <td>0.460057</td>\n",
       "    </tr>\n",
       "    <tr>\n",
       "      <th>2017-11-10 15:00:00</th>\n",
       "      <td>18790466</td>\n",
       "      <td>0.555807</td>\n",
       "    </tr>\n",
       "    <tr>\n",
       "      <th>2017-11-10 15:00:00</th>\n",
       "      <td>18790468</td>\n",
       "      <td>0.645770</td>\n",
       "    </tr>\n",
       "  </tbody>\n",
       "</table>\n",
       "<p>18790469 rows × 2 columns</p>\n",
       "</div>"
      ],
      "text/plain": [
       "                     click_id  is_attributed\n",
       "click_time                                  \n",
       "2017-11-10 04:00:00         0       0.408996\n",
       "2017-11-10 04:00:00         1       0.553010\n",
       "2017-11-10 04:00:00         2       0.779606\n",
       "2017-11-10 04:00:00         3       0.889644\n",
       "2017-11-10 04:00:00         4       0.478634\n",
       "...                       ...            ...\n",
       "2017-11-10 15:00:00  18790464       0.711390\n",
       "2017-11-10 15:00:00  18790465       0.220956\n",
       "2017-11-10 15:00:00  18790467       0.460057\n",
       "2017-11-10 15:00:00  18790466       0.555807\n",
       "2017-11-10 15:00:00  18790468       0.645770\n",
       "\n",
       "[18790469 rows x 2 columns]"
      ]
     },
     "metadata": {},
     "output_type": "display_data"
    }
   ],
   "source": [
    "benchmark_rand = dataset_test_all[['click_id']].copy()\n",
    "benchmark_rand['is_attributed'] = np.random.uniform(size=len(benchmark_rand))\n",
    "display(benchmark_rand)"
   ]
  },
  {
   "cell_type": "markdown",
   "metadata": {},
   "source": [
    "Constant model that predicts no app download scores 0.5 on Kaggle evaluator. Random model that uses uniform distribution scores 0.4995 as private score (82% of test data) and 0.5003 as public score (18% of the test data). One approach to this problem is done by [Elior Tal](https://rpubs.com/el16/410747) and his solution scores 0.825 on a subset of the test set. In his work he compares performance of random forest and boosting algorithms. We will use this as a benchmark model as it is well documented and scores better than our initial baseline models. Additionally we will use existing Kaggle solutions on the [leaderboard](https://www.kaggle.com/c/talkingdata-adtracking-fraud-detection/leaderboard ) as a supporting benchmark."
   ]
  },
  {
   "cell_type": "markdown",
   "metadata": {},
   "source": [
    "### Data preprocessing\n",
    "\n",
    "* Extract hour of the day\n",
    "* For each attribute extract duration since last click with that attribute\n",
    "* Remove attributes: attributed_time, click_time, is_attributed"
   ]
  },
  {
   "cell_type": "code",
   "execution_count": 22,
   "metadata": {},
   "outputs": [],
   "source": [
    "from sklearn import preprocessing\n",
    "\n",
    "def prepare_column(job):\n",
    "    df = job['df']\n",
    "    col = job['feat']\n",
    "    \n",
    "    print ('Preparing column: ', col)\n",
    "    def calculate_last(row, attr, attr_map):\n",
    "        attr_val = row[attr]\n",
    "        if attr_val in attr_map:\n",
    "            st = attr_map.get(attr_val)\n",
    "            et = row['click_time']\n",
    "            val = min((et - st).total_seconds(), 86400)\n",
    "        else:\n",
    "            val = 86400\n",
    "        attr_map[attr_val] = row['click_time']\n",
    "        return val\n",
    "\n",
    "    new_col = 'last_'+col\n",
    "    df[new_col] = df.apply(calculate_last, axis=1, attr=col, attr_map={})\n",
    "    x = df[[new_col]].values.astype(float)\n",
    "    min_max_scaler = preprocessing.MinMaxScaler()\n",
    "    x_scaled = min_max_scaler.fit_transform(x)\n",
    "    df[new_col] = x_scaled\n",
    "    return df[new_col]\n",
    "\n",
    "def prepare_dataset(df):\n",
    "    df['hour'] = df.index.hour\n",
    "    df['click_time'] = df.index\n",
    "    pool = mp.Pool(maxtasksperchild=1000)\n",
    "\n",
    "    jobs = [{'df':df,'feat':feat} for feat in ['ip', 'app', 'os', 'channel', 'device']]\n",
    "    with tqdm(total=len(jobs), desc=\"Preparing features\") as pbar:\n",
    "        for feat in pool.imap(prepare_column, jobs):\n",
    "            df = pd.concat([df, feat], axis=1)\n",
    "            pbar.update()\n",
    "            \n",
    "    pool.close()\n",
    "    pool.join()\n",
    "\n",
    "    return df.drop(labels=['is_attributed', 'attributed_time', 'click_time'], axis=1, errors='ignore')"
   ]
  },
  {
   "cell_type": "code",
   "execution_count": 25,
   "metadata": {},
   "outputs": [
    {
     "name": "stdout",
     "output_type": "stream",
     "text": [
      "Preparing train dataset\n"
     ]
    },
    {
     "data": {
      "application/vnd.jupyter.widget-view+json": {
       "model_id": "d53acd2931f54ae39054dc5ecf06222a",
       "version_major": 2,
       "version_minor": 0
      },
      "text/plain": [
       "HBox(children=(IntProgress(value=0, description='Preparing features', max=5), HTML(value='')))"
      ]
     },
     "metadata": {},
     "output_type": "display_data"
    },
    {
     "name": "stdout",
     "output_type": "stream",
     "text": [
      "Preparing column:  ip\n",
      "Preparing column:  app\n",
      "Preparing column:  os\n",
      "Preparing column:  channel\n",
      "Preparing column:  device\n",
      "\n",
      "CPU times: user 2.51 s, sys: 486 ms, total: 3 s\n",
      "Wall time: 23.6 s\n",
      "Preparing test dataset\n"
     ]
    },
    {
     "data": {
      "application/vnd.jupyter.widget-view+json": {
       "model_id": "783925b59ddc4e64965632f73fa8c92a",
       "version_major": 2,
       "version_minor": 0
      },
      "text/plain": [
       "HBox(children=(IntProgress(value=0, description='Preparing features', max=5), HTML(value='')))"
      ]
     },
     "metadata": {},
     "output_type": "display_data"
    },
    {
     "name": "stdout",
     "output_type": "stream",
     "text": [
      "Preparing column:  ip\n",
      "Preparing column:  app\n",
      "Preparing column:  os\n",
      "Preparing column:  channel\n",
      "Preparing column:  device\n",
      "\n",
      "CPU times: user 6.91 s, sys: 2.41 s, total: 9.32 s\n",
      "Wall time: 4min 10s\n"
     ]
    }
   ],
   "source": [
    "print('Preparing train dataset')\n",
    "train_y = dataset_train['is_attributed']\n",
    "%time train_X = prepare_dataset(dataset_train)\n",
    "\n",
    "print('Preparing test dataset')\n",
    "test_y = dataset_test['is_attributed']\n",
    "%time test_X = prepare_dataset(dataset_test)"
   ]
  },
  {
   "cell_type": "code",
   "execution_count": 26,
   "metadata": {},
   "outputs": [
    {
     "data": {
      "image/png": "[encoded data removed]",
      "text/plain": [
       "<Figure size 1440x360 with 1 Axes>"
      ]
     },
     "metadata": {},
     "output_type": "display_data"
    }
   ],
   "source": [
    "train_X['last_app'].plot(figsize=(20, 5));"
   ]
  },
  {
   "cell_type": "code",
   "execution_count": 19,
   "metadata": {},
   "outputs": [
    {
     "data": {
      "text/html": [
       "<div>\n",
       "<style scoped>\n",
       "    .dataframe tbody tr th:only-of-type {\n",
       "        vertical-align: middle;\n",
       "    }\n",
       "\n",
       "    .dataframe tbody tr th {\n",
       "        vertical-align: top;\n",
       "    }\n",
       "\n",
       "    .dataframe thead th {\n",
       "        text-align: right;\n",
       "    }\n",
       "</style>\n",
       "<table border=\"1\" class=\"dataframe\">\n",
       "  <thead>\n",
       "    <tr style=\"text-align: right;\">\n",
       "      <th></th>\n",
       "      <th>ip</th>\n",
       "      <th>app</th>\n",
       "      <th>device</th>\n",
       "      <th>os</th>\n",
       "      <th>channel</th>\n",
       "      <th>hour</th>\n",
       "      <th>last_ip</th>\n",
       "      <th>last_app</th>\n",
       "      <th>last_os</th>\n",
       "      <th>last_channel</th>\n",
       "      <th>last_device</th>\n",
       "    </tr>\n",
       "    <tr>\n",
       "      <th>click_time</th>\n",
       "      <th></th>\n",
       "      <th></th>\n",
       "      <th></th>\n",
       "      <th></th>\n",
       "      <th></th>\n",
       "      <th></th>\n",
       "      <th></th>\n",
       "      <th></th>\n",
       "      <th></th>\n",
       "      <th></th>\n",
       "      <th></th>\n",
       "    </tr>\n",
       "  </thead>\n",
       "  <tbody>\n",
       "    <tr>\n",
       "      <th>2017-11-09 15:59:42</th>\n",
       "      <td>85592</td>\n",
       "      <td>12</td>\n",
       "      <td>1</td>\n",
       "      <td>13</td>\n",
       "      <td>145</td>\n",
       "      <td>15</td>\n",
       "      <td>0.130498</td>\n",
       "      <td>0.000220</td>\n",
       "      <td>0.000035</td>\n",
       "      <td>0.000035</td>\n",
       "      <td>0.000012</td>\n",
       "    </tr>\n",
       "    <tr>\n",
       "      <th>2017-11-09 15:59:43</th>\n",
       "      <td>91779</td>\n",
       "      <td>18</td>\n",
       "      <td>1</td>\n",
       "      <td>41</td>\n",
       "      <td>379</td>\n",
       "      <td>15</td>\n",
       "      <td>1.000000</td>\n",
       "      <td>0.000104</td>\n",
       "      <td>0.001424</td>\n",
       "      <td>0.000556</td>\n",
       "      <td>0.000012</td>\n",
       "    </tr>\n",
       "    <tr>\n",
       "      <th>2017-11-09 15:59:44</th>\n",
       "      <td>81374</td>\n",
       "      <td>14</td>\n",
       "      <td>1</td>\n",
       "      <td>25</td>\n",
       "      <td>118</td>\n",
       "      <td>15</td>\n",
       "      <td>1.000000</td>\n",
       "      <td>0.000764</td>\n",
       "      <td>0.000613</td>\n",
       "      <td>0.007731</td>\n",
       "      <td>0.000012</td>\n",
       "    </tr>\n",
       "    <tr>\n",
       "      <th>2017-11-09 15:59:46</th>\n",
       "      <td>11911</td>\n",
       "      <td>1</td>\n",
       "      <td>1</td>\n",
       "      <td>22</td>\n",
       "      <td>115</td>\n",
       "      <td>15</td>\n",
       "      <td>1.000000</td>\n",
       "      <td>0.002373</td>\n",
       "      <td>0.000382</td>\n",
       "      <td>0.019086</td>\n",
       "      <td>0.000023</td>\n",
       "    </tr>\n",
       "    <tr>\n",
       "      <th>2017-11-09 15:59:51</th>\n",
       "      <td>44018</td>\n",
       "      <td>13</td>\n",
       "      <td>1</td>\n",
       "      <td>19</td>\n",
       "      <td>477</td>\n",
       "      <td>15</td>\n",
       "      <td>0.387813</td>\n",
       "      <td>0.002211</td>\n",
       "      <td>0.000336</td>\n",
       "      <td>0.001377</td>\n",
       "      <td>0.000058</td>\n",
       "    </tr>\n",
       "  </tbody>\n",
       "</table>\n",
       "</div>"
      ],
      "text/plain": [
       "                        ip  app  device  os  channel  hour   last_ip  \\\n",
       "click_time                                                             \n",
       "2017-11-09 15:59:42  85592   12       1  13      145    15  0.130498   \n",
       "2017-11-09 15:59:43  91779   18       1  41      379    15  1.000000   \n",
       "2017-11-09 15:59:44  81374   14       1  25      118    15  1.000000   \n",
       "2017-11-09 15:59:46  11911    1       1  22      115    15  1.000000   \n",
       "2017-11-09 15:59:51  44018   13       1  19      477    15  0.387813   \n",
       "\n",
       "                     last_app   last_os  last_channel  last_device  \n",
       "click_time                                                          \n",
       "2017-11-09 15:59:42  0.000220  0.000035      0.000035     0.000012  \n",
       "2017-11-09 15:59:43  0.000104  0.001424      0.000556     0.000012  \n",
       "2017-11-09 15:59:44  0.000764  0.000613      0.007731     0.000012  \n",
       "2017-11-09 15:59:46  0.002373  0.000382      0.019086     0.000023  \n",
       "2017-11-09 15:59:51  0.002211  0.000336      0.001377     0.000058  "
      ]
     },
     "execution_count": 19,
     "metadata": {},
     "output_type": "execute_result"
    }
   ],
   "source": [
    "train_X.tail()"
   ]
  },
  {
   "cell_type": "markdown",
   "metadata": {},
   "source": [
    "Additional features to be considered adding:\n",
    "- for each attribute number of clicks in previous N minutes with same attribute\n",
    "value"
   ]
  },
  {
   "cell_type": "markdown",
   "metadata": {},
   "source": [
    "### Model training"
   ]
  },
  {
   "cell_type": "code",
   "execution_count": 59,
   "metadata": {},
   "outputs": [
    {
     "data": {
      "text/plain": [
       "LogisticRegression(C=1.0, class_weight=None, dual=False, fit_intercept=True,\n",
       "          intercept_scaling=1, max_iter=100, multi_class='ovr', n_jobs=1,\n",
       "          penalty='l2', random_state=42, solver='liblinear', tol=0.0001,\n",
       "          verbose=0, warm_start=False)"
      ]
     },
     "metadata": {},
     "output_type": "display_data"
    },
    {
     "name": "stdout",
     "output_type": "stream",
     "text": [
      "LogisticRegression confusion matrix:\n"
     ]
    },
    {
     "data": {
      "text/html": [
       "<div>\n",
       "<style scoped>\n",
       "    .dataframe tbody tr th:only-of-type {\n",
       "        vertical-align: middle;\n",
       "    }\n",
       "\n",
       "    .dataframe tbody tr th {\n",
       "        vertical-align: top;\n",
       "    }\n",
       "\n",
       "    .dataframe thead th {\n",
       "        text-align: right;\n",
       "    }\n",
       "</style>\n",
       "<table border=\"1\" class=\"dataframe\">\n",
       "  <thead>\n",
       "    <tr style=\"text-align: right;\">\n",
       "      <th></th>\n",
       "      <th>0</th>\n",
       "      <th>1</th>\n",
       "    </tr>\n",
       "  </thead>\n",
       "  <tbody>\n",
       "    <tr>\n",
       "      <th>0</th>\n",
       "      <td>998305</td>\n",
       "      <td>2</td>\n",
       "    </tr>\n",
       "    <tr>\n",
       "      <th>1</th>\n",
       "      <td>1693</td>\n",
       "      <td>0</td>\n",
       "    </tr>\n",
       "  </tbody>\n",
       "</table>\n",
       "</div>"
      ],
      "text/plain": [
       "        0  1\n",
       "0  998305  2\n",
       "1    1693  0"
      ]
     },
     "metadata": {},
     "output_type": "display_data"
    },
    {
     "data": {
      "text/plain": [
       "GaussianNB(priors=None)"
      ]
     },
     "metadata": {},
     "output_type": "display_data"
    },
    {
     "name": "stdout",
     "output_type": "stream",
     "text": [
      "GaussianNB confusion matrix:\n"
     ]
    },
    {
     "data": {
      "text/html": [
       "<div>\n",
       "<style scoped>\n",
       "    .dataframe tbody tr th:only-of-type {\n",
       "        vertical-align: middle;\n",
       "    }\n",
       "\n",
       "    .dataframe tbody tr th {\n",
       "        vertical-align: top;\n",
       "    }\n",
       "\n",
       "    .dataframe thead th {\n",
       "        text-align: right;\n",
       "    }\n",
       "</style>\n",
       "<table border=\"1\" class=\"dataframe\">\n",
       "  <thead>\n",
       "    <tr style=\"text-align: right;\">\n",
       "      <th></th>\n",
       "      <th>0</th>\n",
       "      <th>1</th>\n",
       "    </tr>\n",
       "  </thead>\n",
       "  <tbody>\n",
       "    <tr>\n",
       "      <th>0</th>\n",
       "      <td>994224</td>\n",
       "      <td>4083</td>\n",
       "    </tr>\n",
       "    <tr>\n",
       "      <th>1</th>\n",
       "      <td>1482</td>\n",
       "      <td>211</td>\n",
       "    </tr>\n",
       "  </tbody>\n",
       "</table>\n",
       "</div>"
      ],
      "text/plain": [
       "        0     1\n",
       "0  994224  4083\n",
       "1    1482   211"
      ]
     },
     "metadata": {},
     "output_type": "display_data"
    },
    {
     "data": {
      "text/plain": [
       "DecisionTreeClassifier(class_weight=None, criterion='gini', max_depth=None,\n",
       "            max_features=None, max_leaf_nodes=None,\n",
       "            min_impurity_decrease=0.0, min_impurity_split=None,\n",
       "            min_samples_leaf=1, min_samples_split=2,\n",
       "            min_weight_fraction_leaf=0.0, presort=False, random_state=42,\n",
       "            splitter='best')"
      ]
     },
     "metadata": {},
     "output_type": "display_data"
    },
    {
     "name": "stdout",
     "output_type": "stream",
     "text": [
      "DecisionTreeClassifier confusion matrix:\n"
     ]
    },
    {
     "data": {
      "text/html": [
       "<div>\n",
       "<style scoped>\n",
       "    .dataframe tbody tr th:only-of-type {\n",
       "        vertical-align: middle;\n",
       "    }\n",
       "\n",
       "    .dataframe tbody tr th {\n",
       "        vertical-align: top;\n",
       "    }\n",
       "\n",
       "    .dataframe thead th {\n",
       "        text-align: right;\n",
       "    }\n",
       "</style>\n",
       "<table border=\"1\" class=\"dataframe\">\n",
       "  <thead>\n",
       "    <tr style=\"text-align: right;\">\n",
       "      <th></th>\n",
       "      <th>0</th>\n",
       "      <th>1</th>\n",
       "    </tr>\n",
       "  </thead>\n",
       "  <tbody>\n",
       "    <tr>\n",
       "      <th>0</th>\n",
       "      <td>996123</td>\n",
       "      <td>2184</td>\n",
       "    </tr>\n",
       "    <tr>\n",
       "      <th>1</th>\n",
       "      <td>1245</td>\n",
       "      <td>448</td>\n",
       "    </tr>\n",
       "  </tbody>\n",
       "</table>\n",
       "</div>"
      ],
      "text/plain": [
       "        0     1\n",
       "0  996123  2184\n",
       "1    1245   448"
      ]
     },
     "metadata": {},
     "output_type": "display_data"
    },
    {
     "data": {
      "text/plain": [
       "GradientBoostingClassifier(criterion='friedman_mse', init=None,\n",
       "              learning_rate=0.1, loss='deviance', max_depth=3,\n",
       "              max_features=None, max_leaf_nodes=None,\n",
       "              min_impurity_decrease=0.0, min_impurity_split=None,\n",
       "              min_samples_leaf=1, min_samples_split=2,\n",
       "              min_weight_fraction_leaf=0.0, n_estimators=100,\n",
       "              presort='auto', random_state=42, subsample=1.0, verbose=0,\n",
       "              warm_start=False)"
      ]
     },
     "metadata": {},
     "output_type": "display_data"
    },
    {
     "name": "stdout",
     "output_type": "stream",
     "text": [
      "GradientBoostingClassifier confusion matrix:\n"
     ]
    },
    {
     "data": {
      "text/html": [
       "<div>\n",
       "<style scoped>\n",
       "    .dataframe tbody tr th:only-of-type {\n",
       "        vertical-align: middle;\n",
       "    }\n",
       "\n",
       "    .dataframe tbody tr th {\n",
       "        vertical-align: top;\n",
       "    }\n",
       "\n",
       "    .dataframe thead th {\n",
       "        text-align: right;\n",
       "    }\n",
       "</style>\n",
       "<table border=\"1\" class=\"dataframe\">\n",
       "  <thead>\n",
       "    <tr style=\"text-align: right;\">\n",
       "      <th></th>\n",
       "      <th>0</th>\n",
       "      <th>1</th>\n",
       "    </tr>\n",
       "  </thead>\n",
       "  <tbody>\n",
       "    <tr>\n",
       "      <th>0</th>\n",
       "      <td>998001</td>\n",
       "      <td>306</td>\n",
       "    </tr>\n",
       "    <tr>\n",
       "      <th>1</th>\n",
       "      <td>1572</td>\n",
       "      <td>121</td>\n",
       "    </tr>\n",
       "  </tbody>\n",
       "</table>\n",
       "</div>"
      ],
      "text/plain": [
       "        0    1\n",
       "0  998001  306\n",
       "1    1572  121"
      ]
     },
     "metadata": {},
     "output_type": "display_data"
    },
    {
     "data": {
      "text/plain": [
       "RandomForestClassifier(bootstrap=True, class_weight=None, criterion='gini',\n",
       "            max_depth=None, max_features='auto', max_leaf_nodes=None,\n",
       "            min_impurity_decrease=0.0, min_impurity_split=None,\n",
       "            min_samples_leaf=1, min_samples_split=2,\n",
       "            min_weight_fraction_leaf=0.0, n_estimators=10, n_jobs=1,\n",
       "            oob_score=False, random_state=42, verbose=0, warm_start=False)"
      ]
     },
     "metadata": {},
     "output_type": "display_data"
    },
    {
     "name": "stdout",
     "output_type": "stream",
     "text": [
      "RandomForestClassifier confusion matrix:\n"
     ]
    },
    {
     "data": {
      "text/html": [
       "<div>\n",
       "<style scoped>\n",
       "    .dataframe tbody tr th:only-of-type {\n",
       "        vertical-align: middle;\n",
       "    }\n",
       "\n",
       "    .dataframe tbody tr th {\n",
       "        vertical-align: top;\n",
       "    }\n",
       "\n",
       "    .dataframe thead th {\n",
       "        text-align: right;\n",
       "    }\n",
       "</style>\n",
       "<table border=\"1\" class=\"dataframe\">\n",
       "  <thead>\n",
       "    <tr style=\"text-align: right;\">\n",
       "      <th></th>\n",
       "      <th>0</th>\n",
       "      <th>1</th>\n",
       "    </tr>\n",
       "  </thead>\n",
       "  <tbody>\n",
       "    <tr>\n",
       "      <th>0</th>\n",
       "      <td>997829</td>\n",
       "      <td>478</td>\n",
       "    </tr>\n",
       "    <tr>\n",
       "      <th>1</th>\n",
       "      <td>1576</td>\n",
       "      <td>117</td>\n",
       "    </tr>\n",
       "  </tbody>\n",
       "</table>\n",
       "</div>"
      ],
      "text/plain": [
       "        0    1\n",
       "0  997829  478\n",
       "1    1576  117"
      ]
     },
     "metadata": {},
     "output_type": "display_data"
    },
    {
     "data": {
      "text/html": [
       "<div>\n",
       "<style scoped>\n",
       "    .dataframe tbody tr th:only-of-type {\n",
       "        vertical-align: middle;\n",
       "    }\n",
       "\n",
       "    .dataframe tbody tr th {\n",
       "        vertical-align: top;\n",
       "    }\n",
       "\n",
       "    .dataframe thead th {\n",
       "        text-align: right;\n",
       "    }\n",
       "</style>\n",
       "<table border=\"1\" class=\"dataframe\">\n",
       "  <thead>\n",
       "    <tr style=\"text-align: right;\">\n",
       "      <th></th>\n",
       "      <th>auc</th>\n",
       "      <th>clf</th>\n",
       "    </tr>\n",
       "  </thead>\n",
       "  <tbody>\n",
       "    <tr>\n",
       "      <th>0</th>\n",
       "      <td>0.562072</td>\n",
       "      <td>LogisticRegression</td>\n",
       "    </tr>\n",
       "    <tr>\n",
       "      <th>2</th>\n",
       "      <td>0.631216</td>\n",
       "      <td>DecisionTreeClassifier</td>\n",
       "    </tr>\n",
       "    <tr>\n",
       "      <th>4</th>\n",
       "      <td>0.736183</td>\n",
       "      <td>RandomForestClassifier</td>\n",
       "    </tr>\n",
       "    <tr>\n",
       "      <th>1</th>\n",
       "      <td>0.762397</td>\n",
       "      <td>GaussianNB</td>\n",
       "    </tr>\n",
       "    <tr>\n",
       "      <th>3</th>\n",
       "      <td>0.843181</td>\n",
       "      <td>GradientBoostingClassifier</td>\n",
       "    </tr>\n",
       "  </tbody>\n",
       "</table>\n",
       "</div>"
      ],
      "text/plain": [
       "        auc                         clf\n",
       "0  0.562072          LogisticRegression\n",
       "2  0.631216      DecisionTreeClassifier\n",
       "4  0.736183      RandomForestClassifier\n",
       "1  0.762397                  GaussianNB\n",
       "3  0.843181  GradientBoostingClassifier"
      ]
     },
     "metadata": {},
     "output_type": "display_data"
    },
    {
     "data": {
      "image/png": "[encoded data removed]",
      "text/plain": [
       "<Figure size 432x288 with 1 Axes>"
      ]
     },
     "metadata": {},
     "output_type": "display_data"
    }
   ],
   "source": [
    "from sklearn.linear_model import LogisticRegression\n",
    "from sklearn.naive_bayes import GaussianNB\n",
    "from sklearn.metrics import roc_auc_score, classification_report, confusion_matrix\n",
    "from sklearn import tree\n",
    "from sklearn.ensemble import GradientBoostingClassifier\n",
    "from sklearn.ensemble import RandomForestClassifier\n",
    "\n",
    "def evaluate_model(clf):\n",
    "    predicted_proba_y = clf.predict_proba(test_X)[:,1]\n",
    "    predicted_y = clf.predict(test_X)\n",
    "    clf_name = str(clf).split('(')[0]\n",
    "    display(clf)\n",
    "    print(clf_name + ' confusion matrix:')\n",
    "    display(pd.DataFrame(confusion_matrix(test_y, predicted_y)))\n",
    "    return [{'clf': clf_name,\n",
    "            'auc': roc_auc_score(test_y, predicted_proba_y)}]\n",
    "\n",
    "results = []\n",
    "for clf in [LogisticRegression(random_state=42), \n",
    "            GaussianNB(), \n",
    "            tree.DecisionTreeClassifier(random_state=42),\n",
    "            GradientBoostingClassifier(random_state=42),\n",
    "            RandomForestClassifier(random_state=42)]:\n",
    "    clf.fit(train_X, train_y)\n",
    "    results += evaluate_model(clf)\n",
    "    \n",
    "results = pd.DataFrame(results).sort_values(by=['auc'])\n",
    "\n",
    "display(results)\n",
    "results.plot.bar(x='clf');"
   ]
  },
  {
   "cell_type": "code",
   "execution_count": 60,
   "metadata": {},
   "outputs": [
    {
     "name": "stdout",
     "output_type": "stream",
     "text": [
      "Fitting 5 folds for each of 18 candidates, totalling 90 fits\n",
      "[CV] learning_rate=0.1, loss=deviance, n_estimators=50 ...............\n",
      "[CV] learning_rate=0.1, loss=deviance, n_estimators=50 ...............\n",
      "[CV] learning_rate=0.1, loss=deviance, n_estimators=50 ...............\n",
      "[CV] learning_rate=0.1, loss=deviance, n_estimators=50 ...............\n",
      "[CV]  learning_rate=0.1, loss=deviance, n_estimators=50, score=0.5541724314490212, total=   6.1s\n",
      "[CV] learning_rate=0.1, loss=deviance, n_estimators=50 ...............\n",
      "[CV]  learning_rate=0.1, loss=deviance, n_estimators=50, score=0.5440435223235665, total=   6.1s\n",
      "[CV] learning_rate=0.1, loss=deviance, n_estimators=100 ..............\n",
      "[CV]  learning_rate=0.1, loss=deviance, n_estimators=50, score=0.5219716584537432, total=   6.5s\n",
      "[CV]  learning_rate=0.1, loss=deviance, n_estimators=50, score=0.5433780353621736, total=   6.5s\n",
      "[CV] learning_rate=0.1, loss=deviance, n_estimators=100 ..............\n",
      "[CV] learning_rate=0.1, loss=deviance, n_estimators=100 ..............\n",
      "[CV]  learning_rate=0.1, loss=deviance, n_estimators=50, score=0.5551045181695679, total=   6.3s\n",
      "[CV] learning_rate=0.1, loss=deviance, n_estimators=100 ..............\n",
      "[CV]  learning_rate=0.1, loss=deviance, n_estimators=100, score=0.5541473750721733, total=  13.6s\n",
      "[CV] learning_rate=0.1, loss=deviance, n_estimators=100 ..............\n",
      "[CV]  learning_rate=0.1, loss=deviance, n_estimators=100, score=0.5433028662316298, total=  13.8s\n",
      "[CV] learning_rate=0.1, loss=deviance, n_estimators=200 ..............\n",
      "[CV]  learning_rate=0.1, loss=deviance, n_estimators=100, score=0.5663409337676438, total=  13.9s\n",
      "[CV] learning_rate=0.1, loss=deviance, n_estimators=200 ..............\n",
      "[CV]  learning_rate=0.1, loss=deviance, n_estimators=100, score=0.5884629091354561, total=  15.5s\n",
      "[CV] learning_rate=0.1, loss=deviance, n_estimators=200 ..............\n",
      "[CV]  learning_rate=0.1, loss=deviance, n_estimators=100, score=0.5662156292806788, total=  15.1s\n",
      "[CV] learning_rate=0.1, loss=deviance, n_estimators=200 ..............\n",
      "[CV]  learning_rate=0.1, loss=deviance, n_estimators=200, score=0.5650670530432603, total=  27.7s\n",
      "[CV] learning_rate=0.1, loss=deviance, n_estimators=200 ..............\n",
      "[CV]  learning_rate=0.1, loss=deviance, n_estimators=200, score=0.5650169402895645, total=  29.6s\n",
      "[CV] learning_rate=0.1, loss=exponential, n_estimators=50 ............\n",
      "[CV]  learning_rate=0.1, loss=deviance, n_estimators=200, score=0.588588212366714, total=  27.3s\n",
      "[CV] learning_rate=0.1, loss=exponential, n_estimators=50 ............\n",
      "[CV]  learning_rate=0.1, loss=exponential, n_estimators=50, score=0.5, total=   8.7s\n",
      "[CV] learning_rate=0.1, loss=exponential, n_estimators=50 ............\n",
      "[CV]  learning_rate=0.1, loss=exponential, n_estimators=50, score=0.5217140740579347, total=   9.4s\n",
      "[CV] learning_rate=0.1, loss=exponential, n_estimators=50 ............\n",
      "[CV]  learning_rate=0.1, loss=deviance, n_estimators=200, score=0.5884879667680109, total=  31.5s\n",
      "[CV] learning_rate=0.1, loss=exponential, n_estimators=50 ............\n",
      "[CV]  learning_rate=0.1, loss=exponential, n_estimators=50, score=0.5, total=  10.0s\n",
      "[CV] learning_rate=0.1, loss=exponential, n_estimators=100 ...........\n",
      "[CV]  learning_rate=0.1, loss=exponential, n_estimators=50, score=0.5221971645896674, total=  11.8s\n",
      "[CV] learning_rate=0.1, loss=exponential, n_estimators=100 ...........\n",
      "[CV]  learning_rate=0.1, loss=exponential, n_estimators=50, score=0.4999749423674451, total=  11.8s\n",
      "[CV] learning_rate=0.1, loss=exponential, n_estimators=100 ...........\n",
      "[CV]  learning_rate=0.1, loss=deviance, n_estimators=200, score=0.566190571648124, total=  37.2s\n",
      "[CV] learning_rate=0.1, loss=exponential, n_estimators=100 ...........\n",
      "[CV]  learning_rate=0.1, loss=exponential, n_estimators=100, score=0.5325335265216302, total=  24.6s\n",
      "[CV] learning_rate=0.1, loss=exponential, n_estimators=100 ...........\n",
      "[CV]  learning_rate=0.1, loss=exponential, n_estimators=100, score=0.554222544202717, total=  27.0s\n",
      "[CV] learning_rate=0.1, loss=exponential, n_estimators=200 ...........\n",
      "[CV]  learning_rate=0.1, loss=exponential, n_estimators=100, score=0.5665163284055792, total=  26.8s\n",
      "[CV] learning_rate=0.1, loss=exponential, n_estimators=200 ...........\n",
      "[CV]  learning_rate=0.1, loss=exponential, n_estimators=100, score=0.5442940986491152, total=  27.9s\n",
      "[CV] learning_rate=0.1, loss=exponential, n_estimators=200 ...........\n"
     ]
    },
    {
     "name": "stderr",
     "output_type": "stream",
     "text": [
      "[Parallel(n_jobs=-1)]: Done  24 tasks      | elapsed:  1.9min\n"
     ]
    },
    {
     "name": "stdout",
     "output_type": "stream",
     "text": [
      "[CV]  learning_rate=0.1, loss=exponential, n_estimators=100, score=0.5555555555555556, total=  28.9s\n",
      "[CV] learning_rate=0.1, loss=exponential, n_estimators=200 ...........\n",
      "[CV]  learning_rate=0.1, loss=exponential, n_estimators=200, score=0.5976757486954343, total=  56.6s\n",
      "[CV] learning_rate=0.1, loss=exponential, n_estimators=200 ...........\n",
      "[CV]  learning_rate=0.1, loss=exponential, n_estimators=200, score=0.554222544202717, total=  55.8s\n",
      "[CV] learning_rate=0.2, loss=deviance, n_estimators=50 ...............\n",
      "[CV]  learning_rate=0.1, loss=exponential, n_estimators=200, score=0.5775522703861465, total=  53.8s\n",
      "[CV] learning_rate=0.2, loss=deviance, n_estimators=50 ...............\n",
      "[CV]  learning_rate=0.2, loss=deviance, n_estimators=50, score=0.6289063436209733, total=  10.4s\n",
      "[CV] learning_rate=0.2, loss=deviance, n_estimators=50 ...............\n",
      "[CV]  learning_rate=0.1, loss=exponential, n_estimators=200, score=0.588663370195895, total=  51.9s\n",
      "[CV] learning_rate=0.2, loss=deviance, n_estimators=50 ...............\n",
      "[CV]  learning_rate=0.2, loss=deviance, n_estimators=50, score=0.564866602028477, total=   8.5s\n",
      "[CV] learning_rate=0.2, loss=deviance, n_estimators=50 ...............\n",
      "[CV]  learning_rate=0.2, loss=deviance, n_estimators=50, score=0.6432166819788969, total=   8.8s\n",
      "[CV] learning_rate=0.2, loss=deviance, n_estimators=100 ..............\n",
      "[CV]  learning_rate=0.2, loss=deviance, n_estimators=50, score=0.5331328722728943, total=   8.7s\n",
      "[CV] learning_rate=0.2, loss=deviance, n_estimators=100 ..............\n",
      "[CV]  learning_rate=0.2, loss=deviance, n_estimators=50, score=0.5775522590847838, total=   9.5s\n",
      "[CV] learning_rate=0.2, loss=deviance, n_estimators=100 ..............\n",
      "[CV]  learning_rate=0.2, loss=deviance, n_estimators=100, score=0.6289063436209733, total=  13.6s\n",
      "[CV] learning_rate=0.2, loss=deviance, n_estimators=100 ..............\n",
      "[CV]  learning_rate=0.1, loss=exponential, n_estimators=200, score=0.5555555555555556, total=  36.0s\n",
      "[CV] learning_rate=0.2, loss=deviance, n_estimators=100 ..............\n",
      "[CV]  learning_rate=0.2, loss=deviance, n_estimators=100, score=0.5430272460863029, total=  14.0s\n",
      "[CV] learning_rate=0.2, loss=deviance, n_estimators=200 ..............\n",
      "[CV]  learning_rate=0.2, loss=deviance, n_estimators=100, score=0.6876611264233414, total=  15.6s\n",
      "[CV] learning_rate=0.2, loss=deviance, n_estimators=200 ..............\n",
      "[CV]  learning_rate=0.2, loss=deviance, n_estimators=100, score=0.5330827570077846, total=  14.2s\n",
      "[CV] learning_rate=0.2, loss=deviance, n_estimators=200 ..............\n",
      "[CV]  learning_rate=0.2, loss=deviance, n_estimators=100, score=0.5775522590847838, total=  13.8s\n",
      "[CV] learning_rate=0.2, loss=deviance, n_estimators=200 ..............\n",
      "[CV]  learning_rate=0.2, loss=deviance, n_estimators=200, score=0.6289063436209733, total=  27.6s\n",
      "[CV] learning_rate=0.2, loss=deviance, n_estimators=200 ..............\n",
      "[CV]  learning_rate=0.2, loss=deviance, n_estimators=200, score=0.5430523024631507, total=  27.7s\n",
      "[CV] learning_rate=0.2, loss=exponential, n_estimators=50 ............\n",
      "[CV]  learning_rate=0.2, loss=deviance, n_estimators=200, score=0.6987471811576046, total=  27.1s\n",
      "[CV] learning_rate=0.2, loss=exponential, n_estimators=50 ............\n",
      "[CV]  learning_rate=0.2, loss=exponential, n_estimators=50, score=0.5650921094201082, total=   8.6s\n",
      "[CV] learning_rate=0.2, loss=exponential, n_estimators=50 ............\n",
      "[CV]  learning_rate=0.2, loss=deviance, n_estimators=200, score=0.5441938681188957, total=  29.4s\n",
      "[CV] learning_rate=0.2, loss=exponential, n_estimators=50 ............\n",
      "[CV]  learning_rate=0.2, loss=exponential, n_estimators=50, score=0.5433529789853256, total=  12.3s\n",
      "[CV] learning_rate=0.2, loss=exponential, n_estimators=50 ............\n",
      "[CV]  learning_rate=0.2, loss=exponential, n_estimators=50, score=0.555430273671316, total=  11.6s\n",
      "[CV] learning_rate=0.2, loss=exponential, n_estimators=100 ...........\n",
      "[CV]  learning_rate=0.2, loss=exponential, n_estimators=50, score=0.5553300368625618, total=  12.8s\n",
      "[CV] learning_rate=0.2, loss=exponential, n_estimators=100 ...........\n",
      "[CV]  learning_rate=0.2, loss=exponential, n_estimators=50, score=0.5443943291793347, total=  12.7s\n",
      "[CV] learning_rate=0.2, loss=exponential, n_estimators=100 ...........\n",
      "[CV]  learning_rate=0.2, loss=deviance, n_estimators=200, score=0.5774520285545643, total=  36.0s\n",
      "[CV] learning_rate=0.2, loss=exponential, n_estimators=100 ...........\n",
      "[CV]  learning_rate=0.2, loss=exponential, n_estimators=100, score=0.5433529789853256, total=  26.6s\n",
      "[CV] learning_rate=0.2, loss=exponential, n_estimators=100 ...........\n",
      "[CV]  learning_rate=0.2, loss=exponential, n_estimators=100, score=0.5650921094201082, total=  27.3s\n",
      "[CV] learning_rate=0.2, loss=exponential, n_estimators=200 ...........\n",
      "[CV]  learning_rate=0.2, loss=exponential, n_estimators=100, score=0.5775021576324507, total=  27.1s\n",
      "[CV] learning_rate=0.2, loss=exponential, n_estimators=200 ...........\n",
      "[CV]  learning_rate=0.2, loss=exponential, n_estimators=100, score=0.5996993084093414, total=  27.5s\n",
      "[CV] learning_rate=0.2, loss=exponential, n_estimators=200 ...........\n",
      "[CV]  learning_rate=0.2, loss=exponential, n_estimators=100, score=0.5333082757007784, total=  28.4s\n",
      "[CV] learning_rate=0.2, loss=exponential, n_estimators=200 ...........\n",
      "[CV]  learning_rate=0.2, loss=exponential, n_estimators=200, score=0.6084952011591298, total=  53.6s\n",
      "[CV] learning_rate=0.2, loss=exponential, n_estimators=200 ...........\n",
      "[CV]  learning_rate=0.2, loss=exponential, n_estimators=200, score=0.621996714830591, total=  53.4s\n",
      "[CV] learning_rate=0.3, loss=deviance, n_estimators=50 ...............\n",
      "[CV]  learning_rate=0.2, loss=exponential, n_estimators=200, score=0.5976506923185864, total=  56.5s\n",
      "[CV] learning_rate=0.3, loss=deviance, n_estimators=50 ...............\n",
      "[CV]  learning_rate=0.3, loss=deviance, n_estimators=50, score=0.6402269236216269, total=  10.1s\n",
      "[CV] learning_rate=0.3, loss=deviance, n_estimators=50 ...............\n",
      "[CV]  learning_rate=0.3, loss=deviance, n_estimators=50, score=0.6070669876787991, total=  10.9s\n",
      "[CV] learning_rate=0.3, loss=deviance, n_estimators=50 ...............\n",
      "[CV]  learning_rate=0.2, loss=exponential, n_estimators=200, score=0.6219465882641186, total=  51.4s\n",
      "[CV] learning_rate=0.3, loss=deviance, n_estimators=50 ...............\n",
      "[CV]  learning_rate=0.3, loss=deviance, n_estimators=50, score=0.4999749436231521, total=   7.4s\n",
      "[CV] learning_rate=0.3, loss=deviance, n_estimators=100 ..............\n",
      "[CV]  learning_rate=0.3, loss=deviance, n_estimators=50, score=0.6217461272036796, total=   6.8s\n",
      "[CV] learning_rate=0.3, loss=deviance, n_estimators=100 ..............\n",
      "[CV]  learning_rate=0.3, loss=deviance, n_estimators=50, score=0.5661655140155691, total=   8.1s\n",
      "[CV] learning_rate=0.3, loss=deviance, n_estimators=100 ..............\n",
      "[CV]  learning_rate=0.2, loss=exponential, n_estimators=200, score=0.533208045170559, total=  38.0s\n",
      "[CV] learning_rate=0.3, loss=deviance, n_estimators=100 ..............\n",
      "[CV]  learning_rate=0.3, loss=deviance, n_estimators=100, score=0.6402269236216269, total=  13.2s\n",
      "[CV] learning_rate=0.3, loss=deviance, n_estimators=100 ..............\n",
      "[CV]  learning_rate=0.3, loss=deviance, n_estimators=100, score=0.6070669876787991, total=  13.5s\n",
      "[CV] learning_rate=0.3, loss=deviance, n_estimators=200 ..............\n",
      "[CV]  learning_rate=0.3, loss=deviance, n_estimators=100, score=0.4999749436231521, total=  14.7s\n",
      "[CV] learning_rate=0.3, loss=deviance, n_estimators=200 ..............\n",
      "[CV]  learning_rate=0.3, loss=deviance, n_estimators=100, score=0.5661655140155691, total=  13.1s\n",
      "[CV] learning_rate=0.3, loss=deviance, n_estimators=200 ..............\n",
      "[CV]  learning_rate=0.3, loss=deviance, n_estimators=100, score=0.6106099584600136, total=  14.5s\n",
      "[CV] learning_rate=0.3, loss=deviance, n_estimators=200 ..............\n",
      "[CV]  learning_rate=0.3, loss=deviance, n_estimators=200, score=0.6402018672447789, total=  27.7s\n",
      "[CV] learning_rate=0.3, loss=deviance, n_estimators=200 ..............\n",
      "[CV]  learning_rate=0.3, loss=deviance, n_estimators=200, score=0.6070669876787991, total=  28.8s\n",
      "[CV] learning_rate=0.3, loss=exponential, n_estimators=50 ............\n",
      "[CV]  learning_rate=0.3, loss=deviance, n_estimators=200, score=0.4999749436231521, total=  27.8s\n"
     ]
    },
    {
     "name": "stdout",
     "output_type": "stream",
     "text": [
      "[CV] learning_rate=0.3, loss=exponential, n_estimators=50 ............\n",
      "[CV]  learning_rate=0.3, loss=deviance, n_estimators=200, score=0.5661655140155691, total=  28.4s\n",
      "[CV] learning_rate=0.3, loss=exponential, n_estimators=50 ............\n",
      "[CV]  learning_rate=0.3, loss=exponential, n_estimators=50, score=0.5541974878258691, total=  11.9s\n",
      "[CV] learning_rate=0.3, loss=exponential, n_estimators=50 ............\n",
      "[CV]  learning_rate=0.3, loss=exponential, n_estimators=50, score=0.5433028662316298, total=  12.3s\n",
      "[CV] learning_rate=0.3, loss=exponential, n_estimators=50 ............\n",
      "[CV]  learning_rate=0.3, loss=exponential, n_estimators=50, score=0.5886633814972577, total=  12.0s\n",
      "[CV] learning_rate=0.3, loss=exponential, n_estimators=100 ...........\n",
      "[CV]  learning_rate=0.3, loss=exponential, n_estimators=50, score=0.5775522590847838, total=  12.6s\n",
      "[CV] learning_rate=0.3, loss=exponential, n_estimators=100 ...........\n",
      "[CV]  learning_rate=0.3, loss=exponential, n_estimators=50, score=0.5555054402904459, total=  12.3s\n",
      "[CV] learning_rate=0.3, loss=exponential, n_estimators=100 ...........\n",
      "[CV]  learning_rate=0.3, loss=deviance, n_estimators=200, score=0.5994988473489025, total=  40.6s\n",
      "[CV] learning_rate=0.3, loss=exponential, n_estimators=100 ...........\n",
      "[CV]  learning_rate=0.3, loss=exponential, n_estimators=100, score=0.5976256359417385, total=  25.0s\n",
      "[CV] learning_rate=0.3, loss=exponential, n_estimators=100 ...........\n",
      "[CV]  learning_rate=0.3, loss=exponential, n_estimators=100, score=0.5650419966664124, total=  25.1s\n",
      "[CV] learning_rate=0.3, loss=exponential, n_estimators=200 ...........\n",
      "[CV]  learning_rate=0.3, loss=exponential, n_estimators=100, score=0.6108104345889362, total=  28.5s\n",
      "[CV] learning_rate=0.3, loss=exponential, n_estimators=200 ...........\n",
      "[CV]  learning_rate=0.3, loss=exponential, n_estimators=100, score=0.5997744813070062, total=  27.3s\n",
      "[CV] learning_rate=0.3, loss=exponential, n_estimators=200 ...........\n",
      "[CV]  learning_rate=0.3, loss=exponential, n_estimators=100, score=0.5443692715467797, total=  27.7s\n",
      "[CV] learning_rate=0.3, loss=exponential, n_estimators=200 ...........\n",
      "[CV]  learning_rate=0.3, loss=exponential, n_estimators=200, score=0.5976256359417385, total=  51.6s\n",
      "[CV] learning_rate=0.3, loss=exponential, n_estimators=200 ...........\n",
      "[CV]  learning_rate=0.3, loss=exponential, n_estimators=200, score=0.5976256359417385, total=  51.9s\n",
      "[CV]  learning_rate=0.3, loss=exponential, n_estimators=200, score=0.6219716584537431, total=  49.1s\n",
      "[CV]  learning_rate=0.3, loss=exponential, n_estimators=200, score=0.6219215306315636, total=  45.1s\n",
      "[CV]  learning_rate=0.3, loss=exponential, n_estimators=200, score=0.5553801521276714, total=  24.2s\n"
     ]
    },
    {
     "name": "stderr",
     "output_type": "stream",
     "text": [
      "[Parallel(n_jobs=-1)]: Done  90 out of  90 | elapsed:  9.0min finished\n"
     ]
    },
    {
     "data": {
      "text/plain": [
       "GridSearchCV(cv=StratifiedKFold(n_splits=5, random_state=None, shuffle=True),\n",
       "       error_score='raise',\n",
       "       estimator=GradientBoostingClassifier(criterion='friedman_mse', init=None,\n",
       "              learning_rate=0.1, loss='deviance', max_depth=3,\n",
       "              max_features=None, max_leaf_nodes=None,\n",
       "              min_impurity_decrease=0.0, min_impurity_split=None,\n",
       "              min_samples_leaf=1, min_samples_split=2,\n",
       "              min_weight_fraction_leaf=0.0, n_estimators=100,\n",
       "              presort='auto', random_state=None, subsample=1.0, verbose=0,\n",
       "              warm_start=False),\n",
       "       fit_params=None, iid=True, n_jobs=-1,\n",
       "       param_grid={'loss': ['deviance', 'exponential'], 'learning_rate': [0.1, 0.2, 0.3], 'n_estimators': [50, 100, 200]},\n",
       "       pre_dispatch='2*n_jobs', refit=True, return_train_score='warn',\n",
       "       scoring=make_scorer(roc_auc_score), verbose=3)"
      ]
     },
     "metadata": {},
     "output_type": "display_data"
    },
    {
     "name": "stdout",
     "output_type": "stream",
     "text": [
      "GridSearchCV confusion matrix:\n"
     ]
    },
    {
     "data": {
      "text/html": [
       "<div>\n",
       "<style scoped>\n",
       "    .dataframe tbody tr th:only-of-type {\n",
       "        vertical-align: middle;\n",
       "    }\n",
       "\n",
       "    .dataframe tbody tr th {\n",
       "        vertical-align: top;\n",
       "    }\n",
       "\n",
       "    .dataframe thead th {\n",
       "        text-align: right;\n",
       "    }\n",
       "</style>\n",
       "<table border=\"1\" class=\"dataframe\">\n",
       "  <thead>\n",
       "    <tr style=\"text-align: right;\">\n",
       "      <th></th>\n",
       "      <th>0</th>\n",
       "      <th>1</th>\n",
       "    </tr>\n",
       "  </thead>\n",
       "  <tbody>\n",
       "    <tr>\n",
       "      <th>0</th>\n",
       "      <td>996623</td>\n",
       "      <td>1684</td>\n",
       "    </tr>\n",
       "    <tr>\n",
       "      <th>1</th>\n",
       "      <td>1322</td>\n",
       "      <td>371</td>\n",
       "    </tr>\n",
       "  </tbody>\n",
       "</table>\n",
       "</div>"
      ],
      "text/plain": [
       "        0     1\n",
       "0  996623  1684\n",
       "1    1322   371"
      ]
     },
     "metadata": {},
     "output_type": "display_data"
    },
    {
     "data": {
      "text/html": [
       "<div>\n",
       "<style scoped>\n",
       "    .dataframe tbody tr th:only-of-type {\n",
       "        vertical-align: middle;\n",
       "    }\n",
       "\n",
       "    .dataframe tbody tr th {\n",
       "        vertical-align: top;\n",
       "    }\n",
       "\n",
       "    .dataframe thead th {\n",
       "        text-align: right;\n",
       "    }\n",
       "</style>\n",
       "<table border=\"1\" class=\"dataframe\">\n",
       "  <thead>\n",
       "    <tr style=\"text-align: right;\">\n",
       "      <th></th>\n",
       "      <th>auc</th>\n",
       "      <th>clf</th>\n",
       "    </tr>\n",
       "  </thead>\n",
       "  <tbody>\n",
       "    <tr>\n",
       "      <th>0</th>\n",
       "      <td>0.874612</td>\n",
       "      <td>GridSearchCV</td>\n",
       "    </tr>\n",
       "  </tbody>\n",
       "</table>\n",
       "</div>"
      ],
      "text/plain": [
       "        auc           clf\n",
       "0  0.874612  GridSearchCV"
      ]
     },
     "metadata": {},
     "output_type": "display_data"
    },
    {
     "name": "stdout",
     "output_type": "stream",
     "text": [
      "CPU times: user 1min 6s, sys: 2.26 s, total: 1min 9s\n",
      "Wall time: 9min 18s\n"
     ]
    }
   ],
   "source": [
    "%%time\n",
    "\n",
    "# https://www.analyticsvidhya.com/blog/2018/05/improve-model-performance-cross-validation-in-python-r/\n",
    "from sklearn.model_selection import GridSearchCV, StratifiedKFold\n",
    "from sklearn.metrics import make_scorer\n",
    "from sklearn.externals import joblib\n",
    "\n",
    "def optimize_model(estimator, params, cv):\n",
    "    scorer = make_scorer(roc_auc_score)\n",
    "    gs = GridSearchCV(estimator=estimator, param_grid=params, \n",
    "                      scoring=scorer, cv=cv, verbose=3,\n",
    "                      n_jobs=-1)\n",
    "    return gs.fit(train_X, train_y)\n",
    "\n",
    "cv = StratifiedKFold(n_splits=5, shuffle=True)\n",
    "model = optimize_model(GradientBoostingClassifier(), {\n",
    "        'loss' : ['deviance', 'exponential'],\n",
    "        'learning_rate': [0.1, 0.2, 0.3],\n",
    "        'n_estimators': [50, 100, 200],\n",
    "    }, cv=cv)\n",
    "\n",
    "joblib.dump(model, 'final_model.joblib') \n",
    "display(pd.DataFrame(evaluate_model(model)))"
   ]
  },
  {
   "cell_type": "code",
   "execution_count": null,
   "metadata": {},
   "outputs": [],
   "source": [
    "model.estimator"
   ]
  },
  {
   "cell_type": "markdown",
   "metadata": {},
   "source": [
    "### Model evaluation"
   ]
  },
  {
   "cell_type": "code",
   "execution_count": 23,
   "metadata": {
    "scrolled": true
   },
   "outputs": [
    {
     "data": {
      "application/vnd.jupyter.widget-view+json": {
       "model_id": "f50d8acf708e44ae9c841d9ebd7a6cce",
       "version_major": 2,
       "version_minor": 0
      },
      "text/plain": [
       "HBox(children=(IntProgress(value=0, description='Preparing features', max=5), HTML(value='')))"
      ]
     },
     "metadata": {},
     "output_type": "display_data"
    },
    {
     "name": "stdout",
     "output_type": "stream",
     "text": [
      "Preparing column:  ip\n",
      "\n"
     ]
    },
    {
     "name": "stderr",
     "output_type": "stream",
     "text": [
      "Process ForkPoolWorker-20:\n",
      "Process ForkPoolWorker-21:\n",
      "Process ForkPoolWorker-19:\n",
      "Process ForkPoolWorker-18:\n"
     ]
    },
    {
     "ename": "KeyboardInterrupt",
     "evalue": "",
     "output_type": "error",
     "traceback": [
      "\u001b[0;31m---------------------------------------------------------------------------\u001b[0m",
      "\u001b[0;31mIndexError\u001b[0m                                Traceback (most recent call last)",
      "\u001b[0;32m~/anaconda3/lib/python3.6/multiprocessing/pool.py\u001b[0m in \u001b[0;36mnext\u001b[0;34m(self, timeout)\u001b[0m\n\u001b[1;32m    719\u001b[0m             \u001b[0;32mtry\u001b[0m\u001b[0;34m:\u001b[0m\u001b[0;34m\u001b[0m\u001b[0m\n\u001b[0;32m--> 720\u001b[0;31m                 \u001b[0mitem\u001b[0m \u001b[0;34m=\u001b[0m \u001b[0mself\u001b[0m\u001b[0;34m.\u001b[0m\u001b[0m_items\u001b[0m\u001b[0;34m.\u001b[0m\u001b[0mpopleft\u001b[0m\u001b[0;34m(\u001b[0m\u001b[0;34m)\u001b[0m\u001b[0;34m\u001b[0m\u001b[0m\n\u001b[0m\u001b[1;32m    721\u001b[0m             \u001b[0;32mexcept\u001b[0m \u001b[0mIndexError\u001b[0m\u001b[0;34m:\u001b[0m\u001b[0;34m\u001b[0m\u001b[0m\n",
      "\u001b[0;31mIndexError\u001b[0m: pop from an empty deque",
      "\nDuring handling of the above exception, another exception occurred:\n",
      "\u001b[0;31mKeyboardInterrupt\u001b[0m                         Traceback (most recent call last)",
      "\u001b[0;32m<timed exec>\u001b[0m in \u001b[0;36m<module>\u001b[0;34m()\u001b[0m\n",
      "\u001b[0;32m<ipython-input-22-5cfc668f3ed7>\u001b[0m in \u001b[0;36mprepare_dataset\u001b[0;34m(df)\u001b[0m\n\u001b[1;32m     32\u001b[0m     \u001b[0mjobs\u001b[0m \u001b[0;34m=\u001b[0m \u001b[0;34m[\u001b[0m\u001b[0;34m{\u001b[0m\u001b[0;34m'df'\u001b[0m\u001b[0;34m:\u001b[0m\u001b[0mdf\u001b[0m\u001b[0;34m,\u001b[0m\u001b[0;34m'feat'\u001b[0m\u001b[0;34m:\u001b[0m\u001b[0mfeat\u001b[0m\u001b[0;34m}\u001b[0m \u001b[0;32mfor\u001b[0m \u001b[0mfeat\u001b[0m \u001b[0;32min\u001b[0m \u001b[0;34m[\u001b[0m\u001b[0;34m'ip'\u001b[0m\u001b[0;34m,\u001b[0m \u001b[0;34m'app'\u001b[0m\u001b[0;34m,\u001b[0m \u001b[0;34m'os'\u001b[0m\u001b[0;34m,\u001b[0m \u001b[0;34m'channel'\u001b[0m\u001b[0;34m,\u001b[0m \u001b[0;34m'device'\u001b[0m\u001b[0;34m]\u001b[0m\u001b[0;34m]\u001b[0m\u001b[0;34m\u001b[0m\u001b[0m\n\u001b[1;32m     33\u001b[0m     \u001b[0;32mwith\u001b[0m \u001b[0mtqdm\u001b[0m\u001b[0;34m(\u001b[0m\u001b[0mtotal\u001b[0m\u001b[0;34m=\u001b[0m\u001b[0mlen\u001b[0m\u001b[0;34m(\u001b[0m\u001b[0mjobs\u001b[0m\u001b[0;34m)\u001b[0m\u001b[0;34m,\u001b[0m \u001b[0mdesc\u001b[0m\u001b[0;34m=\u001b[0m\u001b[0;34m\"Preparing features\"\u001b[0m\u001b[0;34m)\u001b[0m \u001b[0;32mas\u001b[0m \u001b[0mpbar\u001b[0m\u001b[0;34m:\u001b[0m\u001b[0;34m\u001b[0m\u001b[0m\n\u001b[0;32m---> 34\u001b[0;31m         \u001b[0;32mfor\u001b[0m \u001b[0mfeat\u001b[0m \u001b[0;32min\u001b[0m \u001b[0mpool\u001b[0m\u001b[0;34m.\u001b[0m\u001b[0mimap\u001b[0m\u001b[0;34m(\u001b[0m\u001b[0mprepare_column\u001b[0m\u001b[0;34m,\u001b[0m \u001b[0mjobs\u001b[0m\u001b[0;34m)\u001b[0m\u001b[0;34m:\u001b[0m\u001b[0;34m\u001b[0m\u001b[0m\n\u001b[0m\u001b[1;32m     35\u001b[0m             \u001b[0mdf\u001b[0m \u001b[0;34m=\u001b[0m \u001b[0mpd\u001b[0m\u001b[0;34m.\u001b[0m\u001b[0mconcat\u001b[0m\u001b[0;34m(\u001b[0m\u001b[0;34m[\u001b[0m\u001b[0mdf\u001b[0m\u001b[0;34m,\u001b[0m \u001b[0mfeat\u001b[0m\u001b[0;34m]\u001b[0m\u001b[0;34m,\u001b[0m \u001b[0maxis\u001b[0m\u001b[0;34m=\u001b[0m\u001b[0;36m1\u001b[0m\u001b[0;34m)\u001b[0m\u001b[0;34m\u001b[0m\u001b[0m\n\u001b[1;32m     36\u001b[0m             \u001b[0mpbar\u001b[0m\u001b[0;34m.\u001b[0m\u001b[0mupdate\u001b[0m\u001b[0;34m(\u001b[0m\u001b[0;34m)\u001b[0m\u001b[0;34m\u001b[0m\u001b[0m\n",
      "\u001b[0;32m~/anaconda3/lib/python3.6/multiprocessing/pool.py\u001b[0m in \u001b[0;36mnext\u001b[0;34m(self, timeout)\u001b[0m\n\u001b[1;32m    722\u001b[0m                 \u001b[0;32mif\u001b[0m \u001b[0mself\u001b[0m\u001b[0;34m.\u001b[0m\u001b[0m_index\u001b[0m \u001b[0;34m==\u001b[0m \u001b[0mself\u001b[0m\u001b[0;34m.\u001b[0m\u001b[0m_length\u001b[0m\u001b[0;34m:\u001b[0m\u001b[0;34m\u001b[0m\u001b[0m\n\u001b[1;32m    723\u001b[0m                     \u001b[0;32mraise\u001b[0m \u001b[0mStopIteration\u001b[0m\u001b[0;34m\u001b[0m\u001b[0m\n\u001b[0;32m--> 724\u001b[0;31m                 \u001b[0mself\u001b[0m\u001b[0;34m.\u001b[0m\u001b[0m_cond\u001b[0m\u001b[0;34m.\u001b[0m\u001b[0mwait\u001b[0m\u001b[0;34m(\u001b[0m\u001b[0mtimeout\u001b[0m\u001b[0;34m)\u001b[0m\u001b[0;34m\u001b[0m\u001b[0m\n\u001b[0m\u001b[1;32m    725\u001b[0m                 \u001b[0;32mtry\u001b[0m\u001b[0;34m:\u001b[0m\u001b[0;34m\u001b[0m\u001b[0m\n\u001b[1;32m    726\u001b[0m                     \u001b[0mitem\u001b[0m \u001b[0;34m=\u001b[0m \u001b[0mself\u001b[0m\u001b[0;34m.\u001b[0m\u001b[0m_items\u001b[0m\u001b[0;34m.\u001b[0m\u001b[0mpopleft\u001b[0m\u001b[0;34m(\u001b[0m\u001b[0;34m)\u001b[0m\u001b[0;34m\u001b[0m\u001b[0m\n",
      "\u001b[0;32m~/anaconda3/lib/python3.6/threading.py\u001b[0m in \u001b[0;36mwait\u001b[0;34m(self, timeout)\u001b[0m\n\u001b[1;32m    293\u001b[0m         \u001b[0;32mtry\u001b[0m\u001b[0;34m:\u001b[0m    \u001b[0;31m# restore state no matter what (e.g., KeyboardInterrupt)\u001b[0m\u001b[0;34m\u001b[0m\u001b[0m\n\u001b[1;32m    294\u001b[0m             \u001b[0;32mif\u001b[0m \u001b[0mtimeout\u001b[0m \u001b[0;32mis\u001b[0m \u001b[0;32mNone\u001b[0m\u001b[0;34m:\u001b[0m\u001b[0;34m\u001b[0m\u001b[0m\n\u001b[0;32m--> 295\u001b[0;31m                 \u001b[0mwaiter\u001b[0m\u001b[0;34m.\u001b[0m\u001b[0macquire\u001b[0m\u001b[0;34m(\u001b[0m\u001b[0;34m)\u001b[0m\u001b[0;34m\u001b[0m\u001b[0m\n\u001b[0m\u001b[1;32m    296\u001b[0m                 \u001b[0mgotit\u001b[0m \u001b[0;34m=\u001b[0m \u001b[0;32mTrue\u001b[0m\u001b[0;34m\u001b[0m\u001b[0m\n\u001b[1;32m    297\u001b[0m             \u001b[0;32melse\u001b[0m\u001b[0;34m:\u001b[0m\u001b[0;34m\u001b[0m\u001b[0m\n",
      "\u001b[0;31mKeyboardInterrupt\u001b[0m: "
     ]
    },
    {
     "name": "stderr",
     "output_type": "stream",
     "text": [
      "  File \"/home/dkomlen/anaconda3/lib/python3.6/multiprocessing/process.py\", line 258, in _bootstrap\n",
      "    self.run()\n",
      "Traceback (most recent call last):\n",
      "Traceback (most recent call last):\n",
      "Traceback (most recent call last):\n",
      "  File \"/home/dkomlen/anaconda3/lib/python3.6/multiprocessing/process.py\", line 258, in _bootstrap\n",
      "    self.run()\n",
      "  File \"/home/dkomlen/anaconda3/lib/python3.6/multiprocessing/process.py\", line 93, in run\n",
      "    self._target(*self._args, **self._kwargs)\n",
      "  File \"/home/dkomlen/anaconda3/lib/python3.6/multiprocessing/process.py\", line 258, in _bootstrap\n",
      "    self.run()\n",
      "  File \"/home/dkomlen/anaconda3/lib/python3.6/multiprocessing/pool.py\", line 108, in worker\n",
      "    task = get()\n",
      "  File \"/home/dkomlen/anaconda3/lib/python3.6/multiprocessing/process.py\", line 93, in run\n",
      "    self._target(*self._args, **self._kwargs)\n",
      "  File \"/home/dkomlen/anaconda3/lib/python3.6/multiprocessing/queues.py\", line 334, in get\n",
      "    with self._rlock:\n",
      "  File \"/home/dkomlen/anaconda3/lib/python3.6/multiprocessing/pool.py\", line 108, in worker\n",
      "    task = get()\n",
      "Traceback (most recent call last):\n",
      "  File \"/home/dkomlen/anaconda3/lib/python3.6/multiprocessing/process.py\", line 93, in run\n",
      "    self._target(*self._args, **self._kwargs)\n",
      "  File \"/home/dkomlen/anaconda3/lib/python3.6/multiprocessing/synchronize.py\", line 96, in __enter__\n",
      "    return self._semlock.__enter__()\n",
      "  File \"/home/dkomlen/anaconda3/lib/python3.6/multiprocessing/queues.py\", line 334, in get\n",
      "    with self._rlock:\n",
      "  File \"/home/dkomlen/anaconda3/lib/python3.6/multiprocessing/pool.py\", line 108, in worker\n",
      "    task = get()\n",
      "  File \"/home/dkomlen/anaconda3/lib/python3.6/multiprocessing/queues.py\", line 334, in get\n",
      "    with self._rlock:\n",
      "  File \"/home/dkomlen/anaconda3/lib/python3.6/multiprocessing/synchronize.py\", line 96, in __enter__\n",
      "    return self._semlock.__enter__()\n",
      "  File \"/home/dkomlen/anaconda3/lib/python3.6/multiprocessing/process.py\", line 258, in _bootstrap\n",
      "    self.run()\n",
      "KeyboardInterrupt\n",
      "  File \"/home/dkomlen/anaconda3/lib/python3.6/multiprocessing/synchronize.py\", line 96, in __enter__\n",
      "    return self._semlock.__enter__()\n",
      "KeyboardInterrupt\n",
      "KeyboardInterrupt\n",
      "  File \"/home/dkomlen/anaconda3/lib/python3.6/multiprocessing/process.py\", line 93, in run\n",
      "    self._target(*self._args, **self._kwargs)\n",
      "  File \"/home/dkomlen/anaconda3/lib/python3.6/multiprocessing/pool.py\", line 108, in worker\n",
      "    task = get()\n",
      "  File \"/home/dkomlen/anaconda3/lib/python3.6/multiprocessing/queues.py\", line 335, in get\n",
      "    res = self._reader.recv_bytes()\n",
      "  File \"/home/dkomlen/anaconda3/lib/python3.6/multiprocessing/connection.py\", line 216, in recv_bytes\n",
      "    buf = self._recv_bytes(maxlength)\n",
      "  File \"/home/dkomlen/anaconda3/lib/python3.6/multiprocessing/connection.py\", line 407, in _recv_bytes\n",
      "    buf = self._recv(4)\n",
      "  File \"/home/dkomlen/anaconda3/lib/python3.6/multiprocessing/connection.py\", line 379, in _recv\n",
      "    chunk = read(handle, remaining)\n",
      "KeyboardInterrupt\n"
     ]
    }
   ],
   "source": [
    "test_all_ids = dataset_test_all['click_id']\n",
    "%time test_all_X = prepare_dataset(dataset_test_all.drop('click_id', axis=1))"
   ]
  },
  {
   "cell_type": "code",
   "execution_count": null,
   "metadata": {},
   "outputs": [],
   "source": [
    "from sklearn.externals import joblib\n",
    "\n",
    "clf = joblib.load('final_model.joblib') \n",
    "test_y = clf.predict_proba(test_all_X)"
   ]
  },
  {
   "cell_type": "code",
   "execution_count": null,
   "metadata": {},
   "outputs": [],
   "source": [
    "test_result = pd.DataFrame(test_y)"
   ]
  },
  {
   "cell_type": "code",
   "execution_count": null,
   "metadata": {},
   "outputs": [],
   "source": [
    "test_result = pd.DataFrame(test_y[:,1], columns=['is_attributed'])\n",
    "test_result['click_id'] = test_all_ids.values\n",
    "\n",
    "test_result.to_csv('data/test_result.csv.gz',compression='gzip', index=False)"
   ]
  },
  {
   "cell_type": "markdown",
   "metadata": {},
   "source": [
    "Kaggle test results:\n",
    "- private score: 0.8919713\n",
    "- public score: 0.8888370"
   ]
  }
 ],
 "metadata": {
  "kernelspec": {
   "display_name": "Python 3",
   "language": "python",
   "name": "python3"
  },
  "language_info": {
   "codemirror_mode": {
    "name": "ipython",
    "version": 3
   },
   "file_extension": ".py",
   "mimetype": "text/x-python",
   "name": "python",
   "nbconvert_exporter": "python",
   "pygments_lexer": "ipython3",
   "version": "3.6.5"
  }
 },
 "nbformat": 4,
 "nbformat_minor": 2
}
