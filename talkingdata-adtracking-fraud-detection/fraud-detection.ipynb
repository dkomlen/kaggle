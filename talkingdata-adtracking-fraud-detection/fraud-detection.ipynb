{
 "cells": [
  {
   "cell_type": "markdown",
   "metadata": {},
   "source": [
    "### Notebook setup"
   ]
  },
  {
   "cell_type": "code",
   "execution_count": 1,
   "metadata": {},
   "outputs": [],
   "source": [
    "%matplotlib inline\n",
    "\n",
    "import pandas as pd\n",
    "import numpy as np\n",
    "import matplotlib.pyplot as plt\n",
    "\n",
    "pd.set_option('display.max_rows', 10)"
   ]
  },
  {
   "cell_type": "markdown",
   "metadata": {},
   "source": [
    "### Datasets\n",
    "\n",
    "| Dataset             | Comment                                           | Size (clicks/size)  |\n",
    "|---------------------|---------------------------------------------------|---------------------|\n",
    "| train.csv           | the training set                                  | 57.537.506 / 2.5 GB |\n",
    "| train_sample.csv    | sample of training set                            | 100.000 / 3.9 MB |\n",
    "| test.csv            | the test set                                      | 18.790.469 / 824 MB |\n",
    "| test_supplement.csv | larger test set, subset used for Kaggle evaluation | 57.537.505 / 2.5GB  |\n",
    "\n",
    "\n",
    "Every click record has following associated fields:\n",
    "- click_time: timestamp of click (UTC)\n",
    "- ip: ip address of click\n",
    "- device: device type of user mobile phone\n",
    "- os: os version id of user mobile phone\n",
    "- channel: channel id of mobile ad publisher\n",
    "- app: app id for marketing\n",
    "\n",
    "Training data contains two additional fields:\n",
    "- is_attributed: was app downloaded, to be predicted\n",
    "- attributed_time: time of app download\n",
    "\n",
    "For the given click data, the goal is to output the probability that the user will download the app.\n"
   ]
  },
  {
   "cell_type": "markdown",
   "metadata": {},
   "source": [
    "Read train and test sets for local modeling and evaluation."
   ]
  },
  {
   "cell_type": "code",
   "execution_count": 38,
   "metadata": {},
   "outputs": [],
   "source": [
    "dataset_train = pd.read_csv('data/mnt/ssd/kaggle-talkingdata2/competition_files/train_sample.csv')\n",
    "dataset_test = pd.read_csv('data/mnt/ssd/kaggle-talkingdata2/competition_files/train.csv', nrows=1000000)\n",
    "dataset_train['click_time'] = pd.to_datetime(dataset_train['click_time'])\n",
    "dataset_test['click_time'] = pd.to_datetime(dataset_test['click_time'])\n",
    "dataset_train = dataset_train.set_index('click_time')\n",
    "dataset_test = dataset_test.set_index('click_time')"
   ]
  },
  {
   "cell_type": "markdown",
   "metadata": {},
   "source": [
    "### Data exploration"
   ]
  },
  {
   "cell_type": "code",
   "execution_count": 23,
   "metadata": {
    "scrolled": true
   },
   "outputs": [
    {
     "data": {
      "text/html": [
       "<div>\n",
       "<style scoped>\n",
       "    .dataframe tbody tr th:only-of-type {\n",
       "        vertical-align: middle;\n",
       "    }\n",
       "\n",
       "    .dataframe tbody tr th {\n",
       "        vertical-align: top;\n",
       "    }\n",
       "\n",
       "    .dataframe thead th {\n",
       "        text-align: right;\n",
       "    }\n",
       "</style>\n",
       "<table border=\"1\" class=\"dataframe\">\n",
       "  <thead>\n",
       "    <tr style=\"text-align: right;\">\n",
       "      <th></th>\n",
       "      <th>ip</th>\n",
       "      <th>app</th>\n",
       "      <th>device</th>\n",
       "      <th>os</th>\n",
       "      <th>channel</th>\n",
       "      <th>is_attributed</th>\n",
       "    </tr>\n",
       "  </thead>\n",
       "  <tbody>\n",
       "    <tr>\n",
       "      <th>count</th>\n",
       "      <td>100000.000000</td>\n",
       "      <td>100000.00000</td>\n",
       "      <td>100000.000000</td>\n",
       "      <td>100000.000000</td>\n",
       "      <td>100000.000000</td>\n",
       "      <td>100000.000000</td>\n",
       "    </tr>\n",
       "    <tr>\n",
       "      <th>mean</th>\n",
       "      <td>91255.879670</td>\n",
       "      <td>12.04788</td>\n",
       "      <td>21.771250</td>\n",
       "      <td>22.818280</td>\n",
       "      <td>268.832460</td>\n",
       "      <td>0.002270</td>\n",
       "    </tr>\n",
       "    <tr>\n",
       "      <th>std</th>\n",
       "      <td>69835.553661</td>\n",
       "      <td>14.94150</td>\n",
       "      <td>259.667767</td>\n",
       "      <td>55.943136</td>\n",
       "      <td>129.724248</td>\n",
       "      <td>0.047591</td>\n",
       "    </tr>\n",
       "    <tr>\n",
       "      <th>min</th>\n",
       "      <td>9.000000</td>\n",
       "      <td>1.00000</td>\n",
       "      <td>0.000000</td>\n",
       "      <td>0.000000</td>\n",
       "      <td>3.000000</td>\n",
       "      <td>0.000000</td>\n",
       "    </tr>\n",
       "    <tr>\n",
       "      <th>25%</th>\n",
       "      <td>40552.000000</td>\n",
       "      <td>3.00000</td>\n",
       "      <td>1.000000</td>\n",
       "      <td>13.000000</td>\n",
       "      <td>145.000000</td>\n",
       "      <td>0.000000</td>\n",
       "    </tr>\n",
       "    <tr>\n",
       "      <th>50%</th>\n",
       "      <td>79827.000000</td>\n",
       "      <td>12.00000</td>\n",
       "      <td>1.000000</td>\n",
       "      <td>18.000000</td>\n",
       "      <td>258.000000</td>\n",
       "      <td>0.000000</td>\n",
       "    </tr>\n",
       "    <tr>\n",
       "      <th>75%</th>\n",
       "      <td>118252.000000</td>\n",
       "      <td>15.00000</td>\n",
       "      <td>1.000000</td>\n",
       "      <td>19.000000</td>\n",
       "      <td>379.000000</td>\n",
       "      <td>0.000000</td>\n",
       "    </tr>\n",
       "    <tr>\n",
       "      <th>max</th>\n",
       "      <td>364757.000000</td>\n",
       "      <td>551.00000</td>\n",
       "      <td>3867.000000</td>\n",
       "      <td>866.000000</td>\n",
       "      <td>498.000000</td>\n",
       "      <td>1.000000</td>\n",
       "    </tr>\n",
       "  </tbody>\n",
       "</table>\n",
       "</div>"
      ],
      "text/plain": [
       "                  ip           app         device             os  \\\n",
       "count  100000.000000  100000.00000  100000.000000  100000.000000   \n",
       "mean    91255.879670      12.04788      21.771250      22.818280   \n",
       "std     69835.553661      14.94150     259.667767      55.943136   \n",
       "min         9.000000       1.00000       0.000000       0.000000   \n",
       "25%     40552.000000       3.00000       1.000000      13.000000   \n",
       "50%     79827.000000      12.00000       1.000000      18.000000   \n",
       "75%    118252.000000      15.00000       1.000000      19.000000   \n",
       "max    364757.000000     551.00000    3867.000000     866.000000   \n",
       "\n",
       "             channel  is_attributed  \n",
       "count  100000.000000  100000.000000  \n",
       "mean      268.832460       0.002270  \n",
       "std       129.724248       0.047591  \n",
       "min         3.000000       0.000000  \n",
       "25%       145.000000       0.000000  \n",
       "50%       258.000000       0.000000  \n",
       "75%       379.000000       0.000000  \n",
       "max       498.000000       1.000000  "
      ]
     },
     "execution_count": 23,
     "metadata": {},
     "output_type": "execute_result"
    }
   ],
   "source": [
    "dataset_train.describe()"
   ]
  },
  {
   "cell_type": "code",
   "execution_count": 24,
   "metadata": {},
   "outputs": [
    {
     "name": "stdout",
     "output_type": "stream",
     "text": [
      "ip 34857\n",
      "app 161\n",
      "device 100\n",
      "os 130\n",
      "channel 161\n",
      "click_time 80350\n",
      "attributed_time 227\n",
      "is_attributed 2\n"
     ]
    }
   ],
   "source": [
    "for col in dataset_train:\n",
    "    print(col, dataset_train[col].nunique())"
   ]
  },
  {
   "cell_type": "code",
   "execution_count": 25,
   "metadata": {},
   "outputs": [
    {
     "data": {
      "text/plain": [
       "array([[<matplotlib.axes._subplots.AxesSubplot object at 0x7f01ac897f98>,\n",
       "        <matplotlib.axes._subplots.AxesSubplot object at 0x7f021cb082b0>],\n",
       "       [<matplotlib.axes._subplots.AxesSubplot object at 0x7f021c5bc5c0>,\n",
       "        <matplotlib.axes._subplots.AxesSubplot object at 0x7f021c5c18d0>],\n",
       "       [<matplotlib.axes._subplots.AxesSubplot object at 0x7f021cab9be0>,\n",
       "        <matplotlib.axes._subplots.AxesSubplot object at 0x7f021cab9c18>]],\n",
       "      dtype=object)"
      ]
     },
     "execution_count": 25,
     "metadata": {},
     "output_type": "execute_result"
    },
    {
     "data": {
      "image/png": "[encoded data removed]",
      "text/plain": [
       "<Figure size 720x720 with 6 Axes>"
      ]
     },
     "metadata": {},
     "output_type": "display_data"
    }
   ],
   "source": [
    "dataset_train.hist(bins=20, figsize=(10,10))"
   ]
  },
  {
   "cell_type": "markdown",
   "metadata": {},
   "source": [
    "Distribution of `is_attributed` feature shows heavily unbalanced dataset towards no download cases."
   ]
  },
  {
   "cell_type": "code",
   "execution_count": 26,
   "metadata": {},
   "outputs": [
    {
     "data": {
      "text/html": [
       "<style  type=\"text/css\" >\n",
       "    #T_83e9bf5c_d52a_11e8_9403_080027929626row0_col0 {\n",
       "            background-color:  #023858;\n",
       "        }    #T_83e9bf5c_d52a_11e8_9403_080027929626row0_col1 {\n",
       "            background-color:  #faf2f8;\n",
       "        }    #T_83e9bf5c_d52a_11e8_9403_080027929626row0_col2 {\n",
       "            background-color:  #faf3f9;\n",
       "        }    #T_83e9bf5c_d52a_11e8_9403_080027929626row0_col3 {\n",
       "            background-color:  #faf3f9;\n",
       "        }    #T_83e9bf5c_d52a_11e8_9403_080027929626row0_col4 {\n",
       "            background-color:  #f9f2f8;\n",
       "        }    #T_83e9bf5c_d52a_11e8_9403_080027929626row0_col5 {\n",
       "            background-color:  #f4edf6;\n",
       "        }    #T_83e9bf5c_d52a_11e8_9403_080027929626row1_col0 {\n",
       "            background-color:  #fdf5fa;\n",
       "        }    #T_83e9bf5c_d52a_11e8_9403_080027929626row1_col1 {\n",
       "            background-color:  #023858;\n",
       "        }    #T_83e9bf5c_d52a_11e8_9403_080027929626row1_col2 {\n",
       "            background-color:  #c8cde4;\n",
       "        }    #T_83e9bf5c_d52a_11e8_9403_080027929626row1_col3 {\n",
       "            background-color:  #c9cee4;\n",
       "        }    #T_83e9bf5c_d52a_11e8_9403_080027929626row1_col4 {\n",
       "            background-color:  #fef6fb;\n",
       "        }    #T_83e9bf5c_d52a_11e8_9403_080027929626row1_col5 {\n",
       "            background-color:  #f2ecf5;\n",
       "        }    #T_83e9bf5c_d52a_11e8_9403_080027929626row2_col0 {\n",
       "            background-color:  #fff7fb;\n",
       "        }    #T_83e9bf5c_d52a_11e8_9403_080027929626row2_col1 {\n",
       "            background-color:  #cacee5;\n",
       "        }    #T_83e9bf5c_d52a_11e8_9403_080027929626row2_col2 {\n",
       "            background-color:  #023858;\n",
       "        }    #T_83e9bf5c_d52a_11e8_9403_080027929626row2_col3 {\n",
       "            background-color:  #034b76;\n",
       "        }    #T_83e9bf5c_d52a_11e8_9403_080027929626row2_col4 {\n",
       "            background-color:  #fff7fb;\n",
       "        }    #T_83e9bf5c_d52a_11e8_9403_080027929626row2_col5 {\n",
       "            background-color:  #fcf4fa;\n",
       "        }    #T_83e9bf5c_d52a_11e8_9403_080027929626row3_col0 {\n",
       "            background-color:  #fff7fb;\n",
       "        }    #T_83e9bf5c_d52a_11e8_9403_080027929626row3_col1 {\n",
       "            background-color:  #cacee5;\n",
       "        }    #T_83e9bf5c_d52a_11e8_9403_080027929626row3_col2 {\n",
       "            background-color:  #034b76;\n",
       "        }    #T_83e9bf5c_d52a_11e8_9403_080027929626row3_col3 {\n",
       "            background-color:  #023858;\n",
       "        }    #T_83e9bf5c_d52a_11e8_9403_080027929626row3_col4 {\n",
       "            background-color:  #fff7fb;\n",
       "        }    #T_83e9bf5c_d52a_11e8_9403_080027929626row3_col5 {\n",
       "            background-color:  #fbf3f9;\n",
       "        }    #T_83e9bf5c_d52a_11e8_9403_080027929626row4_col0 {\n",
       "            background-color:  #fef6fa;\n",
       "        }    #T_83e9bf5c_d52a_11e8_9403_080027929626row4_col1 {\n",
       "            background-color:  #fff7fb;\n",
       "        }    #T_83e9bf5c_d52a_11e8_9403_080027929626row4_col2 {\n",
       "            background-color:  #fff7fb;\n",
       "        }    #T_83e9bf5c_d52a_11e8_9403_080027929626row4_col3 {\n",
       "            background-color:  #fff7fb;\n",
       "        }    #T_83e9bf5c_d52a_11e8_9403_080027929626row4_col4 {\n",
       "            background-color:  #023858;\n",
       "        }    #T_83e9bf5c_d52a_11e8_9403_080027929626row4_col5 {\n",
       "            background-color:  #fff7fb;\n",
       "        }    #T_83e9bf5c_d52a_11e8_9403_080027929626row5_col0 {\n",
       "            background-color:  #f7f0f7;\n",
       "        }    #T_83e9bf5c_d52a_11e8_9403_080027929626row5_col1 {\n",
       "            background-color:  #f1ebf5;\n",
       "        }    #T_83e9bf5c_d52a_11e8_9403_080027929626row5_col2 {\n",
       "            background-color:  #faf3f9;\n",
       "        }    #T_83e9bf5c_d52a_11e8_9403_080027929626row5_col3 {\n",
       "            background-color:  #faf2f8;\n",
       "        }    #T_83e9bf5c_d52a_11e8_9403_080027929626row5_col4 {\n",
       "            background-color:  #fef6fa;\n",
       "        }    #T_83e9bf5c_d52a_11e8_9403_080027929626row5_col5 {\n",
       "            background-color:  #023858;\n",
       "        }</style>  \n",
       "<table id=\"T_83e9bf5c_d52a_11e8_9403_080027929626\" > \n",
       "<thead>    <tr> \n",
       "        <th class=\"blank level0\" ></th> \n",
       "        <th class=\"col_heading level0 col0\" >ip</th> \n",
       "        <th class=\"col_heading level0 col1\" >app</th> \n",
       "        <th class=\"col_heading level0 col2\" >device</th> \n",
       "        <th class=\"col_heading level0 col3\" >os</th> \n",
       "        <th class=\"col_heading level0 col4\" >channel</th> \n",
       "        <th class=\"col_heading level0 col5\" >is_attributed</th> \n",
       "    </tr></thead> \n",
       "<tbody>    <tr> \n",
       "        <th id=\"T_83e9bf5c_d52a_11e8_9403_080027929626level0_row0\" class=\"row_heading level0 row0\" >ip</th> \n",
       "        <td id=\"T_83e9bf5c_d52a_11e8_9403_080027929626row0_col0\" class=\"data row0 col0\" >1</td> \n",
       "        <td id=\"T_83e9bf5c_d52a_11e8_9403_080027929626row0_col1\" class=\"data row0 col1\" >0.0103998</td> \n",
       "        <td id=\"T_83e9bf5c_d52a_11e8_9403_080027929626row0_col2\" class=\"data row0 col2\" >-0.00149891</td> \n",
       "        <td id=\"T_83e9bf5c_d52a_11e8_9403_080027929626row0_col3\" class=\"data row0 col3\" >-0.000469915</td> \n",
       "        <td id=\"T_83e9bf5c_d52a_11e8_9403_080027929626row0_col4\" class=\"data row0 col4\" >0.00756287</td> \n",
       "        <td id=\"T_83e9bf5c_d52a_11e8_9403_080027929626row0_col5\" class=\"data row0 col5\" >0.0549551</td> \n",
       "    </tr>    <tr> \n",
       "        <th id=\"T_83e9bf5c_d52a_11e8_9403_080027929626level0_row1\" class=\"row_heading level0 row1\" >app</th> \n",
       "        <td id=\"T_83e9bf5c_d52a_11e8_9403_080027929626row1_col0\" class=\"data row1 col0\" >0.0103998</td> \n",
       "        <td id=\"T_83e9bf5c_d52a_11e8_9403_080027929626row1_col1\" class=\"data row1 col1\" >1</td> \n",
       "        <td id=\"T_83e9bf5c_d52a_11e8_9403_080027929626row1_col2\" class=\"data row1 col2\" >0.248376</td> \n",
       "        <td id=\"T_83e9bf5c_d52a_11e8_9403_080027929626row1_col3\" class=\"data row1 col3\" >0.24716</td> \n",
       "        <td id=\"T_83e9bf5c_d52a_11e8_9403_080027929626row1_col4\" class=\"data row1 col4\" >-0.0282377</td> \n",
       "        <td id=\"T_83e9bf5c_d52a_11e8_9403_080027929626row1_col5\" class=\"data row1 col5\" >0.064426</td> \n",
       "    </tr>    <tr> \n",
       "        <th id=\"T_83e9bf5c_d52a_11e8_9403_080027929626level0_row2\" class=\"row_heading level0 row2\" >device</th> \n",
       "        <td id=\"T_83e9bf5c_d52a_11e8_9403_080027929626row2_col0\" class=\"data row2 col0\" >-0.00149891</td> \n",
       "        <td id=\"T_83e9bf5c_d52a_11e8_9403_080027929626row2_col1\" class=\"data row2 col1\" >0.248376</td> \n",
       "        <td id=\"T_83e9bf5c_d52a_11e8_9403_080027929626row2_col2\" class=\"data row2 col2\" >1</td> \n",
       "        <td id=\"T_83e9bf5c_d52a_11e8_9403_080027929626row2_col3\" class=\"data row2 col3\" >0.924456</td> \n",
       "        <td id=\"T_83e9bf5c_d52a_11e8_9403_080027929626row2_col4\" class=\"data row2 col4\" >-0.0353978</td> \n",
       "        <td id=\"T_83e9bf5c_d52a_11e8_9403_080027929626row2_col5\" class=\"data row2 col5\" >-0.000695177</td> \n",
       "    </tr>    <tr> \n",
       "        <th id=\"T_83e9bf5c_d52a_11e8_9403_080027929626level0_row3\" class=\"row_heading level0 row3\" >os</th> \n",
       "        <td id=\"T_83e9bf5c_d52a_11e8_9403_080027929626row3_col0\" class=\"data row3 col0\" >-0.000469915</td> \n",
       "        <td id=\"T_83e9bf5c_d52a_11e8_9403_080027929626row3_col1\" class=\"data row3 col1\" >0.24716</td> \n",
       "        <td id=\"T_83e9bf5c_d52a_11e8_9403_080027929626row3_col2\" class=\"data row3 col2\" >0.924456</td> \n",
       "        <td id=\"T_83e9bf5c_d52a_11e8_9403_080027929626row3_col3\" class=\"data row3 col3\" >1</td> \n",
       "        <td id=\"T_83e9bf5c_d52a_11e8_9403_080027929626row3_col4\" class=\"data row3 col4\" >-0.0331755</td> \n",
       "        <td id=\"T_83e9bf5c_d52a_11e8_9403_080027929626row3_col5\" class=\"data row3 col5\" >0.00618346</td> \n",
       "    </tr>    <tr> \n",
       "        <th id=\"T_83e9bf5c_d52a_11e8_9403_080027929626level0_row4\" class=\"row_heading level0 row4\" >channel</th> \n",
       "        <td id=\"T_83e9bf5c_d52a_11e8_9403_080027929626row4_col0\" class=\"data row4 col0\" >0.00756287</td> \n",
       "        <td id=\"T_83e9bf5c_d52a_11e8_9403_080027929626row4_col1\" class=\"data row4 col1\" >-0.0282377</td> \n",
       "        <td id=\"T_83e9bf5c_d52a_11e8_9403_080027929626row4_col2\" class=\"data row4 col2\" >-0.0353978</td> \n",
       "        <td id=\"T_83e9bf5c_d52a_11e8_9403_080027929626row4_col3\" class=\"data row4 col3\" >-0.0331755</td> \n",
       "        <td id=\"T_83e9bf5c_d52a_11e8_9403_080027929626row4_col4\" class=\"data row4 col4\" >1</td> \n",
       "        <td id=\"T_83e9bf5c_d52a_11e8_9403_080027929626row4_col5\" class=\"data row4 col5\" >-0.0233364</td> \n",
       "    </tr>    <tr> \n",
       "        <th id=\"T_83e9bf5c_d52a_11e8_9403_080027929626level0_row5\" class=\"row_heading level0 row5\" >is_attributed</th> \n",
       "        <td id=\"T_83e9bf5c_d52a_11e8_9403_080027929626row5_col0\" class=\"data row5 col0\" >0.0549551</td> \n",
       "        <td id=\"T_83e9bf5c_d52a_11e8_9403_080027929626row5_col1\" class=\"data row5 col1\" >0.064426</td> \n",
       "        <td id=\"T_83e9bf5c_d52a_11e8_9403_080027929626row5_col2\" class=\"data row5 col2\" >-0.000695177</td> \n",
       "        <td id=\"T_83e9bf5c_d52a_11e8_9403_080027929626row5_col3\" class=\"data row5 col3\" >0.00618346</td> \n",
       "        <td id=\"T_83e9bf5c_d52a_11e8_9403_080027929626row5_col4\" class=\"data row5 col4\" >-0.0233364</td> \n",
       "        <td id=\"T_83e9bf5c_d52a_11e8_9403_080027929626row5_col5\" class=\"data row5 col5\" >1</td> \n",
       "    </tr></tbody> \n",
       "</table> "
      ],
      "text/plain": [
       "<pandas.io.formats.style.Styler at 0x7f01ac897f28>"
      ]
     },
     "execution_count": 26,
     "metadata": {},
     "output_type": "execute_result"
    }
   ],
   "source": [
    "corr = dataset_train.corr()\n",
    "corr.style.background_gradient()"
   ]
  },
  {
   "cell_type": "code",
   "execution_count": 3,
   "metadata": {},
   "outputs": [
    {
     "data": {
      "text/plain": [
       "array([[<matplotlib.axes._subplots.AxesSubplot object at 0x11a5b5a20>,\n",
       "        <matplotlib.axes._subplots.AxesSubplot object at 0x10984d748>],\n",
       "       [<matplotlib.axes._subplots.AxesSubplot object at 0x109877dd8>,\n",
       "        <matplotlib.axes._subplots.AxesSubplot object at 0x1098a64a8>],\n",
       "       [<matplotlib.axes._subplots.AxesSubplot object at 0x1098cdb38>,\n",
       "        <matplotlib.axes._subplots.AxesSubplot object at 0x1098cdb70>]],\n",
       "      dtype=object)"
      ]
     },
     "execution_count": 3,
     "metadata": {},
     "output_type": "execute_result"
    },
    {
     "data": {
      "image/png": "[encoded data removed]",
      "text/plain": [
       "<Figure size 720x720 with 6 Axes>"
      ]
     },
     "metadata": {
      "needs_background": "light"
     },
     "output_type": "display_data"
    }
   ],
   "source": [
    "dataset_train[(dataset_train.is_attributed == 1)].hist(bins=20, figsize=(10,10))"
   ]
  },
  {
   "cell_type": "code",
   "execution_count": 61,
   "metadata": {},
   "outputs": [
    {
     "name": "stderr",
     "output_type": "stream",
     "text": [
      "/Users/dkomlen/anaconda3/lib/python3.7/site-packages/ipykernel_launcher.py:2: FutureWarning: using a dict on a Series for aggregation\n",
      "is deprecated and will be removed in a future version\n",
      "  \n"
     ]
    },
    {
     "data": {
      "text/html": [
       "<div>\n",
       "<style scoped>\n",
       "    .dataframe tbody tr th:only-of-type {\n",
       "        vertical-align: middle;\n",
       "    }\n",
       "\n",
       "    .dataframe tbody tr th {\n",
       "        vertical-align: top;\n",
       "    }\n",
       "\n",
       "    .dataframe thead th {\n",
       "        text-align: right;\n",
       "    }\n",
       "</style>\n",
       "<table border=\"1\" class=\"dataframe\">\n",
       "  <thead>\n",
       "    <tr style=\"text-align: right;\">\n",
       "      <th></th>\n",
       "      <th>ip</th>\n",
       "      <th>is_attributed</th>\n",
       "    </tr>\n",
       "  </thead>\n",
       "  <tbody>\n",
       "    <tr>\n",
       "      <th>0</th>\n",
       "      <td>5348</td>\n",
       "      <td>3</td>\n",
       "    </tr>\n",
       "    <tr>\n",
       "      <th>1</th>\n",
       "      <td>5314</td>\n",
       "      <td>3</td>\n",
       "    </tr>\n",
       "    <tr>\n",
       "      <th>2</th>\n",
       "      <td>171892</td>\n",
       "      <td>1</td>\n",
       "    </tr>\n",
       "    <tr>\n",
       "      <th>3</th>\n",
       "      <td>346097</td>\n",
       "      <td>1</td>\n",
       "    </tr>\n",
       "    <tr>\n",
       "      <th>4</th>\n",
       "      <td>29016</td>\n",
       "      <td>1</td>\n",
       "    </tr>\n",
       "    <tr>\n",
       "      <th>5</th>\n",
       "      <td>344369</td>\n",
       "      <td>1</td>\n",
       "    </tr>\n",
       "    <tr>\n",
       "      <th>6</th>\n",
       "      <td>265917</td>\n",
       "      <td>1</td>\n",
       "    </tr>\n",
       "    <tr>\n",
       "      <th>7</th>\n",
       "      <td>35308</td>\n",
       "      <td>1</td>\n",
       "    </tr>\n",
       "    <tr>\n",
       "      <th>8</th>\n",
       "      <td>344551</td>\n",
       "      <td>1</td>\n",
       "    </tr>\n",
       "    <tr>\n",
       "      <th>9</th>\n",
       "      <td>40654</td>\n",
       "      <td>1</td>\n",
       "    </tr>\n",
       "  </tbody>\n",
       "</table>\n",
       "</div>"
      ],
      "text/plain": [
       "       ip  is_attributed\n",
       "0    5348              3\n",
       "1    5314              3\n",
       "2  171892              1\n",
       "3  346097              1\n",
       "4   29016              1\n",
       "5  344369              1\n",
       "6  265917              1\n",
       "7   35308              1\n",
       "8  344551              1\n",
       "9   40654              1"
      ]
     },
     "execution_count": 61,
     "metadata": {},
     "output_type": "execute_result"
    }
   ],
   "source": [
    "top_apps = dataset_train.groupby(['ip'])['is_attributed'].agg(\n",
    "    {\"is_attributed\": sum}).sort_values(\n",
    "    \"is_attributed\", ascending=False).head(10).reset_index()\n",
    "top_apps"
   ]
  },
  {
   "cell_type": "code",
   "execution_count": 39,
   "metadata": {},
   "outputs": [
    {
     "data": {
      "text/plain": [
       "<matplotlib.axes._subplots.AxesSubplot at 0x12a8d1668>"
      ]
     },
     "execution_count": 39,
     "metadata": {},
     "output_type": "execute_result"
    },
    {
     "data": {
      "image/png": "[encoded data removed]",
      "text/plain": [
       "<Figure size 1440x360 with 1 Axes>"
      ]
     },
     "metadata": {
      "needs_background": "light"
     },
     "output_type": "display_data"
    }
   ],
   "source": [
    "dataset_train.apply(lambda x: 1 if x['is_attributed'] == 1 else 0, axis=1).plot(figsize=(20, 5))"
   ]
  },
  {
   "cell_type": "code",
   "execution_count": 65,
   "metadata": {},
   "outputs": [
    {
     "data": {
      "text/plain": [
       "<matplotlib.axes._subplots.AxesSubplot at 0x13c903198>"
      ]
     },
     "execution_count": 65,
     "metadata": {},
     "output_type": "execute_result"
    },
    {
     "data": {
      "image/png": "[encoded data removed]",
      "text/plain": [
       "<Figure size 1440x360 with 1 Axes>"
      ]
     },
     "metadata": {
      "needs_background": "light"
     },
     "output_type": "display_data"
    }
   ],
   "source": [
    "dataset_train.apply(lambda x: 1 if x['ip'] == 5314 else 0, axis=1).plot(figsize=(20, 5))"
   ]
  },
  {
   "cell_type": "code",
   "execution_count": 57,
   "metadata": {},
   "outputs": [
    {
     "data": {
      "text/plain": [
       "<matplotlib.axes._subplots.AxesSubplot at 0x139a1d710>"
      ]
     },
     "execution_count": 57,
     "metadata": {},
     "output_type": "execute_result"
    },
    {
     "data": {
      "image/png": "[encoded data removed]",
      "text/plain": [
       "<Figure size 1440x360 with 1 Axes>"
      ]
     },
     "metadata": {
      "needs_background": "light"
     },
     "output_type": "display_data"
    }
   ],
   "source": [
    "dataset_train.apply(lambda x: 1 if x['channel'] == 213 and x['app'] == 19 else 0, axis=1).plot(figsize=(20, 5))"
   ]
  },
  {
   "cell_type": "markdown",
   "metadata": {},
   "source": [
    "### Data preparation"
   ]
  },
  {
   "cell_type": "code",
   "execution_count": 44,
   "metadata": {},
   "outputs": [],
   "source": [
    "def prepare_dataset(X):\n",
    "    X['hour'] = X.index.hour\n",
    "    return X.drop(labels=['is_attributed', 'attributed_time', 'click_time'], axis=1, errors='ignore')"
   ]
  },
  {
   "cell_type": "code",
   "execution_count": 48,
   "metadata": {},
   "outputs": [],
   "source": [
    "train_y = dataset_train['is_attributed']\n",
    "train_X = prepare_dataset(dataset_train)\n",
    "\n",
    "test_y = dataset_test['is_attributed']\n",
    "test_X = prepare_dataset(dataset_test)"
   ]
  },
  {
   "cell_type": "markdown",
   "metadata": {},
   "source": [
    "Additional features that we will consider adding:\n",
    "- for each attribute number of clicks in previous N minutes with same attribute\n",
    "value\n",
    "- for each attribute time since last click with same attribute value"
   ]
  },
  {
   "cell_type": "markdown",
   "metadata": {},
   "source": [
    "### Algorithms and Techniques"
   ]
  },
  {
   "cell_type": "markdown",
   "metadata": {},
   "source": [
    "### Benchmark models\n",
    "\n",
    "For benchmark we will consider two models, one outputing constant value and second using random value from uniform distribution. Both will be evaluated on test set and the one with higher score will be used as baseline."
   ]
  },
  {
   "cell_type": "code",
   "execution_count": 8,
   "metadata": {},
   "outputs": [
    {
     "data": {
      "text/html": [
       "<div>\n",
       "<style scoped>\n",
       "    .dataframe tbody tr th:only-of-type {\n",
       "        vertical-align: middle;\n",
       "    }\n",
       "\n",
       "    .dataframe tbody tr th {\n",
       "        vertical-align: top;\n",
       "    }\n",
       "\n",
       "    .dataframe thead th {\n",
       "        text-align: right;\n",
       "    }\n",
       "</style>\n",
       "<table border=\"1\" class=\"dataframe\">\n",
       "  <thead>\n",
       "    <tr style=\"text-align: right;\">\n",
       "      <th></th>\n",
       "      <th>click_id</th>\n",
       "      <th>is_attributed</th>\n",
       "    </tr>\n",
       "  </thead>\n",
       "  <tbody>\n",
       "    <tr>\n",
       "      <th>0</th>\n",
       "      <td>0</td>\n",
       "      <td>0</td>\n",
       "    </tr>\n",
       "    <tr>\n",
       "      <th>1</th>\n",
       "      <td>1</td>\n",
       "      <td>0</td>\n",
       "    </tr>\n",
       "    <tr>\n",
       "      <th>2</th>\n",
       "      <td>2</td>\n",
       "      <td>0</td>\n",
       "    </tr>\n",
       "    <tr>\n",
       "      <th>3</th>\n",
       "      <td>3</td>\n",
       "      <td>0</td>\n",
       "    </tr>\n",
       "    <tr>\n",
       "      <th>4</th>\n",
       "      <td>4</td>\n",
       "      <td>0</td>\n",
       "    </tr>\n",
       "    <tr>\n",
       "      <th>...</th>\n",
       "      <td>...</td>\n",
       "      <td>...</td>\n",
       "    </tr>\n",
       "    <tr>\n",
       "      <th>18790464</th>\n",
       "      <td>18790464</td>\n",
       "      <td>0</td>\n",
       "    </tr>\n",
       "    <tr>\n",
       "      <th>18790465</th>\n",
       "      <td>18790465</td>\n",
       "      <td>0</td>\n",
       "    </tr>\n",
       "    <tr>\n",
       "      <th>18790466</th>\n",
       "      <td>18790467</td>\n",
       "      <td>0</td>\n",
       "    </tr>\n",
       "    <tr>\n",
       "      <th>18790467</th>\n",
       "      <td>18790466</td>\n",
       "      <td>0</td>\n",
       "    </tr>\n",
       "    <tr>\n",
       "      <th>18790468</th>\n",
       "      <td>18790468</td>\n",
       "      <td>0</td>\n",
       "    </tr>\n",
       "  </tbody>\n",
       "</table>\n",
       "<p>18790469 rows × 2 columns</p>\n",
       "</div>"
      ],
      "text/plain": [
       "          click_id  is_attributed\n",
       "0                0              0\n",
       "1                1              0\n",
       "2                2              0\n",
       "3                3              0\n",
       "4                4              0\n",
       "...            ...            ...\n",
       "18790464  18790464              0\n",
       "18790465  18790465              0\n",
       "18790466  18790467              0\n",
       "18790467  18790466              0\n",
       "18790468  18790468              0\n",
       "\n",
       "[18790469 rows x 2 columns]"
      ]
     },
     "metadata": {},
     "output_type": "display_data"
    }
   ],
   "source": [
    "benchmark_const = dataset_test[['click_id']].copy()\n",
    "benchmark_const['is_attributed'] = 0\n",
    "display(benchmark_const)"
   ]
  },
  {
   "cell_type": "code",
   "execution_count": 10,
   "metadata": {},
   "outputs": [
    {
     "data": {
      "text/html": [
       "<div>\n",
       "<style scoped>\n",
       "    .dataframe tbody tr th:only-of-type {\n",
       "        vertical-align: middle;\n",
       "    }\n",
       "\n",
       "    .dataframe tbody tr th {\n",
       "        vertical-align: top;\n",
       "    }\n",
       "\n",
       "    .dataframe thead th {\n",
       "        text-align: right;\n",
       "    }\n",
       "</style>\n",
       "<table border=\"1\" class=\"dataframe\">\n",
       "  <thead>\n",
       "    <tr style=\"text-align: right;\">\n",
       "      <th></th>\n",
       "      <th>click_id</th>\n",
       "      <th>is_attributed</th>\n",
       "    </tr>\n",
       "  </thead>\n",
       "  <tbody>\n",
       "    <tr>\n",
       "      <th>0</th>\n",
       "      <td>0</td>\n",
       "      <td>0.236820</td>\n",
       "    </tr>\n",
       "    <tr>\n",
       "      <th>1</th>\n",
       "      <td>1</td>\n",
       "      <td>0.375767</td>\n",
       "    </tr>\n",
       "    <tr>\n",
       "      <th>2</th>\n",
       "      <td>2</td>\n",
       "      <td>0.301557</td>\n",
       "    </tr>\n",
       "    <tr>\n",
       "      <th>3</th>\n",
       "      <td>3</td>\n",
       "      <td>0.351115</td>\n",
       "    </tr>\n",
       "    <tr>\n",
       "      <th>4</th>\n",
       "      <td>4</td>\n",
       "      <td>0.535482</td>\n",
       "    </tr>\n",
       "    <tr>\n",
       "      <th>...</th>\n",
       "      <td>...</td>\n",
       "      <td>...</td>\n",
       "    </tr>\n",
       "    <tr>\n",
       "      <th>18790464</th>\n",
       "      <td>18790464</td>\n",
       "      <td>0.942351</td>\n",
       "    </tr>\n",
       "    <tr>\n",
       "      <th>18790465</th>\n",
       "      <td>18790465</td>\n",
       "      <td>0.181463</td>\n",
       "    </tr>\n",
       "    <tr>\n",
       "      <th>18790466</th>\n",
       "      <td>18790467</td>\n",
       "      <td>0.227967</td>\n",
       "    </tr>\n",
       "    <tr>\n",
       "      <th>18790467</th>\n",
       "      <td>18790466</td>\n",
       "      <td>0.361438</td>\n",
       "    </tr>\n",
       "    <tr>\n",
       "      <th>18790468</th>\n",
       "      <td>18790468</td>\n",
       "      <td>0.597728</td>\n",
       "    </tr>\n",
       "  </tbody>\n",
       "</table>\n",
       "<p>18790469 rows × 2 columns</p>\n",
       "</div>"
      ],
      "text/plain": [
       "          click_id  is_attributed\n",
       "0                0       0.236820\n",
       "1                1       0.375767\n",
       "2                2       0.301557\n",
       "3                3       0.351115\n",
       "4                4       0.535482\n",
       "...            ...            ...\n",
       "18790464  18790464       0.942351\n",
       "18790465  18790465       0.181463\n",
       "18790466  18790467       0.227967\n",
       "18790467  18790466       0.361438\n",
       "18790468  18790468       0.597728\n",
       "\n",
       "[18790469 rows x 2 columns]"
      ]
     },
     "metadata": {},
     "output_type": "display_data"
    }
   ],
   "source": [
    "benchmark_rand = dataset_test[['click_id']].copy()\n",
    "benchmark_rand['is_attributed'] = np.random.uniform(size=len(benchmark_rand))\n",
    "display(benchmark_rand)"
   ]
  },
  {
   "cell_type": "code",
   "execution_count": 33,
   "metadata": {},
   "outputs": [],
   "source": [
    "# Save benchmarks for evaluation on Kaggle\n",
    "# benchmark_const.to_csv('data/benchmark_const.csv.gz',compression='gzip', index=False)\n",
    "# benchmark_rand.to_csv('data/benchmark_rand.csv.gz',compression='gzip', index=False)"
   ]
  },
  {
   "cell_type": "markdown",
   "metadata": {},
   "source": [
    "Constant model that predicts no app download scores 0.5 on Kaggle evaluator. Random model that uses uniform distribution scores 0.4995 as private score (82% of test data) and 0.5003 as public score (18% of the test data). One approach to this problem is done by [Elior Tal](https://rpubs.com/el16/410747) and his solution scores 0.825 on a subset of the test set. In his work he compares performance of random forest and boosting algorithms. We will use this as a benchmark model as it is well documented and scores better than our initial baseline models. Additionally we will use existing Kaggle solutions on the [leaderboard](https://www.kaggle.com/c/talkingdata-adtracking-fraud-detection/leaderboard ) as a supporting benchmark."
   ]
  },
  {
   "cell_type": "markdown",
   "metadata": {},
   "source": [
    "### Model training"
   ]
  },
  {
   "cell_type": "code",
   "execution_count": 46,
   "metadata": {},
   "outputs": [
    {
     "name": "stdout",
     "output_type": "stream",
     "text": [
      "LogisticRegression confusion matrix:\n",
      "        0  1\n",
      "0  998306  1\n",
      "1    1693  0\n",
      "GaussianNB confusion matrix:\n",
      "        0     1\n",
      "0  994222  4085\n",
      "1    1482   211\n",
      "DecisionTreeClassifier confusion matrix:\n",
      "        0    1\n",
      "0  997702  605\n",
      "1    1417  276\n"
     ]
    },
    {
     "data": {
      "text/html": [
       "<div>\n",
       "<style scoped>\n",
       "    .dataframe tbody tr th:only-of-type {\n",
       "        vertical-align: middle;\n",
       "    }\n",
       "\n",
       "    .dataframe tbody tr th {\n",
       "        vertical-align: top;\n",
       "    }\n",
       "\n",
       "    .dataframe thead th {\n",
       "        text-align: right;\n",
       "    }\n",
       "</style>\n",
       "<table border=\"1\" class=\"dataframe\">\n",
       "  <thead>\n",
       "    <tr style=\"text-align: right;\">\n",
       "      <th></th>\n",
       "      <th>auc</th>\n",
       "      <th>clf</th>\n",
       "    </tr>\n",
       "  </thead>\n",
       "  <tbody>\n",
       "    <tr>\n",
       "      <th>0</th>\n",
       "      <td>0.557582</td>\n",
       "      <td>LogisticRegression</td>\n",
       "    </tr>\n",
       "    <tr>\n",
       "      <th>1</th>\n",
       "      <td>0.759916</td>\n",
       "      <td>GaussianNB</td>\n",
       "    </tr>\n",
       "    <tr>\n",
       "      <th>2</th>\n",
       "      <td>0.581209</td>\n",
       "      <td>DecisionTreeClassifier</td>\n",
       "    </tr>\n",
       "  </tbody>\n",
       "</table>\n",
       "</div>"
      ],
      "text/plain": [
       "        auc                     clf\n",
       "0  0.557582      LogisticRegression\n",
       "1  0.759916              GaussianNB\n",
       "2  0.581209  DecisionTreeClassifier"
      ]
     },
     "execution_count": 46,
     "metadata": {},
     "output_type": "execute_result"
    }
   ],
   "source": [
    "from sklearn.linear_model import LogisticRegression\n",
    "from sklearn.naive_bayes import GaussianNB\n",
    "from sklearn.metrics import roc_auc_score, classification_report, confusion_matrix\n",
    "from sklearn import tree\n",
    "\n",
    "def evaluate_model(clf):\n",
    "    predicted_proba_y = clf.predict_proba(test_X)[:,1]\n",
    "    predicted_y = clf.predict(test_X)\n",
    "    clf_name = str(clf).split('(')[0]\n",
    "    print(clf_name + ' confusion matrix:')\n",
    "    print(pd.DataFrame(confusion_matrix(test_y, predicted_y)))\n",
    "    return [{'clf': clf_name,\n",
    "            'auc': roc_auc_score(test_y, predicted_proba_y)}]\n",
    "\n",
    "results = []\n",
    "for clf in [LogisticRegression(), \n",
    "            GaussianNB(), \n",
    "            tree.DecisionTreeClassifier()]:\n",
    "    clf.fit(train_X, train_y)\n",
    "    results += evaluate_model(clf)\n",
    "    \n",
    "pd.DataFrame(results)"
   ]
  },
  {
   "cell_type": "code",
   "execution_count": 9,
   "metadata": {},
   "outputs": [
    {
     "name": "stdout",
     "output_type": "stream",
     "text": [
      "GridSearchCV confusion matrix:\n",
      "        0     1\n",
      "0  994220  4087\n",
      "1    1482   211\n"
     ]
    },
    {
     "data": {
      "text/html": [
       "<div>\n",
       "<style scoped>\n",
       "    .dataframe tbody tr th:only-of-type {\n",
       "        vertical-align: middle;\n",
       "    }\n",
       "\n",
       "    .dataframe tbody tr th {\n",
       "        vertical-align: top;\n",
       "    }\n",
       "\n",
       "    .dataframe thead th {\n",
       "        text-align: right;\n",
       "    }\n",
       "</style>\n",
       "<table border=\"1\" class=\"dataframe\">\n",
       "  <thead>\n",
       "    <tr style=\"text-align: right;\">\n",
       "      <th></th>\n",
       "      <th>auc</th>\n",
       "      <th>clf</th>\n",
       "    </tr>\n",
       "  </thead>\n",
       "  <tbody>\n",
       "    <tr>\n",
       "      <th>0</th>\n",
       "      <td>0.759916</td>\n",
       "      <td>GridSearchCV</td>\n",
       "    </tr>\n",
       "  </tbody>\n",
       "</table>\n",
       "</div>"
      ],
      "text/plain": [
       "        auc           clf\n",
       "0  0.759916  GridSearchCV"
      ]
     },
     "execution_count": 9,
     "metadata": {},
     "output_type": "execute_result"
    }
   ],
   "source": [
    "# https://www.analyticsvidhya.com/blog/2018/05/improve-model-performance-cross-validation-in-python-r/\n",
    "from sklearn.model_selection import GridSearchCV, StratifiedKFold\n",
    "from sklearn.metrics import make_scorer\n",
    "from sklearn.externals import joblib\n",
    "\n",
    "def optimize_model(estimator, params, cv):\n",
    "    scorer = make_scorer(roc_auc_score)\n",
    "    gs = GridSearchCV(estimator=estimator, param_grid=params, scoring=scorer, cv=cv)\n",
    "    return gs.fit(train_X, train_y)\n",
    "\n",
    "cv = StratifiedKFold(n_splits=5, shuffle=True)\n",
    "dt_model = optimize_model(tree.DecisionTreeClassifier(), {\n",
    "        'criterion' : ['gini', 'entropy'],\n",
    "        'splitter': ['best', 'random']\n",
    "    }, cv=cv)\n",
    "\n",
    "nb_model = optimize_model(GaussianNB(), {}, cv=cv)\n",
    "\n",
    "joblib.dump(nb_model, 'final_model.joblib') \n",
    "pd.DataFrame(evaluate_model(nb_model))"
   ]
  },
  {
   "cell_type": "markdown",
   "metadata": {},
   "source": [
    "### Model evaluation"
   ]
  },
  {
   "cell_type": "code",
   "execution_count": 3,
   "metadata": {},
   "outputs": [],
   "source": [
    "dataset_test_all = pd.read_csv('data/test.csv')\n",
    "test_all_ids = dataset_test_all['click_id']\n",
    "test_all_X = prepare_dataset(dataset_test_all.drop('click_id', axis=1))"
   ]
  },
  {
   "cell_type": "code",
   "execution_count": 4,
   "metadata": {},
   "outputs": [],
   "source": [
    "from sklearn.externals import joblib\n",
    "\n",
    "clf = joblib.load('final_model.joblib') \n",
    "test_y = clf.predict_proba(test_all_X)"
   ]
  },
  {
   "cell_type": "code",
   "execution_count": 5,
   "metadata": {},
   "outputs": [],
   "source": [
    "test_result = pd.DataFrame(test_y)"
   ]
  },
  {
   "cell_type": "code",
   "execution_count": 6,
   "metadata": {},
   "outputs": [],
   "source": [
    "test_result = pd.DataFrame(test_y[:,1], columns=['is_attributed'])\n",
    "test_result['click_id'] = test_all_ids\n",
    "\n",
    "test_result.to_csv('data/test_result.csv.gz',compression='gzip', index=False)"
   ]
  }
 ],
 "metadata": {
  "kernelspec": {
   "display_name": "Python 3",
   "language": "python",
   "name": "python3"
  },
  "language_info": {
   "codemirror_mode": {
    "name": "ipython",
    "version": 3
   },
   "file_extension": ".py",
   "mimetype": "text/x-python",
   "name": "python",
   "nbconvert_exporter": "python",
   "pygments_lexer": "ipython3",
   "version": "3.7.0"
  }
 },
 "nbformat": 4,
 "nbformat_minor": 2
}
